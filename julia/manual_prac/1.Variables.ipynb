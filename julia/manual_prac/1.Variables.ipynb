{
 "cells": [
  {
   "cell_type": "code",
   "execution_count": 26,
   "metadata": {},
   "outputs": [
    {
     "name": "stdout",
     "output_type": "stream",
     "text": [
      "Int64String"
     ]
    }
   ],
   "source": [
    "# 인트형 변수에 string 할당가능 (변수 타입 자동변환) \n",
    "x = 1 #\n",
    "print(typeof(x))\n",
    "x = \"hello\"\n",
    "print(typeof(x))"
   ]
  },
  {
   "cell_type": "code",
   "execution_count": 27,
   "metadata": {},
   "outputs": [
    {
     "name": "stdout",
     "output_type": "stream",
     "text": [
      "0.001\n",
      "Hello"
     ]
    }
   ],
   "source": [
    "# Unicode 네임 지원\n",
    "δ = 0.001\n",
    "println(δ)\n",
    "안녕 = \"Hello\"\n",
    "print(안녕)"
   ]
  },
  {
   "cell_type": "code",
   "execution_count": 30,
   "metadata": {},
   "outputs": [
    {
     "ename": "ErrorException",
     "evalue": "cannot assign a value to variable MathConstants.pi from module Main",
     "output_type": "error",
     "traceback": [
      "cannot assign a value to variable MathConstants.pi from module Main\n",
      "\n",
      "Stacktrace:\n",
      " [1] top-level scope\n",
      "   @ /media/tekim/data/tekim/datapython/julia/manual_prac/1.Variables.ipynb:2"
     ]
    }
   ],
   "source": [
    "# 빌트인된 상수 재정의 가능하고, 사용 중이면 재정의 불가 => ipynb 에서 재정의는 불가(.jl에서만 가능)\n",
    "pi = 3 # error"
   ]
  },
  {
   "cell_type": "code",
   "execution_count": 35,
   "metadata": {},
   "outputs": [
    {
     "data": {
      "text/plain": [
       "(1, 2)"
      ]
     },
     "metadata": {},
     "output_type": "display_data"
    }
   ],
   "source": [
    "x , ___ = 1,2\n",
    "\n",
    "# y = ___ error"
   ]
  },
  {
   "cell_type": "code",
   "execution_count": 36,
   "metadata": {},
   "outputs": [
    {
     "ename": "ErrorException",
     "evalue": "syntax: unexpected \"else\"",
     "output_type": "error",
     "traceback": [
      "syntax: unexpected \"else\"\n",
      "\n",
      "Stacktrace:\n",
      " [1] top-level scope\n",
      "   @ /media/tekim/data/tekim/datapython/julia/manual_prac/1.Variables.ipynb:1"
     ]
    }
   ],
   "source": [
    "# 연산자도 재정의 가능\n",
    "# jl 파일에서는 + = 1, 가능 \n"
   ]
  },
  {
   "cell_type": "code",
   "execution_count": null,
   "metadata": {},
   "outputs": [],
   "source": [
    "# 따라서 변수명으로 허용되지 않는 것은 기본 제공되는 키워드 뿐이다.\n",
    "# ex) else, try ... 등\n"
   ]
  },
  {
   "cell_type": "markdown",
   "metadata": {},
   "source": [
    "### 줄리아 변수이름 관습\n",
    "\n",
    "변수 이름 기본적으로 소문자\n",
    "_ 언더바사용은 자제 \n",
    "타입이나 모듈의 이름은 대문자 시작 후 밑줄대신 카멜표기법\n",
    "함수나 매크로는 소문자\n",
    "아규먼트로 쓰이는 함수는 !로 끝난 이름을 가짐. 값의 호출이 아니라 아규먼트의 변화를 위한 것이기에 mutating, in-place 함수로 부름\n",
    "\n",
    "\n"
   ]
  },
  {
   "cell_type": "code",
   "execution_count": 40,
   "metadata": {},
   "outputs": [
    {
     "data": {
      "text/plain": [
       "1"
      ]
     },
     "metadata": {},
     "output_type": "display_data"
    }
   ],
   "source": [
    "FEAFA"
   ]
  },
  {
   "cell_type": "code",
   "execution_count": null,
   "metadata": {},
   "outputs": [],
   "source": []
  }
 ],
 "metadata": {
  "kernelspec": {
   "display_name": "Julia 1.8.2",
   "language": "julia",
   "name": "julia-1.8"
  },
  "language_info": {
   "file_extension": ".jl",
   "mimetype": "application/julia",
   "name": "julia",
   "version": "1.8.2"
  },
  "orig_nbformat": 4,
  "vscode": {
   "interpreter": {
    "hash": "36bce201ba8f140eda58533263cba083ed50f7ccb6362474c2bb3af1505a300c"
   }
  }
 },
 "nbformat": 4,
 "nbformat_minor": 2
}
