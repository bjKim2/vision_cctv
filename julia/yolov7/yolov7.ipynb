{
 "cells": [
  {
   "cell_type": "code",
   "execution_count": 3,
   "metadata": {},
   "outputs": [],
   "source": [
    "using Pkg\n",
    "using Flux\n",
    "using YAML"
   ]
  },
  {
   "cell_type": "code",
   "execution_count": 4,
   "metadata": {},
   "outputs": [
    {
     "data": {
      "text/plain": [
       "Dict{Any, Any} with 6 entries:\n",
       "  \"anchors\"        => [[12, 16, 19, 36, 40, 28], [36, 75, 76, 55, 72, 146], [14…\n",
       "  \"head\"           => Vector{Any}[[-1, 1, \"SPPCSPC\", [512]], [-1, 1, \"Conv\", [2…\n",
       "  \"nc\"             => 80\n",
       "  \"depth_multiple\" => 1.0\n",
       "  \"backbone\"       => Vector{Any}[[-1, 1, \"Conv\", [32, 3, 1]], [-1, 1, \"Conv\", …\n",
       "  \"width_multiple\" => 1.0"
      ]
     },
     "metadata": {},
     "output_type": "display_data"
    }
   ],
   "source": [
    "yolov7_yaml = YAML.load_file(\"/mnt/ssd2/tekim/temp/yolov7/cfg/training/yolov7.yaml\")"
   ]
  },
  {
   "cell_type": "code",
   "execution_count": 98,
   "metadata": {},
   "outputs": [
    {
     "data": {
      "text/plain": [
       "2"
      ]
     },
     "metadata": {},
     "output_type": "display_data"
    }
   ],
   "source": [
    "list01 = [1,2,3]\n",
    "list01[end]"
   ]
  },
  {
   "cell_type": "code",
   "execution_count": 106,
   "metadata": {},
   "outputs": [
    {
     "data": {
      "text/plain": [
       "silu (generic function with 1 method)"
      ]
     },
     "metadata": {},
     "output_type": "display_data"
    }
   ],
   "source": [
    "function silu(x)\n",
    "    return x / (1 + exp(-x))\n",
    "end"
   ]
  },
  {
   "cell_type": "code",
   "execution_count": 142,
   "metadata": {},
   "outputs": [
    {
     "data": {
      "text/plain": [
       "1-element Vector{Any}:\n",
       " 0.8807970779778823"
      ]
     },
     "metadata": {},
     "output_type": "display_data"
    }
   ],
   "source": [
    "function abc(x)\n",
    "    return x[1] / (1 + exp(-x[2]))\n",
    "end\n",
    "\n",
    "append!(list01, abc([1,2]))"
   ]
  },
  {
   "cell_type": "code",
   "execution_count": 249,
   "metadata": {},
   "outputs": [
    {
     "name": "stdout",
     "output_type": "stream",
     "text": [
      "4"
     ]
    }
   ],
   "source": [
    "a = Nothing\n",
    "if a != Nothing c = 3; print(c) else c = 4; print(c) end \n",
    "# else print(\"aa\")"
   ]
  },
  {
   "cell_type": "code",
   "execution_count": 231,
   "metadata": {},
   "outputs": [
    {
     "data": {
      "text/plain": [
       "2"
      ]
     },
     "metadata": {},
     "output_type": "display_data"
    }
   ],
   "source": [
    "5 ÷ 2"
   ]
  },
  {
   "cell_type": "code",
   "execution_count": 250,
   "metadata": {},
   "outputs": [
    {
     "data": {
      "text/plain": [
       "Conv1 (generic function with 1 method)"
      ]
     },
     "metadata": {},
     "output_type": "display_data"
    }
   ],
   "source": [
    "function autopad(k,p=Nothing)\n",
    "    if p == Nothing    \n",
    "        if k isa Number p = k ÷ 2 else p = [x ÷ 2 for x in k] end\n",
    "    end\n",
    "    return p\n",
    "end\n",
    "\n",
    "function Conv1(args)\n",
    "    return Chain(\n",
    "        Conv((args[3],args[3]) , args[1] => args[2], stride = args[4],pad= autopad(args[3])),\n",
    "        BatchNorm(64, silu)\n",
    "    )\n",
    "end\n",
    "\n",
    "function SPPCASPC(args)\n",
    "    return Chain(\n",
    "        Conv1([args[1],args[1],1,1]),\n",
    "        Conv1([args[1],args[1],1,1]),\n",
    "        Conv1([args[1],args[1],3,1]),\n",
    "        Conv1([args[1],args[1],1,1]),\n",
    "        MaxPool((5,5),stride=1,pad = 5 ÷ 2),\n",
    "        MaxPool((9,9),stride=1,pad = 9 ÷ 2),\n",
    "        MaxPool((13,13),stride=1,pad = 13 ÷ 2),\n",
    "        Conv1([4 * args[1],args[1],1,1]),\n",
    "        Conv1([args[1],args[1],3,1]),\n",
    "        Conv1([2 * args[1],args[2],1,1])\n",
    "    )\n",
    "end\n"
   ]
  },
  {
   "cell_type": "code",
   "execution_count": 234,
   "metadata": {},
   "outputs": [
    {
     "ename": "UndefVarError",
     "evalue": "UndefVarError: autopad not defined",
     "output_type": "error",
     "traceback": [
      "UndefVarError: autopad not defined\n",
      "\n",
      "Stacktrace:\n",
      " [1] top-level scope\n",
      "   @ ~/vision_cctv/julia/yolov7/yolov7.ipynb:1"
     ]
    }
   ],
   "source": [
    "autopad(1)"
   ]
  },
  {
   "cell_type": "code",
   "execution_count": 184,
   "metadata": {},
   "outputs": [
    {
     "name": "stdout",
     "output_type": "stream",
     "text": [
      "Set(Any[\"Concat\", \"IDetect\", \"SPPCSPC\", \"nn.Upsample\", \"RepConv\", \"Conv\", \"MP\"])"
     ]
    }
   ],
   "source": [
    "\n",
    "ch = [3]\n",
    "net_list = []\n",
    "count = 0\n",
    "\n",
    "list01 = Vector{Any}()\n",
    "c2 = ch[end]\n",
    "for i in [yolov7_yaml[\"backbone\"]; yolov7_yaml[\"head\"]]\n",
    "    count += 1\n",
    "    f, n, m, args = i[1], i[2], i[3], i[4]\n",
    "    f = parse(Int64,\"-1\") + 1\n",
    "    # if length(args) >=1 && args[1] isa Number\n",
    "    # end\n",
    "    append!(net_list, [m])\n",
    "\n",
    "    if m in [\"Conv\"]\n",
    "        append!(list01, [Conv1(args)])\n",
    "        c1, c2 = ch[end + f], args[1]\n",
    "        args = [[c1,c2]; [i for i in args[1:end]]]\n",
    "        \n",
    "    elseif\n",
    "    \n",
    "    end\n",
    "    # print(typeof(m))\n",
    "    \n",
    "    if count == length([yolov7_yaml[\"backbone\"]; yolov7_yaml[\"head\"]])\n",
    "        # print(list01)\n",
    "        # print(typeof(list01))\n",
    "        # print(typeof(args))\n",
    "        print(Set(net_list))\n",
    "    end\n",
    "\n",
    "    if count == 1\n",
    "        ch = []\n",
    "        \n",
    "    end\n",
    "    # ch.append(c2)\n",
    "end"
   ]
  },
  {
   "cell_type": "code",
   "execution_count": null,
   "metadata": {},
   "outputs": [],
   "source": []
  }
 ],
 "metadata": {
  "kernelspec": {
   "display_name": "Julia 1.8.2",
   "language": "julia",
   "name": "julia-1.8"
  },
  "language_info": {
   "file_extension": ".jl",
   "mimetype": "application/julia",
   "name": "julia",
   "version": "1.8.2"
  },
  "orig_nbformat": 4
 },
 "nbformat": 4,
 "nbformat_minor": 2
}
