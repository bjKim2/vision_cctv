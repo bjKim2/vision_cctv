{
 "cells": [
  {
   "cell_type": "code",
   "execution_count": 3,
   "metadata": {},
   "outputs": [],
   "source": [
    "using Pkg\n",
    "using Flux\n",
    "using YAML"
   ]
  },
  {
   "cell_type": "code",
   "execution_count": 4,
   "metadata": {},
   "outputs": [
    {
     "data": {
      "text/plain": [
       "Dict{Any, Any} with 6 entries:\n",
       "  \"anchors\"        => [[12, 16, 19, 36, 40, 28], [36, 75, 76, 55, 72, 146], [14…\n",
       "  \"head\"           => Vector{Any}[[-1, 1, \"SPPCSPC\", [512]], [-1, 1, \"Conv\", [2…\n",
       "  \"nc\"             => 80\n",
       "  \"depth_multiple\" => 1.0\n",
       "  \"backbone\"       => Vector{Any}[[-1, 1, \"Conv\", [32, 3, 1]], [-1, 1, \"Conv\", …\n",
       "  \"width_multiple\" => 1.0"
      ]
     },
     "metadata": {},
     "output_type": "display_data"
    }
   ],
   "source": [
    "yolov7_yaml = YAML.load_file(\"/mnt/ssd2/tekim/temp/yolov7/cfg/training/yolov7.yaml\")"
   ]
  },
  {
   "cell_type": "code",
   "execution_count": 98,
   "metadata": {},
   "outputs": [
    {
     "data": {
      "text/plain": [
       "2"
      ]
     },
     "metadata": {},
     "output_type": "display_data"
    }
   ],
   "source": [
    "list01 = [1,2,3]\n",
    "list01[end]"
   ]
  },
  {
   "cell_type": "code",
   "execution_count": 106,
   "metadata": {},
   "outputs": [
    {
     "data": {
      "text/plain": [
       "silu (generic function with 1 method)"
      ]
     },
     "metadata": {},
     "output_type": "display_data"
    }
   ],
   "source": [
    "function silu(x)\n",
    "    return x / (1 + exp(-x))\n",
    "end"
   ]
  },
  {
   "cell_type": "code",
   "execution_count": 131,
   "metadata": {},
   "outputs": [
    {
     "data": {
      "text/plain": [
       "Conv"
      ]
     },
     "metadata": {},
     "output_type": "display_data"
    }
   ],
   "source": [
    "function Conv(args)\n",
    "    return 1\n",
    "    # return Chain(\n",
    "    #     Conv2d((args[2],arg[2]),3 => args[1],stride=args[3]),\n",
    "    #     BatchNorm(64, silu)\n",
    "    # )\n",
    "end"
   ]
  },
  {
   "cell_type": "code",
   "execution_count": 132,
   "metadata": {},
   "outputs": [
    {
     "data": {
      "text/plain": [
       "Chain(\n",
       "  Conv((3, 3), 10 => 64, 1),            \u001b[90m# 5_824 parameters\u001b[39m\n",
       "  BatchNorm(64, silu),                  \u001b[90m# 128 parameters\u001b[39m\u001b[90m, plus 128\u001b[39m\n",
       ") \u001b[90m        # Total: 4 trainable arrays, \u001b[39m5_952 parameters,\n",
       "\u001b[90m          # plus 2 non-trainable, 128 parameters, summarysize \u001b[39m24.352 KiB."
      ]
     },
     "metadata": {},
     "output_type": "display_data"
    }
   ],
   "source": [
    "model = Chain(\n",
    "    Conv((3,3), 10 => 64 , 1),\n",
    "    BatchNorm(64, silu)\n",
    ")"
   ]
  },
  {
   "cell_type": "code",
   "execution_count": 53,
   "metadata": {},
   "outputs": [
    {
     "data": {
      "text/plain": [
       "false"
      ]
     },
     "metadata": {},
     "output_type": "display_data"
    }
   ],
   "source": [
    "\"awe\" isa Number"
   ]
  },
  {
   "cell_type": "code",
   "execution_count": 135,
   "metadata": {},
   "outputs": [
    {
     "name": "stdout",
     "output_type": "stream",
     "text": [
      "[32, 3, 1]Vector{Int64}"
     ]
    },
    {
     "ename": "ArgumentError",
     "evalue": "ArgumentError: tuple length should be ≥ 0, got -1",
     "output_type": "error",
     "traceback": [
      "ArgumentError: tuple length should be ≥ 0, got -1\n",
      "\n",
      "Stacktrace:\n",
      " [1] macro expansion\n",
      "   @ ./ntuple.jl:71 [inlined]\n",
      " [2] ntuple\n",
      "   @ ./ntuple.jl:69 [inlined]\n",
      " [3] expand(N::Val{-1}, i::Int64)\n",
      "   @ Flux ~/.julia/packages/Flux/nJ0IB/src/layers/conv.jl:7\n",
      " [4] Conv(w::Vector{Int64}, b::Bool, σ::Function; stride::Int64, pad::Int64, dilation::Int64, groups::Int64)\n",
      "   @ Flux ~/.julia/packages/Flux/nJ0IB/src/layers/conv.jl:156\n",
      " [5] Conv(w::Vector{Int64}, b::Bool, σ::Function) (repeats 2 times)\n",
      "   @ Flux ~/.julia/packages/Flux/nJ0IB/src/layers/conv.jl:152\n",
      " [6] top-level scope\n",
      "   @ ~/vision_cctv/julia/yolov7/yolov7.ipynb:14"
     ]
    }
   ],
   "source": [
    "ch = [3]\n",
    "count = 0\n",
    "list01 = Vector{Any}()\n",
    "for i in [yolov7_yaml[\"backbone\"]; yolov7_yaml[\"head\"]]\n",
    "    count += 1\n",
    "    f, n, m, args = i[1], i[2], i[3], i[4]\n",
    "\n",
    "    if length(args) >=1 && args[1] isa Number\n",
    "        if m in [\"Conv\"]\n",
    "            # print(typeof((ch,args)))\n",
    "            print(args)\n",
    "            print(typeof(args))\n",
    "            append!(list01, [Conv(args)])\n",
    "        end\n",
    "    end\n",
    "    # print(typeof(m))\n",
    "    \n",
    "    if count == length([yolov7_yaml[\"backbone\"]; yolov7_yaml[\"head\"]])\n",
    "        print(list01)\n",
    "        print(typeof(list01))\n",
    "        print(typeof(args))\n",
    "    end\n",
    "\n",
    "    if count == 1\n",
    "        ch = []\n",
    "    end\n",
    "end"
   ]
  },
  {
   "cell_type": "code",
   "execution_count": null,
   "metadata": {},
   "outputs": [],
   "source": []
  }
 ],
 "metadata": {
  "kernelspec": {
   "display_name": "Julia 1.8.2",
   "language": "julia",
   "name": "julia-1.8"
  },
  "language_info": {
   "file_extension": ".jl",
   "mimetype": "application/julia",
   "name": "julia",
   "version": "1.8.2"
  },
  "orig_nbformat": 4
 },
 "nbformat": 4,
 "nbformat_minor": 2
}
