{
 "cells": [
  {
   "cell_type": "code",
   "execution_count": 1,
   "metadata": {},
   "outputs": [
    {
     "ename": "ArgumentError",
     "evalue": "ArgumentError: Package Parameters not found in current path.\n- Run `import Pkg; Pkg.add(\"Parameters\")` to install the Parameters package.",
     "output_type": "error",
     "traceback": [
      "ArgumentError: Package Parameters not found in current path.\n",
      "- Run `import Pkg; Pkg.add(\"Parameters\")` to install the Parameters package.\n",
      "\n",
      "Stacktrace:\n",
      "  [1] macro expansion\n",
      "    @ ./loading.jl:1163 [inlined]\n",
      "  [2] macro expansion\n",
      "    @ ./lock.jl:223 [inlined]\n",
      "  [3] require(into::Module, mod::Symbol)\n",
      "    @ Base ./loading.jl:1144\n",
      "  [4] eval\n",
      "    @ ./boot.jl:368 [inlined]\n",
      "  [5] include_string(mapexpr::typeof(REPL.softscope), mod::Module, code::String, filename::String)\n",
      "    @ Base ./loading.jl:1428\n",
      "  [6] #invokelatest#2\n",
      "    @ ./essentials.jl:729 [inlined]\n",
      "  [7] invokelatest\n",
      "    @ ./essentials.jl:726 [inlined]\n",
      "  [8] (::VSCodeServer.var\"#198#199\"{VSCodeServer.NotebookRunCellArguments, String})()\n",
      "    @ VSCodeServer ~/.vscode/extensions/julialang.language-julia-1.38.2/scripts/packages/VSCodeServer/src/serve_notebook.jl:19\n",
      "  [9] withpath(f::VSCodeServer.var\"#198#199\"{VSCodeServer.NotebookRunCellArguments, String}, path::String)\n",
      "    @ VSCodeServer ~/.vscode/extensions/julialang.language-julia-1.38.2/scripts/packages/VSCodeServer/src/repl.jl:249\n",
      " [10] notebook_runcell_request(conn::VSCodeServer.JSONRPC.JSONRPCEndpoint{Base.PipeEndpoint, Base.PipeEndpoint}, params::VSCodeServer.NotebookRunCellArguments)\n",
      "    @ VSCodeServer ~/.vscode/extensions/julialang.language-julia-1.38.2/scripts/packages/VSCodeServer/src/serve_notebook.jl:13\n",
      " [11] dispatch_msg(x::VSCodeServer.JSONRPC.JSONRPCEndpoint{Base.PipeEndpoint, Base.PipeEndpoint}, dispatcher::VSCodeServer.JSONRPC.MsgDispatcher, msg::Dict{String, Any})\n",
      "    @ VSCodeServer.JSONRPC ~/.vscode/extensions/julialang.language-julia-1.38.2/scripts/packages/JSONRPC/src/typed.jl:67\n",
      " [12] serve_notebook(pipename::String, outputchannel_logger::Base.CoreLogging.SimpleLogger; crashreporting_pipename::String)\n",
      "    @ VSCodeServer ~/.vscode/extensions/julialang.language-julia-1.38.2/scripts/packages/VSCodeServer/src/serve_notebook.jl:139\n",
      " [13] top-level scope\n",
      "    @ ~/.vscode/extensions/julialang.language-julia-1.38.2/scripts/notebook/notebook.jl:32"
     ]
    }
   ],
   "source": [
    "using Flux, MLDatasets, Statistics\n",
    "using Flux: onehotbatch, onecold, logitcrossentropy\n",
    "using Flux.Data: DataLoader\n",
    "using MLDatasets: MNIST\n",
    "using Base.Iterators: partition\n",
    "using Printf, BSON\n",
    "using Parameters: @with_kw\n",
    "using CUDA\n",
    "CUDA.allowscalar(false)"
   ]
  },
  {
   "cell_type": "code",
   "execution_count": 2,
   "metadata": {},
   "outputs": [
    {
     "ename": "LoadError",
     "evalue": "LoadError: UndefVarError: @with_kw not defined\nin expression starting at /home/tekim/vision_cctv/julia/prac1.ipynb:1",
     "output_type": "error",
     "traceback": [
      "LoadError: UndefVarError: @with_kw not defined\n",
      "in expression starting at /home/tekim/vision_cctv/julia/prac1.ipynb:1\n"
     ]
    }
   ],
   "source": [
    "@with_kw mutable struct Args\n",
    "    lr::Float64 = 3e-3\n",
    "    epochs::Int = 100\n",
    "    batch_size = 128\n",
    "    savepath::String = \"./\"\n",
    " end"
   ]
  },
  {
   "cell_type": "code",
   "execution_count": 3,
   "metadata": {},
   "outputs": [
    {
     "name": "stdout",
     "output_type": "stream",
     "text": [
      "1.02.03.0"
     ]
    }
   ],
   "source": [
    "for i in 1:3\n",
    "    print(Float32.(i))\n",
    "end"
   ]
  },
  {
   "cell_type": "code",
   "execution_count": 45,
   "metadata": {},
   "outputs": [
    {
     "data": {
      "text/plain": [
       "make_minibatch (generic function with 1 method)"
      ]
     },
     "metadata": {},
     "output_type": "display_data"
    }
   ],
   "source": [
    "function make_minibatch(X, Y, idxs)\n",
    "    X_batch = Array{Float32}(undef, size(X)[1:end-1]..., 1, length(idxs))\n",
    "    for i in 1:length(idxs)\n",
    "        X_batch[:, :, :, i] = Float32.(X[:,:,idxs[i]])\n",
    "    end\n",
    "    Y_batch = onehotbatch(Y[idxs], 0:9)\n",
    "    return (X_batch, Y_batch)\n",
    " end"
   ]
  },
  {
   "cell_type": "code",
   "execution_count": 46,
   "metadata": {},
   "outputs": [
    {
     "data": {
      "text/plain": [
       "(features = [0.0 0.0 … 0.0 0.0; 0.0 0.0 … 0.0 0.0; … ; 0.0 0.0 … 0.0 0.0; 0.0 0.0 … 0.0 0.0;;; 0.0 0.0 … 0.0 0.0; 0.0 0.0 … 0.0 0.0; … ; 0.0 0.0 … 0.0 0.0; 0.0 0.0 … 0.0 0.0;;; 0.0 0.0 … 0.0 0.0; 0.0 0.0 … 0.0 0.0; … ; 0.0 0.0 … 0.0 0.0; 0.0 0.0 … 0.0 0.0;;; … ;;; 0.0 0.0 … 0.0 0.0; 0.0 0.0 … 0.0 0.0; … ; 0.0 0.0 … 0.0 0.0; 0.0 0.0 … 0.0 0.0;;; 0.0 0.0 … 0.0 0.0; 0.0 0.0 … 0.0 0.0; … ; 0.0 0.0 … 0.0 0.0; 0.0 0.0 … 0.0 0.0;;; 0.0 0.0 … 0.0 0.0; 0.0 0.0 … 0.0 0.0; … ; 0.0 0.0 … 0.0 0.0; 0.0 0.0 … 0.0 0.0], targets = [5, 0, 4, 1, 9, 2, 1, 3, 1, 4  …  9, 2, 9, 5, 1, 8, 3, 5, 6, 8])"
      ]
     },
     "metadata": {},
     "output_type": "display_data"
    }
   ],
   "source": [
    "train_imgs, train_labels = MNIST(split=:train)[:]"
   ]
  },
  {
   "cell_type": "code",
   "execution_count": 49,
   "metadata": {},
   "outputs": [
    {
     "ename": "ErrorException",
     "evalue": "type Array has no field nobs",
     "output_type": "error",
     "traceback": [
      "type Array has no field nobs\n",
      "\n",
      "Stacktrace:\n",
      " [1] getproperty(x::Array{Float32, 3}, f::Symbol)\n",
      "   @ Base .\\Base.jl:38\n",
      " [2] top-level scope\n",
      "   @ c:\\Users\\rlaxo\\vision_cctv\\julia\\prac1.ipynb:2"
     ]
    }
   ],
   "source": [
    "x = DataLoader(train_imgs)"
   ]
  },
  {
   "cell_type": "code",
   "execution_count": 37,
   "metadata": {},
   "outputs": [
    {
     "data": {
      "text/plain": [
       "get_processed_data (generic function with 1 method)"
      ]
     },
     "metadata": {},
     "output_type": "display_data"
    }
   ],
   "source": [
    "function get_processed_data(args)\n",
    "    # Load labels and images\n",
    "    train_imgs, train_labels = MNIST(split=:train)[:]\n",
    "    mb_idxs = partition(1:length(train_labels), args.batch_size)\n",
    "    train_set = [make_minibatch(train_imgs, train_labels, i) for i in mb_idxs]\n",
    "   \n",
    "    # Prepare test set as one giant minibatch:\n",
    "    test_imgs, test_labels = MNIST(split=:test)[:]\n",
    "    test_set = make_minibatch(test_imgs, test_labels, 1:length(test_labels))\n",
    "  \n",
    "    return train_set, test_set\n",
    "  \n",
    " end"
   ]
  },
  {
   "cell_type": "code",
   "execution_count": 38,
   "metadata": {},
   "outputs": [
    {
     "data": {
      "text/plain": [
       "build_model (generic function with 1 method)"
      ]
     },
     "metadata": {},
     "output_type": "display_data"
    }
   ],
   "source": [
    "function build_model(args; imgsize = (28,28,1), nclasses = 10)\n",
    "    cnn_output_size = Int.(floor.([imgsize[1]/8,imgsize[2]/8,32])) \n",
    "  \n",
    "    return Chain(\n",
    "    # First convolution, operating upon a 28x28 image\n",
    "    Conv((3, 3), imgsize[3]=>16, pad=(1,1), relu),\n",
    "    MaxPool((2,2)),\n",
    "  \n",
    "    # Second convolution, operating upon a 14x14 image\n",
    "    Conv((3, 3), 16=>32, pad=(1,1), relu),\n",
    "    MaxPool((2,2)),\n",
    "  \n",
    "    # Third convolution, operating upon a 7x7 image\n",
    "    Conv((3, 3), 32=>32, pad=(1,1), relu),\n",
    "    MaxPool((2,2)),\n",
    "  \n",
    "    # Reshape 3d array into a 2d one using `Flux.flatten`, at this point it should be (3, 3, 32, N)\n",
    "    flatten,\n",
    "    Dense(prod(cnn_output_size), 10))\n",
    " end"
   ]
  },
  {
   "cell_type": "code",
   "execution_count": 39,
   "metadata": {},
   "outputs": [
    {
     "data": {
      "text/plain": [
       "train (generic function with 1 method)"
      ]
     },
     "metadata": {},
     "output_type": "display_data"
    }
   ],
   "source": [
    "augment(x) = x .+ gpu(0.1f0*randn(eltype(x), size(x)))\n",
    "anynan(x) = any(y -> any(isnan, y), x)\n",
    "accuracy(x, y, model) = mean(onecold(cpu(model(x))) .== onecold(cpu(y)))\n",
    "\n",
    "\n",
    "function train(; kws...)   \n",
    "   args = Args(; kws...)\n",
    " \n",
    "   @info(\"Loading data set\")\n",
    "   train_set, test_set = get_processed_data(args)\n",
    " \n",
    "   # Define our model.  We will use a simple convolutional architecture with\n",
    "   # three iterations of Conv -> ReLU -> MaxPool, followed by a final Dense layer.\n",
    "   @info(\"Building model...\")\n",
    "   model = build_model(args)\n",
    " \n",
    "   # Load model and datasets onto GPU, if enabled\n",
    "   train_set = gpu.(train_set)\n",
    "   test_set = gpu.(test_set)\n",
    "   model = gpu(model)\n",
    "  \n",
    "   # Make sure our model is nicely precompiled before starting our training loop\n",
    "   model(train_set[1][1])\n",
    " \n",
    "   # `loss()` calculates the crossentropy loss between our prediction `y_hat`\n",
    "   # (calculated from `model(x)`) and the ground truth `y`.  We augment the data\n",
    "   # a bit, adding gaussian random noise to our image to make it more robust.\n",
    "   function loss(x, y)   \n",
    "       x̂ = augment(x)\n",
    "       ŷ = model(x̂)\n",
    "       return logitcrossentropy(ŷ, y)\n",
    "   end\n",
    "  \n",
    "   # Train our model with the given training set using the ADAM optimizer and\n",
    "   # printing out performance against the test set as we go.\n",
    "   opt = ADAM(args.lr)\n",
    "  \n",
    "   @info(\"Beginning training loop...\")\n",
    "   best_acc = 0.0\n",
    "   last_improvement = 0\n",
    "   for epoch_idx in 1:args.epochs\n",
    "       # Train for a single epoch\n",
    "       Flux.train!(loss, params(model), train_set, opt)\n",
    "      \n",
    "       # Terminate on NaN\n",
    "       if anynan(Flux.params(model))\n",
    "           @error \"NaN params\"\n",
    "           break\n",
    "       end\n",
    "  \n",
    "       # Calculate accuracy:\n",
    "       acc = accuracy(test_set..., model)\n",
    "      \n",
    "       @info(@sprintf(\"[%d]: Test accuracy: %.4f\", epoch_idx, acc))\n",
    "       # If our accuracy is good enough, quit out.\n",
    "       if acc >= 0.999\n",
    "           @info(\" -> Early-exiting: We reached our target accuracy of 99.9%\")\n",
    "           break\n",
    "       end\n",
    "  \n",
    "       # If this is the best accuracy we've seen so far, save the model out\n",
    "       if acc >= best_acc\n",
    "           @info(\" -> New best accuracy! Saving model out to mnist_conv.bson\")\n",
    "           BSON.@save joinpath(args.savepath, \"mnist_conv.bson\") params=cpu.(params(model)) epoch_idx acc\n",
    "           best_acc = acc\n",
    "           last_improvement = epoch_idx\n",
    "       end\n",
    "  \n",
    "       # If we haven't seen improvement in 5 epochs, drop our learning rate:\n",
    "       if epoch_idx - last_improvement >= 5 && opt.eta > 1e-6\n",
    "           opt.eta /= 10.0\n",
    "           @warn(\" -> Haven't improved in a while, dropping learning rate to $(opt.eta)!\")\n",
    " \n",
    "           # After dropping learning rate, give it a few epochs to improve\n",
    "           last_improvement = epoch_idx\n",
    "       end\n",
    "  \n",
    "       if epoch_idx - last_improvement >= 10\n",
    "           @warn(\" -> We're calling this converged.\")\n",
    "           break\n",
    "       end\n",
    "   end\n",
    "end"
   ]
  },
  {
   "cell_type": "code",
   "execution_count": 40,
   "metadata": {},
   "outputs": [
    {
     "data": {
      "text/plain": [
       "test (generic function with 1 method)"
      ]
     },
     "metadata": {},
     "output_type": "display_data"
    }
   ],
   "source": [
    "function test(; kws...)\n",
    "    args = Args(; kws...)\n",
    "   \n",
    "    # Loading the test data\n",
    "    _,test_set = get_processed_data(args)\n",
    "   \n",
    "    # Re-constructing the model with random initial weights\n",
    "    model = build_model(args)\n",
    "   \n",
    "    # Loading the saved parameters\n",
    "    BSON.@load joinpath(args.savepath, \"mnist_conv.bson\") params\n",
    "   \n",
    "    # Loading parameters onto the model\n",
    "    Flux.loadparams!(model, params)\n",
    "   \n",
    "    test_set = gpu.(test_set)\n",
    "    model = gpu(model)\n",
    "    @show accuracy(test_set...,model)\n",
    " end"
   ]
  },
  {
   "cell_type": "code",
   "execution_count": 41,
   "metadata": {},
   "outputs": [
    {
     "name": "stderr",
     "output_type": "stream",
     "text": [
      "┌ Info: Loading data set\n",
      "└ @ Main c:\\Users\\rlaxo\\vision_cctv\\julia\\prac1.ipynb:9\n"
     ]
    },
    {
     "name": "stderr",
     "output_type": "stream",
     "text": [
      "┌ Info: Building model...\n",
      "└ @ Main c:\\Users\\rlaxo\\vision_cctv\\julia\\prac1.ipynb:14\n"
     ]
    },
    {
     "ename": "UndefVarError",
     "evalue": "UndefVarError: flatten not defined",
     "output_type": "error",
     "traceback": [
      "UndefVarError: flatten not defined\n",
      "\n",
      "Stacktrace:\n",
      " [1] build_model(args::Args; imgsize::Tuple{Int64, Int64, Int64}, nclasses::Int64)\n",
      "   @ Main c:\\Users\\rlaxo\\vision_cctv\\julia\\prac1.ipynb:4\n",
      " [2] build_model\n",
      "   @ c:\\Users\\rlaxo\\vision_cctv\\julia\\prac1.ipynb:1 [inlined]\n",
      " [3] train(; kws::Base.Pairs{Symbol, Union{}, Tuple{}, NamedTuple{(), Tuple{}}})\n",
      "   @ Main c:\\Users\\rlaxo\\vision_cctv\\julia\\prac1.ipynb:15\n",
      " [4] train()\n",
      "   @ Main c:\\Users\\rlaxo\\vision_cctv\\julia\\prac1.ipynb:6\n",
      " [5] top-level scope\n",
      "   @ c:\\Users\\rlaxo\\vision_cctv\\julia\\prac1.ipynb:1"
     ]
    }
   ],
   "source": [
    "train()"
   ]
  },
  {
   "cell_type": "code",
   "execution_count": null,
   "metadata": {},
   "outputs": [],
   "source": []
  }
 ],
 "metadata": {
  "kernelspec": {
   "display_name": "Julia 1.8.2",
   "language": "julia",
   "name": "julia-1.8"
  },
  "language_info": {
   "file_extension": ".jl",
   "mimetype": "application/julia",
   "name": "julia",
   "version": "1.8.2"
  },
  "orig_nbformat": 4
 },
 "nbformat": 4,
 "nbformat_minor": 2
}
