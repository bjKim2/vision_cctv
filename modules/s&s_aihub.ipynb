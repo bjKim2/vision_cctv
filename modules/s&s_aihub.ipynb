{
 "cells": [
  {
   "cell_type": "code",
   "execution_count": 1,
   "metadata": {},
   "outputs": [],
   "source": [
    "from glob import glob\n",
    "import os\n",
    "import shutil\n",
    "import random"
   ]
  },
  {
   "cell_type": "code",
   "execution_count": 2,
   "metadata": {},
   "outputs": [],
   "source": [
    "labels1 = glob('../../datasets/aihub_safety/train/*/*/5.전체/*.json')\n",
    "labels2 = glob('../../datasets/aihub_safety/train/*/5.전체/*.json')\n",
    "labels = labels1 + labels2\n",
    "\n",
    "images = glob('../../datasets/aihub_safety/train/*/*.jpg')\n",
    "\n",
    "a = set()\n",
    "\n",
    "for i in labels:\n",
    "    a.add(os.path.dirname(i))\n",
    "a = list(a)"
   ]
  },
  {
   "cell_type": "code",
   "execution_count": 3,
   "metadata": {},
   "outputs": [
    {
     "data": {
      "text/plain": [
       "['../../datasets/aihub_safety/train/[라벨]1.공동주택/주안 재건축/5.전체',\n",
       " '../../datasets/aihub_safety/train/[라벨]4.공항시설/인천공항 제2여객터미널 증축공사(서측)/5.전체',\n",
       " '../../datasets/aihub_safety/train/[라벨]3.공장/가산동 A1타워 지식산업 센터/5.전체',\n",
       " '../../datasets/aihub_safety/train/[라벨]1.공동주택/서대문/5.전체',\n",
       " '../../datasets/aihub_safety/train/[라벨]8.오피스/문정동 KG 사옥 신축공사/5.전체',\n",
       " '../../datasets/aihub_safety/train/[라벨]6.상업시설/송도동/5.전체',\n",
       " '../../datasets/aihub_safety/train/[라벨]1.공동주택/동탄/5.전체',\n",
       " '../../datasets/aihub_safety/train/[라벨]5.물류센터/인천공항 화물터미널E/5.전체',\n",
       " '../../datasets/aihub_safety/train/[라벨]2.공연장/부산 오페라 하우스 신축공사/5.전체',\n",
       " '../../datasets/aihub_safety/train/[라벨]10.주차장/고양스타필드/5.전체',\n",
       " '../../datasets/aihub_safety/train/[라벨]4.공항시설/인천공항 제2여객터미널 증축공사(동측)/5.전체',\n",
       " '../../datasets/aihub_safety/train/[라벨]6.상업시설/신사동 복합 시설/5.전체',\n",
       " '../../datasets/aihub_safety/train/[라벨]1.공동주택/송도호반/5.전체',\n",
       " '../../datasets/aihub_safety/train/[라벨]5.물류센터/반도체 장비 클러스터 신축공사/5.전체',\n",
       " '../../datasets/aihub_safety/train/[라벨]1.공동주택/하남감일 A-7BL 11공구 아파트 신축공사/5.전체']"
      ]
     },
     "execution_count": 3,
     "metadata": {},
     "output_type": "execute_result"
    }
   ],
   "source": [
    "a"
   ]
  },
  {
   "cell_type": "code",
   "execution_count": 4,
   "metadata": {},
   "outputs": [
    {
     "name": "stdout",
     "output_type": "stream",
     "text": [
      "../../datasets/aihub_safety/train/[라벨]1.공동주택/하남감일 A-7BL 11공구 아파트 신축공사/5.전체/S2-N0509M00883.json\n"
     ]
    }
   ],
   "source": [
    "for label in labels:\n",
    "    if os.path.basename(label) == 'S2-N0509M00883.json':\n",
    "        print(label)"
   ]
  },
  {
   "cell_type": "code",
   "execution_count": 5,
   "metadata": {},
   "outputs": [
    {
     "name": "stdout",
     "output_type": "stream",
     "text": [
      "1862288 734014\n"
     ]
    }
   ],
   "source": [
    "print(len(images), len(labels))"
   ]
  },
  {
   "cell_type": "code",
   "execution_count": 7,
   "metadata": {},
   "outputs": [],
   "source": [
    "random.seed(42)\n",
    "random.shuffle(a)"
   ]
  },
  {
   "cell_type": "code",
   "execution_count": 8,
   "metadata": {},
   "outputs": [
    {
     "name": "stdout",
     "output_type": "stream",
     "text": [
      "list index out of range\n",
      "j :  ../../datasets/aihub_safety/train/[라벨]10.주차장/고양스타필드/5.전체/S2-N2101M24720.json img_f :  []\n"
     ]
    },
    {
     "ename": "UnboundLocalError",
     "evalue": "local variable 'img' referenced before assignment",
     "output_type": "error",
     "traceback": [
      "\u001b[0;31m---------------------------------------------------------------------------\u001b[0m",
      "\u001b[0;31mUnboundLocalError\u001b[0m                         Traceback (most recent call last)",
      "Cell \u001b[0;32mIn [8], line 93\u001b[0m\n\u001b[1;32m     91\u001b[0m                         \u001b[39mprint\u001b[39m(\u001b[39m'\u001b[39m\u001b[39mfailed to write files or can\u001b[39m\u001b[39m\\'\u001b[39;00m\u001b[39mt find image file\u001b[39m\u001b[39m'\u001b[39m, img_f,j)\n\u001b[1;32m     92\u001b[0m             \u001b[39mif\u001b[39;00m f_count \u001b[39m%\u001b[39m \u001b[39m500\u001b[39m \u001b[39m==\u001b[39m \u001b[39m0\u001b[39m : \u001b[39mprint\u001b[39m(\u001b[39mf\u001b[39m\u001b[39m'\u001b[39m\u001b[39mf_count : \u001b[39m\u001b[39m{\u001b[39;00mf_count\u001b[39m}\u001b[39;00m\u001b[39m, count : \u001b[39m\u001b[39m{\u001b[39;00mcount\u001b[39m}\u001b[39;00m\u001b[39m, folder : \u001b[39m\u001b[39m{\u001b[39;00mi\u001b[39m}\u001b[39;00m\u001b[39m'\u001b[39m ) \n\u001b[0;32m---> 93\u001b[0m json_transform()\n",
      "Cell \u001b[0;32mIn [8], line 39\u001b[0m, in \u001b[0;36mjson_transform\u001b[0;34m()\u001b[0m\n\u001b[1;32m     37\u001b[0m     \u001b[39mprint\u001b[39m(e)\n\u001b[1;32m     38\u001b[0m     \u001b[39mprint\u001b[39m(\u001b[39m'\u001b[39m\u001b[39mj : \u001b[39m\u001b[39m'\u001b[39m,j,\u001b[39m'\u001b[39m\u001b[39mimg_f : \u001b[39m\u001b[39m'\u001b[39m,img_f)\n\u001b[0;32m---> 39\u001b[0m w, h \u001b[39m=\u001b[39m img\u001b[39m.\u001b[39mshape[\u001b[39m1\u001b[39m] , img\u001b[39m.\u001b[39mshape[\u001b[39m0\u001b[39m]\n\u001b[1;32m     41\u001b[0m \u001b[39mtry\u001b[39;00m:\n\u001b[1;32m     42\u001b[0m     \u001b[39mwith\u001b[39;00m \u001b[39mopen\u001b[39m(j, \u001b[39m'\u001b[39m\u001b[39mr\u001b[39m\u001b[39m'\u001b[39m,encoding\u001b[39m=\u001b[39m\u001b[39m'\u001b[39m\u001b[39mutf-8-sig\u001b[39m\u001b[39m'\u001b[39m) \u001b[39mas\u001b[39;00m f:\n",
      "\u001b[0;31mUnboundLocalError\u001b[0m: local variable 'img' referenced before assignment"
     ]
    }
   ],
   "source": [
    "import json\n",
    "import cv2\n",
    "import numpy as np\n",
    "import shutil\n",
    "import random\n",
    "\n",
    "def coord_organize(box):\n",
    "    return [min(box[0],box[2]), min(box[1],box[3]), max(box[0],box[2]), max(box[1],box[3])]\n",
    "\n",
    "def cvt_yoloformat(xyxy,w,h):\n",
    "    box_w = xyxy[2] - xyxy[0]\n",
    "    box_h = xyxy[3] - xyxy[1]\n",
    "    return [(xyxy[0] + box_w/2)/w ,(xyxy[1] + box_h/2)/h, box_w/w, box_h/h ]\n",
    "\n",
    "\n",
    "def json_transform():\n",
    "    des_path = '../../datasets/aihub_safety/human_car'\n",
    "    count = 0\n",
    "    f_count = 0\n",
    "\n",
    "    for i in a:\n",
    "        if(os.path.basename(i)[0] not in ['5']):\n",
    "            continue\n",
    "        lbls = glob(i.replace('[','[[]') + '/*')\n",
    "        for j in lbls:\n",
    "            f_count += 1\n",
    "            # print(os.path.dirname(j).split('/')[-1][0] )\n",
    "            # if(os.path.dirname(j).split('/')[-1][0] == '2'):\n",
    "            #     # print(j.replace('2.중장비만','5.전체'), os.path.exists(j.replace('2.중장비만','5.전체')))\n",
    "            #     if os.path.exists(j.replace('2.중장비만','5.전체')):\n",
    "            #         print('change',j,' @ ',j.replace('2.중장비만','5.전체'))\n",
    "            #         j = j.replace('2.중장비만','5.전체')\n",
    "            img_f = glob('../../datasets/aihub_safety/train/[[]원천]' + j.split('[라벨]')[1][0] + '*/' + os.path.basename(j)[:-4] +'jpg')\n",
    "            try:\n",
    "                img = cv2.imread(img_f[0])\n",
    "            except Exception as e:\n",
    "                print(e)\n",
    "                print('j : ',j,'img_f : ',img_f)\n",
    "            w, h = img.shape[1] , img.shape[0]\n",
    "\n",
    "            try:\n",
    "                with open(j, 'r',encoding='utf-8-sig') as f:\n",
    "                    data = json.load(f)\n",
    "                    annos = data['annotations']\n",
    "            except Exception as e:\n",
    "                print(e)\n",
    "            try:\n",
    "                with open(j, 'r') as f:\n",
    "                    data = json.load(f)\n",
    "                    annos = data['annotations']\n",
    "            except Exception as e:\n",
    "                print(e, '\\n json data 읽기 실패')\n",
    "                continue\n",
    "            \n",
    "\n",
    "            \n",
    "\n",
    "            data_extst = False\n",
    "            new_datas = []\n",
    "            \n",
    "            if len(annos):\n",
    "                for anno in annos:\n",
    "                    try:\n",
    "                        cls = int(anno['class'] )\n",
    "                        box = anno['box']\n",
    "                    except:\n",
    "                        cls = None\n",
    "                        box = []\n",
    "                    # print('box : ', box, 'cls : ', cls)\n",
    "                    # print((len(box)) and (int(cls) < 20))\n",
    "                    if (len(box)) and (int(cls) < 20):\n",
    "                        data_extst = True\n",
    "\n",
    "                        box = coord_organize(box)\n",
    "                        box = cvt_yoloformat(box,w,h)\n",
    "                        new_data = str(int(cls) - 1) + ' ' + ' '.join(str(k) for k in box)  + '\\n'\n",
    "            \n",
    "                        new_datas.append(new_data)\n",
    "\n",
    "                if(data_extst):\n",
    "                    count += 1\n",
    "                    try:\n",
    "                        shutil.copy(img_f[0] , des_path + '/images') # image copy\n",
    "                        with open(des_path + '/labels/' + os.path.basename(j)[:-4] + 'txt', 'w') as f: # write converted labeled file\n",
    "                            for p in new_datas:\n",
    "                                f.write(p)\n",
    "                    except:\n",
    "                        print('failed to write files or can\\'t find image file', img_f,j)\n",
    "            if f_count % 500 == 0 : print(f'f_count : {f_count}, count : {count}, folder : {i}' ) \n",
    "json_transform()"
   ]
  },
  {
   "cell_type": "code",
   "execution_count": null,
   "metadata": {},
   "outputs": [
    {
     "data": {
      "text/plain": [
       "734014"
      ]
     },
     "execution_count": 10,
     "metadata": {},
     "output_type": "execute_result"
    }
   ],
   "source": [
    "len(labels)"
   ]
  },
  {
   "cell_type": "code",
   "execution_count": 11,
   "metadata": {},
   "outputs": [
    {
     "data": {
      "text/plain": [
       "1657489"
      ]
     },
     "execution_count": 11,
     "metadata": {},
     "output_type": "execute_result"
    }
   ],
   "source": [
    "len(images)"
   ]
  },
  {
   "cell_type": "code",
   "execution_count": 12,
   "metadata": {},
   "outputs": [],
   "source": [
    "## images 와 labels 폴더 포멧인 경우 random 42로 샘플링 \n",
    "\n",
    "def sampling(img_path,label_path, des_path, size):\n",
    "    if img_path[-1] == '/':\n",
    "        img_path = img_path[:-1]\n",
    "    if label_path[-1] == '/':\n",
    "        label_path = label_path[:-1]\n",
    "    if des_path[-1] == '/':\n",
    "        des_path = des_path[:-1]\n",
    "        \n",
    "    img_source_dir = img_path\n",
    "    label_source_dir = label_path\n",
    "    imgs = sorted(glob(img_source_dir + '/*'))\n",
    "    # print(imgs[0].replace('images','labels')[:-3] + 'txt')\n",
    "    # return 0\n",
    "    labels = [i.replace('images','labels')[:-3] + 'txt' for i in imgs]\n",
    "    # labels = sorted(glob(label_source_dir + '/*'))\n",
    "    img_des_path = des_path + '/sampled_images'\n",
    "    label_des_path = des_path + '/sampled_labels'\n",
    "    if not os.path.exists(img_des_path):\n",
    "        os.makedirs(img_des_path)\n",
    "        print(1)\n",
    "    if not os.path.exists(label_des_path):\n",
    "        os.makedirs(label_des_path)\n",
    "    \n",
    "    random.seed(42)\n",
    "    random.shuffle(imgs)\n",
    "    random.seed(42)\n",
    "    random.shuffle(labels)\n",
    "\n",
    "    print(imgs[:3])\n",
    "    print(labels[:3])\n",
    "    img_size = int(size * len(imgs))\n",
    "    label_size = int(size * len(labels))\n",
    "    imgs = imgs[:img_size]\n",
    "    labels = labels[:label_size]\n",
    "\n",
    "    for i in imgs:\n",
    "        shutil.copy(i,img_des_path)\n",
    "    for i in labels:\n",
    "        shutil.copy(i,label_des_path)\n",
    "    "
   ]
  },
  {
   "cell_type": "code",
   "execution_count": 13,
   "metadata": {},
   "outputs": [],
   "source": [
    "ratio = 100000 / len(glob('../../datasets/aihub_safety/human_car/images/*'))\n"
   ]
  },
  {
   "cell_type": "code",
   "execution_count": 14,
   "metadata": {},
   "outputs": [
    {
     "data": {
      "text/plain": [
       "0.225392746861406"
      ]
     },
     "execution_count": 14,
     "metadata": {},
     "output_type": "execute_result"
    }
   ],
   "source": [
    "ratio"
   ]
  },
  {
   "cell_type": "code",
   "execution_count": 15,
   "metadata": {},
   "outputs": [
    {
     "data": {
      "text/plain": [
       "True"
      ]
     },
     "execution_count": 15,
     "metadata": {},
     "output_type": "execute_result"
    }
   ],
   "source": [
    "os.path.exists('../../datasets/aihub_safety/human_car/labels/S2-N0002M00001.txt')"
   ]
  },
  {
   "cell_type": "code",
   "execution_count": 16,
   "metadata": {},
   "outputs": [
    {
     "name": "stdout",
     "output_type": "stream",
     "text": [
      "1\n",
      "['../../datasets/aihub_safety/human_car/images/S2-N1106M07362.jpg', '../../datasets/aihub_safety/human_car/images/S2-N1105M07773.jpg', '../../datasets/aihub_safety/human_car/images/S2-N1802M07061.jpg']\n",
      "['../../datasets/aihub_safety/human_car/labels/S2-N1106M07362.txt', '../../datasets/aihub_safety/human_car/labels/S2-N1105M07773.txt', '../../datasets/aihub_safety/human_car/labels/S2-N1802M07061.txt']\n"
     ]
    }
   ],
   "source": [
    "sampling('../../datasets/aihub_safety/human_car/images','../../datasets/aihub_safety/human_car/labels','../../datasets/aihub_safety/sampled_human_car',ratio)"
   ]
  },
  {
   "cell_type": "code",
   "execution_count": 17,
   "metadata": {},
   "outputs": [],
   "source": [
    "## ratio\n",
    "\n",
    "def train_valid_test_split(img_path,label_path,des_path,ratio):\n",
    "    if img_path[-1] == '/':\n",
    "        img_path = img_path[:-1]\n",
    "    if label_path[-1] == '/':\n",
    "        label_path = label_path[:-1]\n",
    "    if des_path[-1] == '/':\n",
    "        des_path = des_path[:-1]\n",
    "\n",
    "    imgs = sorted(glob(img_path + '/*'))\n",
    "    random.seed(42)\n",
    "    random.shuffle(imgs)\n",
    "    # labels = [label_path + '/' + os.path.basename(i)[:-3] + 'txt' for i in imgs]\n",
    "    labels = sorted(glob(label_path + '/*'))\n",
    "\n",
    "    list01 = ['train', 'valid', 'test']\n",
    "\n",
    "    for dirname in list01:\n",
    "        if not os.path.exists(des_path + '/' + dirname):\n",
    "            os.mkdir(des_path + '/' + dirname)\n",
    "    for dirname in list01:\n",
    "        for dirname2 in ['images', 'labels']:\n",
    "            print(dirname2)\n",
    "            if not os.path.exists(des_path + '/' + dirname + '/' + dirname2):\n",
    "                os.mkdir(des_path + '/' + dirname + '/' + dirname2)\n",
    "\n",
    "    size = len(imgs)\n",
    "\n",
    "    \n",
    "\n",
    "    # random.seed(42)\n",
    "    # random.shuffle(labels)\n",
    "\n",
    "    ratio_sum = 0\n",
    "    for i in ratio:\n",
    "        ratio_sum += i\n",
    "\n",
    "    list02 = []\n",
    "    for idx, ratio in enumerate(ratio):\n",
    "        \n",
    "        if len(list02):        \n",
    "            list02.append(int(ratio / ratio_sum * len(imgs)) + list02[-1])\n",
    "        else:\n",
    "            list02.append(int(ratio / ratio_sum * len(imgs)))\n",
    "\n",
    "        if len(list02) == 2:\n",
    "            temp_imgs = imgs[list02[-2]:list02[-1]]\n",
    "            temp_labels = labels[list02[-2]:list02[-1]]\n",
    "\n",
    "        elif len(list02) == 3:\n",
    "            temp_imgs = imgs[list02[-2]:]\n",
    "            temp_labels = labels[list02[-2]:]\n",
    "            print('test')\n",
    "        else:\n",
    "            temp_imgs = imgs[:list02[-1]]\n",
    "            temp_labels = labels[:list02[-1]]\n",
    "\n",
    "        for i in range(len(temp_imgs)):\n",
    "            # print(temp_imgs[i])\n",
    "            # print(temp_labels[i])\n",
    "            \n",
    "            try:\n",
    "                shutil.copy(temp_labels[i],des_path + '/' + list01[idx] + '/labels')\n",
    "                shutil.copy(temp_imgs[i],des_path + '/' + list01[idx] + '/images')\n",
    "            except:\n",
    "                pass\n",
    "        \n",
    "    print(list02)\n",
    "\n"
   ]
  },
  {
   "cell_type": "code",
   "execution_count": 18,
   "metadata": {},
   "outputs": [
    {
     "name": "stdout",
     "output_type": "stream",
     "text": [
      "images\n",
      "labels\n",
      "images\n",
      "labels\n",
      "images\n",
      "labels\n",
      "test\n",
      "[85000, 95000, 100000]\n"
     ]
    }
   ],
   "source": [
    "train_valid_test_split('../../datasets/aihub_safety/sampled_human_car/sampled_images','../../datasets/aihub_safety/sampled_human_car/sampled_labels','../../datasets/aihub_safety/sampled_human_car',[17,2,1])"
   ]
  },
  {
   "cell_type": "code",
   "execution_count": null,
   "metadata": {},
   "outputs": [],
   "source": []
  }
 ],
 "metadata": {
  "kernelspec": {
   "display_name": "haha",
   "language": "python",
   "name": "haha"
  },
  "language_info": {
   "codemirror_mode": {
    "name": "ipython",
    "version": 3
   },
   "file_extension": ".py",
   "mimetype": "text/x-python",
   "name": "python",
   "nbconvert_exporter": "python",
   "pygments_lexer": "ipython3",
   "version": "3.9.5"
  },
  "orig_nbformat": 4,
  "vscode": {
   "interpreter": {
    "hash": "916dbcbb3f70747c44a77c7bcd40155683ae19c65e1c03b4aa3499c5328201f1"
   }
  }
 },
 "nbformat": 4,
 "nbformat_minor": 2
}
