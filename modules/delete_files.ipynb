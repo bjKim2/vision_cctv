{
 "cells": [
  {
   "cell_type": "code",
   "execution_count": 17,
   "metadata": {},
   "outputs": [],
   "source": [
    "from glob import glob\n",
    "import os\n",
    "import shutil\n",
    "import json"
   ]
  },
  {
   "cell_type": "code",
   "execution_count": 44,
   "metadata": {},
   "outputs": [],
   "source": [
    "images = glob('../../datasets/roboflow_hat_withouthead/verified_third/*/images/*')\n",
    "labels = glob('../../datasets/roboflow_hat_withouthead/verified_third/*/labels/*')"
   ]
  },
  {
   "cell_type": "code",
   "execution_count": 45,
   "metadata": {},
   "outputs": [
    {
     "data": {
      "text/plain": [
       "2011"
      ]
     },
     "execution_count": 45,
     "metadata": {},
     "output_type": "execute_result"
    }
   ],
   "source": [
    "len(labels)"
   ]
  },
  {
   "cell_type": "code",
   "execution_count": 43,
   "metadata": {},
   "outputs": [],
   "source": [
    "# 라벨 파일만 있고 image 없으면 라벨 파일 삭제\n",
    "for label in labels:\n",
    "    if not os.path.exists(label.replace('labels','images')[:-3] + 'jpg'):\n",
    "        os.remove(label)\n"
   ]
  },
  {
   "cell_type": "code",
   "execution_count": 14,
   "metadata": {},
   "outputs": [],
   "source": [
    "for label in labels:\n",
    "    with open(label, 'r') as f:\n",
    "        data = f.readlines()\n",
    "    data_exists = False\n",
    "    for i in data:\n",
    "        if i[0] == '1':\n",
    "            data_exists = True\n",
    "    img = label.replace('labels','images')[:-3] + 'jpg'\n",
    "    if not data_exists:\n",
    "        os.remove(label)\n",
    "        os.remove(img)\n",
    "\n",
    "\n",
    "\n"
   ]
  },
  {
   "cell_type": "code",
   "execution_count": null,
   "metadata": {},
   "outputs": [],
   "source": [
    "len(labels)"
   ]
  }
 ],
 "metadata": {
  "kernelspec": {
   "display_name": "haha",
   "language": "python",
   "name": "haha"
  },
  "language_info": {
   "codemirror_mode": {
    "name": "ipython",
    "version": 3
   },
   "file_extension": ".py",
   "mimetype": "text/x-python",
   "name": "python",
   "nbconvert_exporter": "python",
   "pygments_lexer": "ipython3",
   "version": "3.9.5"
  },
  "orig_nbformat": 4
 },
 "nbformat": 4,
 "nbformat_minor": 2
}
