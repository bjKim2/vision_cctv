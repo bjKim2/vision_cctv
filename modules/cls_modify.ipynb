{
 "cells": [
  {
   "cell_type": "code",
   "execution_count": 8,
   "metadata": {},
   "outputs": [],
   "source": [
    "from glob import glob"
   ]
  },
  {
   "cell_type": "code",
   "execution_count": 9,
   "metadata": {},
   "outputs": [],
   "source": [
    "labels = glob('../datasets/roboflow_vest/verified_1026data/labels/*')"
   ]
  },
  {
   "cell_type": "code",
   "execution_count": 11,
   "metadata": {},
   "outputs": [
    {
     "data": {
      "text/plain": [
       "['../datasets/roboflow_vest/verified_1026data/labels/00252_jpg.rf.2cec9c0f095e787133d7ef883f3d8e64.txt',\n",
       " '../datasets/roboflow_vest/verified_1026data/labels/00252_jpg.rf.62d2f99f2fb108021937d0c5cbbe54f6.txt',\n",
       " '../datasets/roboflow_vest/verified_1026data/labels/00252_jpg.rf.9e3923fc564836b8cf75229a67fbaf3d.txt']"
      ]
     },
     "execution_count": 11,
     "metadata": {},
     "output_type": "execute_result"
    }
   ],
   "source": [
    "labels[:3]"
   ]
  },
  {
   "cell_type": "code",
   "execution_count": 12,
   "metadata": {},
   "outputs": [],
   "source": [
    "for label in labels:\n",
    "    with open(label , 'r') as f:\n",
    "        datas = f.readlines()\n",
    "    new_datas = []\n",
    "    for data in datas:\n",
    "        if data[0] in ['0','2']:\n",
    "            continue\n",
    "        elif data[0] == '3':\n",
    "            data = '0' + data[1:]\n",
    "            new_datas.append(data)\n",
    "        else:\n",
    "            new_datas.append(data)\n",
    "    with open(label, 'w') as f:\n",
    "        for data in new_datas:\n",
    "            f.write(data)\n"
   ]
  },
  {
   "cell_type": "code",
   "execution_count": null,
   "metadata": {},
   "outputs": [],
   "source": []
  }
 ],
 "metadata": {
  "kernelspec": {
   "display_name": "Python 3.9.5 ('haha')",
   "language": "python",
   "name": "python3"
  },
  "language_info": {
   "codemirror_mode": {
    "name": "ipython",
    "version": 3
   },
   "file_extension": ".py",
   "mimetype": "text/x-python",
   "name": "python",
   "nbconvert_exporter": "python",
   "pygments_lexer": "ipython3",
   "version": "3.9.5"
  },
  "orig_nbformat": 4,
  "vscode": {
   "interpreter": {
    "hash": "1f04906ba81782c68240af3f53e77cbec4a8b00628569f9c32535c44ef49fb90"
   }
  }
 },
 "nbformat": 4,
 "nbformat_minor": 2
}
