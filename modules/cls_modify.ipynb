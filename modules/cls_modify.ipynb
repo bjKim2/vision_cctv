{
 "cells": [
  {
   "cell_type": "code",
   "execution_count": 6,
   "metadata": {},
   "outputs": [],
   "source": [
    "from glob import glob\n",
    "import shutil\n",
    "import os"
   ]
  },
  {
   "cell_type": "code",
   "execution_count": 7,
   "metadata": {},
   "outputs": [],
   "source": [
    "labels = glob('../../datasets/roboflow_hat_withouthead/verified_third/*/labels/*')"
   ]
  },
  {
   "cell_type": "code",
   "execution_count": 8,
   "metadata": {},
   "outputs": [
    {
     "data": {
      "text/plain": [
       "2012"
      ]
     },
     "execution_count": 8,
     "metadata": {},
     "output_type": "execute_result"
    }
   ],
   "source": [
    "len(labels)"
   ]
  },
  {
   "cell_type": "code",
   "execution_count": 9,
   "metadata": {},
   "outputs": [
    {
     "data": {
      "text/plain": [
       "['../../datasets/roboflow_hat_withouthead/verified_third/valid/labels/ppe_0705_jpg.rf.196d9c357bf4ba2f38727edc5d3aae95.txt',\n",
       " '../../datasets/roboflow_hat_withouthead/verified_third/valid/labels/pos_1347_jpg.rf.2df3d8af383fe886572581859707af3d.txt',\n",
       " '../../datasets/roboflow_hat_withouthead/verified_third/valid/labels/pos_1658_jpg.rf.97d8fae563ee42c865d7b3b9b638197b.txt']"
      ]
     },
     "execution_count": 9,
     "metadata": {},
     "output_type": "execute_result"
    }
   ],
   "source": [
    "labels[:3]"
   ]
  },
  {
   "cell_type": "code",
   "execution_count": 6,
   "metadata": {},
   "outputs": [],
   "source": [
    "for label in labels:\n",
    "    with open(label , 'r') as f:\n",
    "        datas = f.readlines()\n",
    "    new_datas = []\n",
    "\n",
    "    exist_data = False\n",
    "    for i,data in enumerate(datas):\n",
    "        # names: ['gloves', 'hand', 'helmet', 'shoes', 'vest']\n",
    "        if data[0] not in ['1']:\n",
    "            if (i == len(datas) -1) and not exist_data:\n",
    "                try:\n",
    "                    img = label.replace('labels','images')[:-3] + 'jpg'\n",
    "                    os.remove(img)\n",
    "                    # shutil.rmtree(label)\n",
    "                    os.remove(label)\n",
    "                    \n",
    "                except:\n",
    "                    pass\n",
    "            continue\n",
    "        elif data[0] == '1':\n",
    "            # data = '0' + data[1:]\n",
    "            new_datas.append(data)\n",
    "            exist_data = True\n",
    "        else:\n",
    "            continue\n",
    "            # data = '1' + data[1:]\n",
    "            # new_datas.append(data)\n",
    "            # exist_data = True\n",
    "    \n",
    "    if exist_data:\n",
    "        with open(label, 'w') as f:\n",
    "            for data in new_datas:\n",
    "                f.write(data)\n"
   ]
  },
  {
   "cell_type": "code",
   "execution_count": null,
   "metadata": {},
   "outputs": [],
   "source": []
  }
 ],
 "metadata": {
  "kernelspec": {
   "display_name": "haha",
   "language": "python",
   "name": "haha"
  },
  "language_info": {
   "codemirror_mode": {
    "name": "ipython",
    "version": 3
   },
   "file_extension": ".py",
   "mimetype": "text/x-python",
   "name": "python",
   "nbconvert_exporter": "python",
   "pygments_lexer": "ipython3",
   "version": "3.9.5"
  },
  "orig_nbformat": 4,
  "vscode": {
   "interpreter": {
    "hash": "1f04906ba81782c68240af3f53e77cbec4a8b00628569f9c32535c44ef49fb90"
   }
  }
 },
 "nbformat": 4,
 "nbformat_minor": 2
}
