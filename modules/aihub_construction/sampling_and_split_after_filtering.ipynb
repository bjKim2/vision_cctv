{
 "cells": [
  {
   "cell_type": "code",
   "execution_count": 1,
   "metadata": {},
   "outputs": [],
   "source": [
    "from glob import glob\n",
    "import os\n",
    "import shutil\n",
    "import random"
   ]
  },
  {
   "cell_type": "code",
   "execution_count": 2,
   "metadata": {},
   "outputs": [],
   "source": [
    "## images 와 labels 폴더 포멧인 경우 random 42로 샘플링 \n",
    "\n",
    "def sampling(img_path,label_path, des_path, size):\n",
    "    if img_path[-1] == '/':\n",
    "        img_path = img_path[:-1]\n",
    "    if label_path[-1] == '/':\n",
    "        label_path = label_path[:-1]\n",
    "    if des_path[-1] == '/':\n",
    "        des_path = des_path[:-1]\n",
    "        \n",
    "    img_source_dir = img_path\n",
    "    label_source_dir = label_path\n",
    "    imgs = sorted(glob(img_source_dir + '/*'))\n",
    "    labels = sorted(glob(label_source_dir + '/*'))\n",
    "    img_des_path = des_path + '/sampled_images'\n",
    "    label_des_path = des_path + '/sampled_labels'\n",
    "    if not os.path.exists(img_des_path):\n",
    "        os.makedirs(img_des_path)\n",
    "        print(1)\n",
    "    if not os.path.exists(label_des_path):\n",
    "        os.makedirs(label_des_path)\n",
    "    \n",
    "    random.seed(42)\n",
    "    random.shuffle(imgs)\n",
    "    random.seed(42)\n",
    "    random.shuffle(labels)\n",
    "\n",
    "    print(imgs[:3])\n",
    "    print(labels[:3])\n",
    "    img_size = int(size * len(imgs))\n",
    "    label_size = int(size * len(labels))\n",
    "    imgs = imgs[:img_size]\n",
    "    labels = labels[:label_size]\n",
    "\n",
    "    for i in imgs:\n",
    "        shutil.copy(i,img_des_path)\n",
    "    for i in labels:\n",
    "        shutil.copy(i,label_des_path)\n",
    "    "
   ]
  },
  {
   "cell_type": "code",
   "execution_count": 5,
   "metadata": {},
   "outputs": [],
   "source": [
    "img_dir = '../../datasets/aihub_safety/human_car_ver2/images'\n",
    "lab_dir = '../../datasets/aihub_safety/human_car_ver2/labels'\n",
    "des_dir = '../../datasets/aihub_safety/human_car_ver2/train'\n"
   ]
  },
  {
   "cell_type": "code",
   "execution_count": 6,
   "metadata": {},
   "outputs": [
    {
     "name": "stdout",
     "output_type": "stream",
     "text": [
      "1\n",
      "['../../datasets/aihub_safety/human_car_ver2/images/S2-N0509M00545.jpg', '../../datasets/aihub_safety/human_car_ver2/images/S2-N0509M30230.jpg', '../../datasets/aihub_safety/human_car_ver2/images/S2-N0509M20766.jpg']\n",
      "['../../datasets/aihub_safety/human_car_ver2/labels/S2-N0509M00545.txt', '../../datasets/aihub_safety/human_car_ver2/labels/S2-N0509M30230.txt', '../../datasets/aihub_safety/human_car_ver2/labels/S2-N0509M20766.txt']\n"
     ]
    }
   ],
   "source": [
    "# sampling('../train_dataset/imgs2','../train_dataset/lbls','../train_dataset/aihub',0.3)\n",
    "sampling(img_dir,lab_dir,des_dir,0.3)"
   ]
  },
  {
   "cell_type": "code",
   "execution_count": null,
   "metadata": {},
   "outputs": [],
   "source": []
  },
  {
   "cell_type": "code",
   "execution_count": 3,
   "metadata": {},
   "outputs": [],
   "source": [
    "## ratio\n",
    "\n",
    "def train_valid_test_split(img_path,label_path,des_path,ratio):\n",
    "    if img_path[-1] == '/':\n",
    "        img_path = img_path[:-1]\n",
    "    if label_path[-1] == '/':\n",
    "        label_path = label_path[:-1]\n",
    "    if des_path[-1] == '/':\n",
    "        des_path = des_path[:-1]\n",
    "\n",
    "    imgs = sorted(glob(img_path + '/*'))\n",
    "    random.seed(42)\n",
    "    random.shuffle(imgs)\n",
    "    labels = [label_path + '/' + os.path.basename(i)[:-3] + 'txt' for i in imgs]\n",
    "    \n",
    "    # labels = sorted(glob(label_path + '/*'))\n",
    "\n",
    "    \n",
    "    print(des_path)\n",
    "    list01 = ['train', 'valid', 'test']\n",
    "\n",
    "    for dirname in list01:\n",
    "        if not os.path.exists(des_path + '/' + dirname):\n",
    "            os.mkdir(des_path + '/' + dirname)\n",
    "    for dirname in list01:\n",
    "        for dirname2 in ['images', 'labels']:\n",
    "            print(dirname2)\n",
    "            if not os.path.exists(des_path + '/' + dirname + '/' + dirname2):\n",
    "                os.mkdir(des_path + '/' + dirname + '/' + dirname2)\n",
    "\n",
    "    size = len(imgs)\n",
    "\n",
    "    \n",
    "\n",
    "    # random.seed(42)\n",
    "    # random.shuffle(labels)\n",
    "\n",
    "    ratio_sum = 0\n",
    "    for i in ratio:\n",
    "        ratio_sum += i\n",
    "\n",
    "    list02 = []\n",
    "    for idx, ratio in enumerate(ratio):\n",
    "        \n",
    "        if len(list02):        \n",
    "            list02.append(int(ratio / ratio_sum * len(imgs)) + list02[-1])\n",
    "        else:\n",
    "            list02.append(int(ratio / ratio_sum * len(imgs)))\n",
    "\n",
    "        if len(list02) == 2:\n",
    "            temp_imgs = imgs[list02[-2]:list02[-1]]\n",
    "            temp_labels = labels[list02[-2]:list02[-1]]\n",
    "\n",
    "        elif len(list02) == 3:\n",
    "            temp_imgs = imgs[list02[-2]:]\n",
    "            temp_labels = labels[list02[-2]:]\n",
    "            print('test')\n",
    "        else:\n",
    "            temp_imgs = imgs[:list02[-1]]\n",
    "            temp_labels = labels[:list02[-1]]\n",
    "\n",
    "        for i in range(len(temp_imgs)):\n",
    "            # print(temp_imgs[i])\n",
    "            # print(temp_labels[i])\n",
    "            \n",
    "            shutil.move(temp_imgs[i],des_path + '/' + list01[idx] + '/images')\n",
    "            shutil.move(temp_labels[i],des_path + '/' + list01[idx] + '/labels')\n",
    "        \n",
    "    print(list02)\n",
    "\n"
   ]
  },
  {
   "cell_type": "code",
   "execution_count": 6,
   "metadata": {},
   "outputs": [],
   "source": [
    "split_img_dir = '/media/tekim/tekim/datasets/aihub_safety/human_car_ver2/filtering/images/'\n",
    "split_lab_dir = '/media/tekim/tekim/datasets/aihub_safety/human_car_ver2/filtering/labels/'\n",
    "split_des_dir = '/media/tekim/tekim/datasets/aihub_safety/human_car_ver2/filtering/split'\n"
   ]
  },
  {
   "cell_type": "code",
   "execution_count": 7,
   "metadata": {},
   "outputs": [
    {
     "name": "stdout",
     "output_type": "stream",
     "text": [
      "/media/tekim/tekim/datasets/aihub_safety/human_car_ver2/filtering/split\n",
      "images\n",
      "labels\n",
      "images\n",
      "labels\n",
      "images\n",
      "labels\n",
      "test\n",
      "[217962, 243604, 256425]\n"
     ]
    }
   ],
   "source": [
    "train_valid_test_split(split_img_dir,split_lab_dir,split_des_dir,[17,2,1])"
   ]
  },
  {
   "cell_type": "code",
   "execution_count": 2,
   "metadata": {},
   "outputs": [
    {
     "data": {
      "text/plain": [
       "True"
      ]
     },
     "execution_count": 2,
     "metadata": {},
     "output_type": "execute_result"
    }
   ],
   "source": [
    "None == None"
   ]
  },
  {
   "cell_type": "code",
   "execution_count": 7,
   "metadata": {},
   "outputs": [],
   "source": [
    "list01 = [0,1,2,3]\n",
    "list01 = list01[:2] + list01[3:]"
   ]
  },
  {
   "cell_type": "code",
   "execution_count": 8,
   "metadata": {},
   "outputs": [
    {
     "data": {
      "text/plain": [
       "[0, 1, 3]"
      ]
     },
     "execution_count": 8,
     "metadata": {},
     "output_type": "execute_result"
    }
   ],
   "source": [
    "list01"
   ]
  },
  {
   "cell_type": "code",
   "execution_count": null,
   "metadata": {},
   "outputs": [],
   "source": []
  }
 ],
 "metadata": {
  "kernelspec": {
   "display_name": "Python 3",
   "language": "python",
   "name": "python3"
  },
  "language_info": {
   "codemirror_mode": {
    "name": "ipython",
    "version": 3
   },
   "file_extension": ".py",
   "mimetype": "text/x-python",
   "name": "python",
   "nbconvert_exporter": "python",
   "pygments_lexer": "ipython3",
   "version": "3.8.10"
  },
  "orig_nbformat": 4
 },
 "nbformat": 4,
 "nbformat_minor": 2
}
