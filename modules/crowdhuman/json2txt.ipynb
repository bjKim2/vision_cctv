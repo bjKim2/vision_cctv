{
 "cells": [
  {
   "cell_type": "code",
   "execution_count": 1,
   "metadata": {},
   "outputs": [],
   "source": [
    "from glob import glob\n",
    "import json\n",
    "\n",
    "jsons = glob('../../../temp/yolov7/runs/detect/exp94/jsons/*')"
   ]
  },
  {
   "cell_type": "code",
   "execution_count": 18,
   "metadata": {},
   "outputs": [
    {
     "name": "stdout",
     "output_type": "stream",
     "text": [
      "{'id': 'result1', 'type': 'rectanglelabels', 'from_name': 'label', 'to_name': 'image', 'original_width': 416, 'original_height': 416, 'image_rotation': 0, 'value': {'rotation': 0, 'x': 31.10546875, 'y': 59.150185346603394, 'width': 4.4921875, 'height': 8.791209012269974, 'rectanglelabels': ['no_hat']}}\n",
      "{'id': 'result2', 'type': 'rectanglelabels', 'from_name': 'label', 'to_name': 'image', 'original_width': 416, 'original_height': 416, 'image_rotation': 0, 'value': {'rotation': 0, 'x': 9.5712890625, 'y': 71.91941547393799, 'width': 3.955078125, 'height': 5.860805884003639, 'rectanglelabels': ['']}}\n",
      "{'id': 'result3', 'type': 'rectanglelabels', 'from_name': 'label', 'to_name': 'image', 'original_width': 416, 'original_height': 416, 'image_rotation': 0, 'value': {'rotation': 0, 'x': 20.2412109375, 'y': 60.985349893569946, 'width': 5.908203125, 'height': 14.358974993228912, 'rectanglelabels': ['no_hat']}}\n",
      "{'id': 'result4', 'type': 'rectanglelabels', 'from_name': 'label', 'to_name': 'image', 'original_width': 416, 'original_height': 416, 'image_rotation': 0, 'value': {'rotation': 0, 'x': 35.1123046875, 'y': 64.08424735069275, 'width': 10.986328125, 'height': 30.109891295433044, 'rectanglelabels': ['no_hat']}}\n",
      "{'id': 'result5', 'type': 'rectanglelabels', 'from_name': 'label', 'to_name': 'image', 'original_width': 416, 'original_height': 416, 'image_rotation': 0, 'value': {'rotation': 0, 'x': 9.546875, 'y': 58.56410479545593, 'width': 3.41796875, 'height': 8.205128461122513, 'rectanglelabels': ['no_hat']}}\n",
      "{'id': 'result6', 'type': 'rectanglelabels', 'from_name': 'label', 'to_name': 'image', 'original_width': 416, 'original_height': 416, 'image_rotation': 0, 'value': {'rotation': 0, 'x': 26.7109375, 'y': 73.4102578163147, 'width': 4.8828125, 'height': 7.179487496614456, 'rectanglelabels': ['']}}\n",
      "{'id': 'result7', 'type': 'rectanglelabels', 'from_name': 'label', 'to_name': 'image', 'original_width': 416, 'original_height': 416, 'image_rotation': 0, 'value': {'rotation': 0, 'x': 84.4267578125, 'y': 56.96703219413757, 'width': 6.689453125, 'height': 12.673993408679962, 'rectanglelabels': ['']}}\n",
      "{'id': 'result8', 'type': 'rectanglelabels', 'from_name': 'label', 'to_name': 'image', 'original_width': 416, 'original_height': 416, 'image_rotation': 0, 'value': {'rotation': 0, 'x': 42.359375, 'y': 55.83882737159729, 'width': 3.125, 'height': 5.201465263962746, 'rectanglelabels': ['']}}\n",
      "{'id': 'result9', 'type': 'rectanglelabels', 'from_name': 'label', 'to_name': 'image', 'original_width': 416, 'original_height': 416, 'image_rotation': 0, 'value': {'rotation': 0, 'x': 27.61328125, 'y': 58.56410479545593, 'width': 3.90625, 'height': 9.377289563417435, 'rectanglelabels': ['no_hat']}}\n",
      "{'id': 'result10', 'type': 'rectanglelabels', 'from_name': 'label', 'to_name': 'image', 'original_width': 416, 'original_height': 416, 'image_rotation': 0, 'value': {'rotation': 0, 'x': 22.14453125, 'y': 56.02198052406311, 'width': 2.83203125, 'height': 4.981685057282448, 'rectanglelabels': ['']}}\n",
      "{'id': 'result11', 'type': 'rectanglelabels', 'from_name': 'label', 'to_name': 'image', 'original_width': 416, 'original_height': 416, 'image_rotation': 0, 'value': {'rotation': 0, 'x': 77.765625, 'y': 68.22344422340393, 'width': 15.33203125, 'height': 31.94139301776886, 'rectanglelabels': ['no_hat']}}\n",
      "{'id': 'result12', 'type': 'rectanglelabels', 'from_name': 'label', 'to_name': 'image', 'original_width': 416, 'original_height': 416, 'image_rotation': 0, 'value': {'rotation': 0, 'x': 19.509765625, 'y': 82.37362718582153, 'width': 6.34765625, 'height': 9.23076942563057, 'rectanglelabels': ['']}}\n",
      "{'id': 'result13', 'type': 'rectanglelabels', 'from_name': 'label', 'to_name': 'image', 'original_width': 416, 'original_height': 416, 'image_rotation': 0, 'value': {'rotation': 0, 'x': 68.5556640625, 'y': 51.88278365135193, 'width': 2.880859375, 'height': 5.201465263962746, 'rectanglelabels': ['']}}\n",
      "{'id': 'result14', 'type': 'rectanglelabels', 'from_name': 'label', 'to_name': 'image', 'original_width': 416, 'original_height': 416, 'image_rotation': 0, 'value': {'rotation': 0, 'x': 28.2236328125, 'y': 53.714285373687744, 'width': 2.490234375, 'height': 4.175824299454689, 'rectanglelabels': ['']}}\n",
      "{'id': 'result15', 'type': 'choices', 'from_name': 'choice', 'to_name': 'image', 'value': {'choices': ['']}}\n"
     ]
    }
   ],
   "source": [
    "for j,i in enumerate(jsons):\n",
    "    \n",
    "    with open(i, 'r') as f:\n",
    "        datas = json.load(f)\n",
    "\n",
    "    if j <= 4:\n",
    "        continue\n",
    "    dets = datas[0]['predictions'][0]['result']\n",
    "\n",
    "    for k in dets:\n",
    "        print(k)\n",
    "\n",
    "\n",
    "    \n",
    "\n",
    "    break"
   ]
  },
  {
   "cell_type": "code",
   "execution_count": null,
   "metadata": {},
   "outputs": [],
   "source": []
  }
 ],
 "metadata": {
  "kernelspec": {
   "display_name": "Python 3",
   "language": "python",
   "name": "python3"
  },
  "language_info": {
   "codemirror_mode": {
    "name": "ipython",
    "version": 3
   },
   "file_extension": ".py",
   "mimetype": "text/x-python",
   "name": "python",
   "nbconvert_exporter": "python",
   "pygments_lexer": "ipython3",
   "version": "3.8.10"
  },
  "orig_nbformat": 4
 },
 "nbformat": 4,
 "nbformat_minor": 2
}
