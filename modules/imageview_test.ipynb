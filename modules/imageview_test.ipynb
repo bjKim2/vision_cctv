{
 "cells": [
  {
   "cell_type": "code",
   "execution_count": null,
   "metadata": {},
   "outputs": [],
   "source": [
    "import argparse\n",
    "import os"
   ]
  },
  {
   "cell_type": "code",
   "execution_count": 17,
   "metadata": {},
   "outputs": [
    {
     "data": {
      "text/plain": [
       "'abcimages'"
      ]
     },
     "execution_count": 17,
     "metadata": {},
     "output_type": "execute_result"
    }
   ],
   "source": [
    "os.path.join('abc' + 'images')"
   ]
  },
  {
   "cell_type": "code",
   "execution_count": null,
   "metadata": {},
   "outputs": [],
   "source": [
    "\n",
    "os.path.join('asf', '*.jpg')\n"
   ]
  },
  {
   "cell_type": "code",
   "execution_count": null,
   "metadata": {},
   "outputs": [],
   "source": [
    "opt.save_path"
   ]
  },
  {
   "cell_type": "code",
   "execution_count": null,
   "metadata": {},
   "outputs": [],
   "source": [
    "from PyQt5.QtCore import QDir, Qt\n",
    "from PyQt5.QtGui import QImage, QPainter, QPalette, QPixmap, qRgb\n",
    "from PyQt5.QtWidgets import (QAction, QApplication, QFileDialog, QLabel,\n",
    "        QMainWindow, QMenu, QMessageBox, QScrollArea, QSizePolicy, QInputDialog)\n",
    "from PyQt5.QtPrintSupport import QPrintDialog, QPrinter\n",
    "class ImageViewer(QMainWindow):\n",
    "    def __init__(self):\n",
    "        super(ImageViewer, self).__init__()\n",
    "\n",
    "        self.gray_color_table = [qRgb(i, i, i) for i in range(256)]\n",
    "        self.base_path = './image_path'\n",
    "        self.img_list = glob.glob(os.path.join(self.base_path, '*.jpg'))\n",
    "        self.pos = 0\n",
    "        self.total = len(self.img_list)\n",
    "\n",
    "        self.printer = QPrinter()\n",
    "        self.width = 620\n",
    "        self.height = 620\n",
    "        \n",
    "        self.imageLabel = QLabel()\n",
    "        self.imageLabel.setBackgroundRole(QPalette.Base)\n",
    "        self.imageLabel.setSizePolicy(QSizePolicy.Ignored, QSizePolicy.Ignored)\n",
    "        self.imageLabel.setScaledContents(True)\n",
    "\n",
    "        self.scrollArea = QScrollArea()\n",
    "        self.scrollArea.setBackgroundRole(QPalette.Dark)\n",
    "        self.scrollArea.setWidget(self.imageLabel)\n",
    "        self.setCentralWidget(self.scrollArea)\n",
    "\n",
    "        self.createActions()\n",
    "        \n",
    "        self.setWindowTitle(\"Image Viewer\")\n",
    "        self.resize(self.width, self.height)\n",
    "        \n",
    "        image = cv2.imread(self.img_list[self.pos])\n",
    "        self.openImage(image=self.toQImage(image))\n",
    "    \n",
    "    def normalSize(self):\n",
    "        self.imageLabel.adjustSize()\n",
    "\n",
    "    def fitToWindow(self):\n",
    "        fitToWindow = self.fitToWindowAct.isChecked()\n",
    "        self.scrollArea.setWidgetResizable(fitToWindow)\n",
    "        if not fitToWindow:\n",
    "            self.normalSize()\n",
    "        self.updateActions()\n",
    "        \n",
    "    def createActions(self):\n",
    "        self.normalSizeAct = QAction(\"&Normal Size\", self, shortcut=\"Ctrl+S\",\n",
    "                enabled=False, triggered=self.normalSize)\n",
    "\n",
    "        self.fitToWindowAct = QAction(\"&Fit to Window\", self, enabled=False,\n",
    "                checkable=True, shortcut=\"Ctrl+F\", triggered=self.fitToWindow)\n",
    "        \n",
    "    def updateActions(self):\n",
    "        self.normalSizeAct.setEnabled(not self.fitToWindowAct.isChecked())\n",
    "       \n",
    "    def adjustScrollBar(self, scrollBar, factor):\n",
    "        scrollBar.setValue(int(factor * scrollBar.value()\n",
    "                                + ((factor - 1) * scrollBar.pageStep()/2)))\n"
   ]
  },
  {
   "cell_type": "code",
   "execution_count": null,
   "metadata": {},
   "outputs": [],
   "source": [
    "Image"
   ]
  }
 ],
 "metadata": {
  "kernelspec": {
   "display_name": "haha",
   "language": "python",
   "name": "haha"
  },
  "language_info": {
   "codemirror_mode": {
    "name": "ipython",
    "version": 3
   },
   "file_extension": ".py",
   "mimetype": "text/x-python",
   "name": "python",
   "nbconvert_exporter": "python",
   "pygments_lexer": "ipython3",
   "version": "3.9.5"
  },
  "orig_nbformat": 4
 },
 "nbformat": 4,
 "nbformat_minor": 2
}
