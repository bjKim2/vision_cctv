{
 "cells": [
  {
   "cell_type": "code",
   "execution_count": 1,
   "metadata": {},
   "outputs": [],
   "source": [
    "import cv2"
   ]
  },
  {
   "cell_type": "code",
   "execution_count": 2,
   "metadata": {},
   "outputs": [],
   "source": [
    "\n",
    "import cv2\n",
    "\n",
    "# MP4 파일 열기\n",
    "\n",
    "video = cv2.VideoCapture('/home/tekim/Downloads/label_tank1.mp4')\n",
    "\n",
    "# 비디오 프레임 수 얻기\n",
    "frame_count = int(video.get(cv2.CAP_PROP_FRAME_COUNT))\n",
    "\n",
    "# 이미지 시퀀스 생성\n",
    "images = []\n",
    "\n",
    "# 비디오를 반복하고 각 프레임을 이미지 시퀀스에 추가합니다.\n",
    "for i in range(frame_count):\n",
    "    # 프레임 읽기\n",
    "    ret, frame = video.read()\n",
    "\n",
    "    # 프레임을 이미지 시퀀스에 추가\n",
    "    images.append(frame)\n",
    "\n",
    "    # 이미지 시퀀스를 저장합니다.\n",
    "\n",
    "    cv2.imwrite(\"tank_images/%05d.jpg\" % i, frame)\n",
    "\n",
    "# 비디오 닫기\n",
    "video.release()\n",
    "\n"
   ]
  },
  {
   "cell_type": "code",
   "execution_count": null,
   "metadata": {},
   "outputs": [],
   "source": []
  }
 ],
 "metadata": {
  "kernelspec": {
   "display_name": "Python 3",
   "language": "python",
   "name": "python3"
  },
  "language_info": {
   "codemirror_mode": {
    "name": "ipython",
    "version": 3
   },
   "file_extension": ".py",
   "mimetype": "text/x-python",
   "name": "python",
   "nbconvert_exporter": "python",
   "pygments_lexer": "ipython3",
   "version": "3.8.10"
  },
  "orig_nbformat": 4
 },
 "nbformat": 4,
 "nbformat_minor": 2
}
