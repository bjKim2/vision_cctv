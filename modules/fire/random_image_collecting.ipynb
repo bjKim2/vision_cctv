{
 "cells": [
  {
   "cell_type": "code",
   "execution_count": 9,
   "metadata": {},
   "outputs": [],
   "source": [
    "#BeautifulSoup\n",
    "from bs4 import BeautifulSoup\n",
    "url = 'https://picsum.photos/1920/1080'\n",
    "# url = 'https://paikdabang.com/store/'\n",
    "# page = urlopen(url)\n",
    "# soup = BeautifulSoup(page, 'html.parser')\n",
    "\n",
    "#request\n",
    "from urllib.request import urlopen\n",
    "\n",
    "#selenium\n",
    "from selenium import webdriver\n",
    "from selenium.webdriver.chrome.service import Service\n",
    "from webdriver_manager.chrome import ChromeDriverManager\n",
    "from selenium.webdriver.common.by import By\n",
    "\n",
    "import time\n",
    "\n",
    "# Chrome Browser와 Chrome Driver Version 확인하기\n",
    "\n",
    "chrome_options = webdriver.ChromeOptions()\n",
    "driver = webdriver.Chrome(service=Service(ChromeDriverManager().install()), options=chrome_options)\n",
    "\n",
    "\n",
    "\n",
    "for i in range(200):\n",
    "    driver.get(url) \n",
    "    #// 크롬열기\n",
    "\n",
    "    soup = BeautifulSoup(driver.page_source, \"html.parser\")\n",
    "    img = soup.find('img')\n",
    "    imgurl = img['src']\n",
    "\n",
    "    with urlopen(imgurl) as f:\n",
    "        with open('./images/img' + str(i)+'.jpg','wb') as h: # w - write b - binary\n",
    "            img = f.read()\n",
    "            h.write(img)\n",
    "    time.sleep(0.3)"
   ]
  },
  {
   "cell_type": "code",
   "execution_count": 8,
   "metadata": {},
   "outputs": [
    {
     "name": "stdout",
     "output_type": "stream",
     "text": [
      "https://fastly.picsum.photos/id/168/1920/1080.jpg?hmac=ZmuLNoH0AjN59T9dDfSBqmJiX-XWZ2PSKRt-nKq-Q24\n"
     ]
    }
   ],
   "source": []
  },
  {
   "cell_type": "code",
   "execution_count": null,
   "metadata": {},
   "outputs": [],
   "source": []
  }
 ],
 "metadata": {
  "kernelspec": {
   "display_name": "Python 3",
   "language": "python",
   "name": "python3"
  },
  "language_info": {
   "codemirror_mode": {
    "name": "ipython",
    "version": 3
   },
   "file_extension": ".py",
   "mimetype": "text/x-python",
   "name": "python",
   "nbconvert_exporter": "python",
   "pygments_lexer": "ipython3",
   "version": "3.8.10"
  },
  "orig_nbformat": 4
 },
 "nbformat": 4,
 "nbformat_minor": 2
}
