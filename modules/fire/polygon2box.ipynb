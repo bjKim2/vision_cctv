{
 "cells": [
  {
   "cell_type": "markdown",
   "metadata": {},
   "source": []
  },
  {
   "cell_type": "code",
   "execution_count": 1,
   "metadata": {},
   "outputs": [
    {
     "name": "stdout",
     "output_type": "stream",
     "text": [
      "172241\n",
      "172241\n"
     ]
    }
   ],
   "source": [
    "from glob import glob\n",
    "import os\n",
    "\n",
    "labels= glob('/home/tekim/Downloads/fire_val/Validation/*/*.json')\n",
    "images= glob('/home/tekim/Downloads/fire_val/Validation/*/*.jpg')\n",
    "# images2 \n",
    "print(len(labels))\n",
    "print(len(images))"
   ]
  },
  {
   "cell_type": "code",
   "execution_count": 2,
   "metadata": {},
   "outputs": [
    {
     "name": "stdout",
     "output_type": "stream",
     "text": [
      "0\n"
     ]
    }
   ],
   "source": [
    "con_labels= glob('/home/tekim/Downloads/fire_val/Validation/*/*.txt')\n",
    "print(len(con_labels))"
   ]
  },
  {
   "cell_type": "code",
   "execution_count": 3,
   "metadata": {},
   "outputs": [],
   "source": [
    "a = set()\n",
    "for i in labels:\n",
    "    a.add(os.path.basename(i)[:-4] + 'jpg')\n",
    "b = set()\n",
    "for i in images:\n",
    "    b.add(os.path.basename(i))"
   ]
  },
  {
   "cell_type": "code",
   "execution_count": 4,
   "metadata": {},
   "outputs": [
    {
     "name": "stdout",
     "output_type": "stream",
     "text": [
      "172241\n",
      "172241\n"
     ]
    }
   ],
   "source": [
    "print(len(a))\n",
    "print(len(b))"
   ]
  },
  {
   "cell_type": "code",
   "execution_count": 5,
   "metadata": {},
   "outputs": [],
   "source": [
    "c = list(a-b)"
   ]
  },
  {
   "cell_type": "code",
   "execution_count": 6,
   "metadata": {},
   "outputs": [
    {
     "data": {
      "text/plain": [
       "set()"
      ]
     },
     "execution_count": 6,
     "metadata": {},
     "output_type": "execute_result"
    }
   ],
   "source": [
    "b-a"
   ]
  },
  {
   "cell_type": "code",
   "execution_count": null,
   "metadata": {},
   "outputs": [],
   "source": []
  },
  {
   "cell_type": "code",
   "execution_count": 7,
   "metadata": {},
   "outputs": [
    {
     "data": {
      "text/plain": [
       "0"
      ]
     },
     "execution_count": 7,
     "metadata": {},
     "output_type": "execute_result"
    }
   ],
   "source": [
    "len(c)"
   ]
  },
  {
   "cell_type": "code",
   "execution_count": 8,
   "metadata": {},
   "outputs": [
    {
     "name": "stdout",
     "output_type": "stream",
     "text": [
      "172241\n",
      "172241\n"
     ]
    }
   ],
   "source": [
    "print(len(set(labels)))\n",
    "print(len(set(images)))"
   ]
  },
  {
   "cell_type": "code",
   "execution_count": 9,
   "metadata": {},
   "outputs": [],
   "source": [
    "from multiprocessing import Process"
   ]
  },
  {
   "cell_type": "code",
   "execution_count": 10,
   "metadata": {},
   "outputs": [],
   "source": [
    "import json \n",
    "import os \n",
    "from PIL import Image\n",
    "import shutil \n",
    "from tqdm import tqdm "
   ]
  },
  {
   "cell_type": "code",
   "execution_count": 11,
   "metadata": {},
   "outputs": [
    {
     "data": {
      "text/plain": [
       "'/home/tekim/Downloads/fire_val/Validation/원천화재씬'"
      ]
     },
     "execution_count": 11,
     "metadata": {},
     "output_type": "execute_result"
    }
   ],
   "source": [
    "os.path.dirname(i).split('씬')[0] + '씬'"
   ]
  },
  {
   "cell_type": "code",
   "execution_count": 12,
   "metadata": {},
   "outputs": [],
   "source": [
    "# for i in tqdm(images):\n",
    "#     des = os.path.dirname(i).split('씬')[0] + '씬'\n",
    "#     try:\n",
    "#         shutil.move(i,des)\n",
    "#     except:\n",
    "#         continue\n",
    "\n"
   ]
  },
  {
   "cell_type": "code",
   "execution_count": 13,
   "metadata": {},
   "outputs": [],
   "source": [
    "def cvt_yoloformat(xyxy,w,h):\n",
    "    box_w = xyxy[2] - xyxy[0]\n",
    "    box_h = xyxy[3] - xyxy[1]\n",
    "    return [(xyxy[0] + box_w/2)/w ,(xyxy[1] + box_h/2)/h, box_w/w, box_h/h ]"
   ]
  },
  {
   "cell_type": "code",
   "execution_count": 15,
   "metadata": {},
   "outputs": [
    {
     "name": "stdout",
     "output_type": "stream",
     "text": [
      "108295\n",
      "0\n"
     ]
    }
   ],
   "source": [
    "count1 = 0\n",
    "count2 = 0\n",
    "strange_img = []\n",
    "flag = False\n",
    "for i in (labels):\n",
    "    if flag:\n",
    "        break\n",
    "    try:\n",
    "        with open(i, 'r') as f:\n",
    "            datas = json.load(f)\n",
    "    except:\n",
    "        count1 +=1\n",
    "        continue\n",
    "    # print(i)\n",
    "\n",
    "    # img_name = datas['image']['filename']\n",
    "    img_name = os.path.basename(i)[:-4] +'jpg'\n",
    "    img_path = i.replace('라벨', '')[:-4] + 'jpg'\n",
    "\n",
    "    if not os.path.exists(img_path):\n",
    "        continue\n",
    "    try:\n",
    "        img = Image.open(img_path)\n",
    "    except:\n",
    "        strange_img.append(img_path)\n",
    "        continue\n",
    "\n",
    "    width,height = img.size\n",
    "    # img_path = i.replace('라벨','원천').split('')[0] + '/' + img_name\n",
    "\n",
    "    annos = datas['annotations']\n",
    "\n",
    "    new_datas = []\n",
    "    # try:\n",
    "    for j in range(len(annos)):\n",
    "\n",
    "        if list(annos[j].keys())[3] == 'polygon':\n",
    "            poly = annos[j]['polygon']\n",
    "            max_x, max_y, min_x, min_y = 0,0,1920,1080\n",
    "            \n",
    "            for k in poly:\n",
    "                if len(k) <=1:\n",
    "                    continue\n",
    "                p0 , p1 = int(k[0]) , int(k[1])\n",
    "                if(p1 >= 1081):\n",
    "                    print(k)\n",
    "                    flag = True\n",
    "                    break\n",
    "                max_x = max(max_x,p0)\n",
    "                max_y = max(max_y,p1)\n",
    "                min_x = min(min_x,p0)\n",
    "                min_y = min(min_y,p1)\n",
    "\n",
    "            bbox = [min_x,min_y,max_x,max_y]\n",
    "            xywh = cvt_yoloformat(bbox,width,height)\n",
    "            if (xywh[2] > 1) | (xywh[3] > 1):\n",
    "                print(bbox)\n",
    "                print(xywh)\n",
    "                print(i)\n",
    "                print(img.size)\n",
    "                print(poly)\n",
    "                \n",
    "                flag = True\n",
    "                break\n",
    "            \n",
    "            # print(xywh)\n",
    "            # new_datas.append(bbox)\n",
    "\n",
    "            abc = [int(annos[j]['class']), *xywh]\n",
    "            new_datas.append(abc)\n",
    "\n",
    "        else:\n",
    "\n",
    "            bbox = annos[j]['box']\n",
    "            # print(bbox)\n",
    "            xywh = cvt_yoloformat(bbox,width,height)\n",
    "            abc = [int(annos[j]['class']), *xywh]\n",
    "            new_datas.append(abc)\n",
    "    # except:\n",
    "    #     count2 +=1\n",
    "    print(i)\n",
    "    lab_dir = os.path.dirname(i).replace('[', '').replace(']','_')\n",
    "\n",
    "    # print(lab_dir + os.path.basename(i)[:-4] + 'txt')\n",
    "\n",
    "    with open(lab_dir +'/' + os.path.basename(i)[:-4] + 'txt','w') as f:\n",
    "        for j in new_datas:\n",
    "            j = [str(k) for k in j]\n",
    "            f.write(' '.join(j) + '\\n')\n",
    "\n",
    "print('count1 : ',count1)\n",
    "print(count2)\n"
   ]
  },
  {
   "cell_type": "code",
   "execution_count": 29,
   "metadata": {},
   "outputs": [
    {
     "ename": "NameError",
     "evalue": "name 'lab_dir' is not defined",
     "output_type": "error",
     "traceback": [
      "\u001b[0;31m---------------------------------------------------------------------------\u001b[0m",
      "\u001b[0;31mNameError\u001b[0m                                 Traceback (most recent call last)",
      "Cell \u001b[0;32mIn[29], line 1\u001b[0m\n\u001b[0;32m----> 1\u001b[0m \u001b[39mprint\u001b[39m(lab_dir)\n",
      "\u001b[0;31mNameError\u001b[0m: name 'lab_dir' is not defined"
     ]
    }
   ],
   "source": [
    "print(lab_dir)"
   ]
  },
  {
   "cell_type": "code",
   "execution_count": 26,
   "metadata": {},
   "outputs": [
    {
     "name": "stdout",
     "output_type": "stream",
     "text": [
      "108294\n",
      "0\n"
     ]
    }
   ],
   "source": [
    "print(count1)\n",
    "print(count2)"
   ]
  },
  {
   "cell_type": "code",
   "execution_count": null,
   "metadata": {},
   "outputs": [],
   "source": []
  },
  {
   "cell_type": "code",
   "execution_count": 139,
   "metadata": {},
   "outputs": [
    {
     "data": {
      "text/plain": [
       "\"['1', '2', '3', '4']\""
      ]
     },
     "execution_count": 139,
     "metadata": {},
     "output_type": "execute_result"
    }
   ],
   "source": [
    "a = ['1','2','3','4']\n",
    "str(a)\n"
   ]
  },
  {
   "cell_type": "code",
   "execution_count": 24,
   "metadata": {},
   "outputs": [],
   "source": [
    "txts = glob('/media/mws/DATA/fire_videos/Training/*/*.txt')\n",
    "imgs1 = glob('/media/mws/DATA/fire_videos/Training/화재씬/*.jpg')\n",
    "imgs2 = glob('/media/mws/DATA/fire_videos/Training/유사씬/*.jpg')\n",
    "imgs3 = glob('/media/mws/DATA/fire_videos/Training/무관씬/*.jpg')\n"
   ]
  },
  {
   "cell_type": "code",
   "execution_count": 27,
   "metadata": {},
   "outputs": [
    {
     "data": {
      "text/plain": [
       "'2 3'"
      ]
     },
     "execution_count": 27,
     "metadata": {},
     "output_type": "execute_result"
    }
   ],
   "source": [
    "a= ['1' ,'2','3']\n",
    "' '.join(a[1:])"
   ]
  },
  {
   "cell_type": "code",
   "execution_count": 25,
   "metadata": {},
   "outputs": [
    {
     "name": "stdout",
     "output_type": "stream",
     "text": [
      "493159\n",
      "548000\n",
      "243351\n"
     ]
    },
    {
     "data": {
      "text/plain": [
       "1284212"
      ]
     },
     "execution_count": 25,
     "metadata": {},
     "output_type": "execute_result"
    }
   ],
   "source": [
    "print(len(imgs1))\n",
    "print(len(imgs2))\n",
    "print(len(imgs3))\n",
    "len(txts)"
   ]
  },
  {
   "cell_type": "code",
   "execution_count": null,
   "metadata": {},
   "outputs": [
    {
     "name": "stdout",
     "output_type": "stream",
     "text": [
      "493159\n",
      "548000\n",
      "243351\n"
     ]
    }
   ],
   "source": [
    "print(len(imgs1))\n",
    "print(len(imgs2))\n",
    "print(len(imgs3))\n",
    "len(txts)"
   ]
  },
  {
   "cell_type": "code",
   "execution_count": 19,
   "metadata": {},
   "outputs": [
    {
     "data": {
      "text/plain": [
       "1284212"
      ]
     },
     "execution_count": 19,
     "metadata": {},
     "output_type": "execute_result"
    }
   ],
   "source": [
    "len(txts)"
   ]
  },
  {
   "cell_type": "code",
   "execution_count": 32,
   "metadata": {},
   "outputs": [
    {
     "data": {
      "text/plain": [
       "1267820"
      ]
     },
     "execution_count": 32,
     "metadata": {},
     "output_type": "execute_result"
    }
   ],
   "source": [
    "len(txts)"
   ]
  },
  {
   "cell_type": "code",
   "execution_count": 38,
   "metadata": {},
   "outputs": [
    {
     "data": {
      "text/plain": [
       "1284212"
      ]
     },
     "execution_count": 38,
     "metadata": {},
     "output_type": "execute_result"
    }
   ],
   "source": [
    "len(txts)"
   ]
  },
  {
   "cell_type": "code",
   "execution_count": 21,
   "metadata": {},
   "outputs": [],
   "source": [
    "imgses  = imgs1 + imgs2 + imgs3"
   ]
  },
  {
   "cell_type": "code",
   "execution_count": null,
   "metadata": {},
   "outputs": [],
   "source": []
  },
  {
   "cell_type": "code",
   "execution_count": 22,
   "metadata": {},
   "outputs": [
    {
     "data": {
      "text/plain": [
       "1284510"
      ]
     },
     "execution_count": 22,
     "metadata": {},
     "output_type": "execute_result"
    }
   ],
   "source": [
    "len(imgses)"
   ]
  },
  {
   "cell_type": "code",
   "execution_count": null,
   "metadata": {},
   "outputs": [],
   "source": [
    "imgs2 = glob('')"
   ]
  },
  {
   "cell_type": "code",
   "execution_count": 21,
   "metadata": {},
   "outputs": [
    {
     "data": {
      "text/plain": [
       "476766"
      ]
     },
     "execution_count": 21,
     "metadata": {},
     "output_type": "execute_result"
    }
   ],
   "source": [
    "len(txts)"
   ]
  },
  {
   "cell_type": "code",
   "execution_count": null,
   "metadata": {},
   "outputs": [],
   "source": [
    "\n"
   ]
  }
 ],
 "metadata": {
  "kernelspec": {
   "display_name": "Python 3",
   "language": "python",
   "name": "python3"
  },
  "language_info": {
   "codemirror_mode": {
    "name": "ipython",
    "version": 3
   },
   "file_extension": ".py",
   "mimetype": "text/x-python",
   "name": "python",
   "nbconvert_exporter": "python",
   "pygments_lexer": "ipython3",
   "version": "3.8.10 (default, Mar 13 2023, 10:26:41) \n[GCC 9.4.0]"
  },
  "orig_nbformat": 4,
  "vscode": {
   "interpreter": {
    "hash": "916dbcbb3f70747c44a77c7bcd40155683ae19c65e1c03b4aa3499c5328201f1"
   }
  }
 },
 "nbformat": 4,
 "nbformat_minor": 2
}
