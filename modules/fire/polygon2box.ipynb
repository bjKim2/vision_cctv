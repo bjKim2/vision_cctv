{
 "cells": [
  {
   "cell_type": "markdown",
   "metadata": {},
   "source": []
  },
  {
   "cell_type": "code",
   "execution_count": 2,
   "metadata": {},
   "outputs": [],
   "source": [
    "from glob import glob\n",
    "import os\n",
    "\n",
    "labels= glob('/media/mws/DATA/fire_videos/Training/*/*.json')\n",
    "images= glob('/media/mws/DATA/fire_videos/Training/*/*.jpg')\n",
    "# images2 "
   ]
  },
  {
   "cell_type": "code",
   "execution_count": 3,
   "metadata": {},
   "outputs": [
    {
     "name": "stdout",
     "output_type": "stream",
     "text": [
      "1369963\n",
      "1284510\n"
     ]
    }
   ],
   "source": [
    "print(len(labels))\n",
    "print(len(images))"
   ]
  },
  {
   "cell_type": "code",
   "execution_count": 4,
   "metadata": {},
   "outputs": [],
   "source": [
    "a = set()\n",
    "for i in labels:\n",
    "    a.add(os.path.basename(i)[:-4] + 'jpg')"
   ]
  },
  {
   "cell_type": "code",
   "execution_count": 5,
   "metadata": {},
   "outputs": [],
   "source": [
    "b = set()\n",
    "for i in images:\n",
    "    b.add(os.path.basename(i))"
   ]
  },
  {
   "cell_type": "code",
   "execution_count": 6,
   "metadata": {},
   "outputs": [
    {
     "data": {
      "text/plain": [
       "1369963"
      ]
     },
     "execution_count": 6,
     "metadata": {},
     "output_type": "execute_result"
    }
   ],
   "source": [
    "len(a)"
   ]
  },
  {
   "cell_type": "code",
   "execution_count": 7,
   "metadata": {},
   "outputs": [
    {
     "data": {
      "text/plain": [
       "1284510"
      ]
     },
     "execution_count": 7,
     "metadata": {},
     "output_type": "execute_result"
    }
   ],
   "source": [
    "len(b)"
   ]
  },
  {
   "cell_type": "code",
   "execution_count": 8,
   "metadata": {},
   "outputs": [],
   "source": [
    "c = list(a-b)"
   ]
  },
  {
   "cell_type": "code",
   "execution_count": 9,
   "metadata": {},
   "outputs": [
    {
     "data": {
      "text/plain": [
       "{'S3-N0806MS00922.jpg',\n",
       " 'S3-N0806MS00923.jpg',\n",
       " 'S3-N0806MS00924.jpg',\n",
       " 'S3-N0806MS00925.jpg',\n",
       " 'S3-N0806MS00926.jpg',\n",
       " 'S3-N0806MS00927.jpg',\n",
       " 'S3-N0806MS00928.jpg',\n",
       " 'S3-N0806MS00929.jpg',\n",
       " 'S3-N0806MS00930.jpg',\n",
       " 'S3-N0806MS00931.jpg',\n",
       " 'S3-N0806MS00932.jpg',\n",
       " 'S3-N0806MS00933.jpg',\n",
       " 'S3-N0806MS00934.jpg',\n",
       " 'S3-N0806MS00935.jpg',\n",
       " 'S3-N0806MS00936.jpg',\n",
       " 'S3-N0806MS00937.jpg',\n",
       " 'S3-N0806MS00938.jpg',\n",
       " 'S3-N0806MS00939.jpg',\n",
       " 'S3-N0806MS00940.jpg',\n",
       " 'S3-N0806MS00941.jpg',\n",
       " 'S3-N0806MS00942.jpg',\n",
       " 'S3-N0806MS00943.jpg',\n",
       " 'S3-N0806MS00944.jpg',\n",
       " 'S3-N0806MS00945.jpg',\n",
       " 'S3-N0806MS00946.jpg',\n",
       " 'S3-N0806MS00947.jpg',\n",
       " 'S3-N0806MS00948.jpg',\n",
       " 'S3-N0806MS00949.jpg',\n",
       " 'S3-N0806MS00950.jpg',\n",
       " 'S3-N0806MS00951.jpg',\n",
       " 'S3-N0806MS00952.jpg',\n",
       " 'S3-N0806MS00953.jpg',\n",
       " 'S3-N0806MS00954.jpg',\n",
       " 'S3-N0806MS00955.jpg',\n",
       " 'S3-N0806MS00956.jpg',\n",
       " 'S3-N0806MS00957.jpg',\n",
       " 'S3-N0806MS00958.jpg',\n",
       " 'S3-N0806MS00959.jpg',\n",
       " 'S3-N0806MS00960.jpg',\n",
       " 'S3-N0806MS00961.jpg',\n",
       " 'S3-N0806MS00962.jpg',\n",
       " 'S3-N0806MS00963.jpg',\n",
       " 'S3-N0806MS00964.jpg',\n",
       " 'S3-N0806MS00965.jpg',\n",
       " 'S3-N0806MS00966.jpg',\n",
       " 'S3-N0806MS00967.jpg',\n",
       " 'S3-N0806MS00968.jpg',\n",
       " 'S3-N0806MS00969.jpg',\n",
       " 'S3-N0806MS00970.jpg',\n",
       " 'S3-N0806MS00971.jpg',\n",
       " 'S3-N0806MS00972.jpg',\n",
       " 'S3-N0806MS00973.jpg',\n",
       " 'S3-N0806MS00974.jpg',\n",
       " 'S3-N0806MS00975.jpg',\n",
       " 'S3-N0806MS00976.jpg',\n",
       " 'S3-N0806MS00977.jpg',\n",
       " 'S3-N0806MS00978.jpg',\n",
       " 'S3-N0806MS00979.jpg',\n",
       " 'S3-N0806MS00980.jpg',\n",
       " 'S3-N0806MS00981.jpg',\n",
       " 'S3-N0806MS00982.jpg',\n",
       " 'S3-N0806MS00983.jpg',\n",
       " 'S3-N0806MS00984.jpg',\n",
       " 'S3-N0806MS00985.jpg',\n",
       " 'S3-N0806MS00986.jpg',\n",
       " 'S3-N0806MS00987.jpg',\n",
       " 'S3-N0806MS00988.jpg',\n",
       " 'S3-N0806MS00989.jpg',\n",
       " 'S3-N0806MS00990.jpg',\n",
       " 'S3-N0806MS00991.jpg',\n",
       " 'S3-N0806MS00992.jpg',\n",
       " 'S3-N0806MS00993.jpg',\n",
       " 'S3-N0806MS00994.jpg',\n",
       " 'S3-N0806MS00995.jpg',\n",
       " 'S3-N0806MS00996.jpg',\n",
       " 'S3-N0806MS00997.jpg',\n",
       " 'S3-N0806MS00998.jpg',\n",
       " 'S3-N0806MS00999.jpg',\n",
       " 'S3-N0806MS01000.jpg',\n",
       " 'S3-N0806MS01001.jpg',\n",
       " 'S3-N0806MS01002.jpg',\n",
       " 'S3-N0806MS01003.jpg',\n",
       " 'S3-N0806MS01004.jpg',\n",
       " 'S3-N0806MS01005.jpg',\n",
       " 'S3-N0806MS01006.jpg',\n",
       " 'S3-N0806MS01007.jpg',\n",
       " 'S3-N0806MS01008.jpg',\n",
       " 'S3-N0806MS01009.jpg',\n",
       " 'S3-N0806MS01010.jpg',\n",
       " 'S3-N0806MS01011.jpg',\n",
       " 'S3-N0806MS01012.jpg',\n",
       " 'S3-N0806MS01013.jpg',\n",
       " 'S3-N0806MS01014.jpg',\n",
       " 'S3-N0806MS01015.jpg',\n",
       " 'S3-N0806MS01016.jpg',\n",
       " 'S3-N0806MS01017.jpg',\n",
       " 'S3-N0806MS01018.jpg',\n",
       " 'S3-N0806MS01019.jpg',\n",
       " 'S3-N0806MS01020.jpg',\n",
       " 'S3-N0806MS01021.jpg',\n",
       " 'S3-N0806MS01022.jpg',\n",
       " 'S3-N0806MS01023.jpg',\n",
       " 'S3-N0806MS01024.jpg',\n",
       " 'S3-N0806MS01025.jpg',\n",
       " 'S3-N0806MS01026.jpg',\n",
       " 'S3-N0806MS01027.jpg',\n",
       " 'S3-N0806MS01028.jpg',\n",
       " 'S3-N0806MS01029.jpg',\n",
       " 'S3-N0806MS01030.jpg',\n",
       " 'S3-N0806MS01031.jpg',\n",
       " 'S3-N0806MS01032.jpg',\n",
       " 'S3-N0806MS01033.jpg',\n",
       " 'S3-N0806MS01034.jpg',\n",
       " 'S3-N0806MS01035.jpg',\n",
       " 'S3-N0806MS01036.jpg',\n",
       " 'S3-N0806MS01037.jpg',\n",
       " 'S3-N0806MS01038.jpg',\n",
       " 'S3-N0806MS01039.jpg',\n",
       " 'S3-N0806MS01040.jpg',\n",
       " 'S3-N0806MS01041.jpg',\n",
       " 'S3-N0806MS01042.jpg',\n",
       " 'S3-N0806MS01043.jpg',\n",
       " 'S3-N0806MS01044.jpg',\n",
       " 'S3-N0806MS01045.jpg',\n",
       " 'S3-N0806MS01046.jpg',\n",
       " 'S3-N0806MS01047.jpg',\n",
       " 'S3-N0806MS01048.jpg',\n",
       " 'S3-N0806MS01049.jpg',\n",
       " 'S3-N0806MS01050.jpg',\n",
       " 'S3-N0806MS01051.jpg',\n",
       " 'S3-N0806MS01052.jpg',\n",
       " 'S3-N0806MS01053.jpg',\n",
       " 'S3-N0806MS01054.jpg',\n",
       " 'S3-N0806MS01055.jpg',\n",
       " 'S3-N0806MS01056.jpg',\n",
       " 'S3-N0806MS01057.jpg',\n",
       " 'S3-N0806MS01058.jpg',\n",
       " 'S3-N0806MS01059.jpg',\n",
       " 'S3-N0806MS01060.jpg',\n",
       " 'S3-N0806MS01061.jpg',\n",
       " 'S3-N0806MS01062.jpg',\n",
       " 'S3-N0806MS01063.jpg',\n",
       " 'S3-N0806MS01064.jpg',\n",
       " 'S3-N0806MS01065.jpg',\n",
       " 'S3-N0806MS01066.jpg',\n",
       " 'S3-N0806MS01067.jpg',\n",
       " 'S3-N0806MS01068.jpg',\n",
       " 'S3-N0806MS01069.jpg',\n",
       " 'S3-N0806MS01070.jpg',\n",
       " 'S3-N0806MS01071.jpg',\n",
       " 'S3-N0806MS01072.jpg',\n",
       " 'S3-N0806MS01073.jpg',\n",
       " 'S3-N0806MS01074.jpg',\n",
       " 'S3-N0806MS01075.jpg',\n",
       " 'S3-N0806MS01076.jpg',\n",
       " 'S3-N0806MS01077.jpg',\n",
       " 'S3-N0806MS01078.jpg',\n",
       " 'S3-N0806MS01079.jpg',\n",
       " 'S3-N0806MS01080.jpg',\n",
       " 'S3-N0806MS01081.jpg',\n",
       " 'S3-N0806MS01082.jpg',\n",
       " 'S3-N0806MS01083.jpg',\n",
       " 'S3-N0806MS01084.jpg',\n",
       " 'S3-N0806MS01085.jpg',\n",
       " 'S3-N0806MS01086.jpg',\n",
       " 'S3-N0806MS01087.jpg',\n",
       " 'S3-N0806MS01088.jpg',\n",
       " 'S3-N0806MS01089.jpg',\n",
       " 'S3-N0806MS01090.jpg',\n",
       " 'S3-N0806MS01091.jpg',\n",
       " 'S3-N0806MS01092.jpg',\n",
       " 'S3-N0806MS01093.jpg',\n",
       " 'S3-N0806MS01094.jpg',\n",
       " 'S3-N0806MS01095.jpg',\n",
       " 'S3-N0806MS01096.jpg',\n",
       " 'S3-N0806MS01097.jpg',\n",
       " 'S3-N0806MS01098.jpg',\n",
       " 'S3-N0806MS01099.jpg',\n",
       " 'S3-N0806MS01100.jpg',\n",
       " 'S3-N0806MS01101.jpg',\n",
       " 'S3-N0806MS01102.jpg',\n",
       " 'S3-N0806MS01103.jpg',\n",
       " 'S3-N0806MS01104.jpg',\n",
       " 'S3-N0806MS01105.jpg',\n",
       " 'S3-N0806MS01106.jpg',\n",
       " 'S3-N0806MS01107.jpg',\n",
       " 'S3-N0806MS01108.jpg',\n",
       " 'S3-N0806MS01109.jpg',\n",
       " 'S3-N0806MS01110.jpg',\n",
       " 'S3-N0806MS01111.jpg',\n",
       " 'S3-N0806MS01112.jpg',\n",
       " 'S3-N0806MS01113.jpg',\n",
       " 'S3-N0806MS01114.jpg',\n",
       " 'S3-N0806MS01115.jpg',\n",
       " 'S3-N0806MS01116.jpg',\n",
       " 'S3-N0806MS01117.jpg',\n",
       " 'S3-N0806MS01118.jpg',\n",
       " 'S3-N0806MS01119.jpg',\n",
       " 'S3-N0806MS01120.jpg',\n",
       " 'S3-N0806MS01121.jpg',\n",
       " 'S3-N0806MS01122.jpg',\n",
       " 'S3-N0806MS01123.jpg',\n",
       " 'S3-N0806MS01124.jpg',\n",
       " 'S3-N0806MS01125.jpg',\n",
       " 'S3-N0806MS01126.jpg',\n",
       " 'S3-N0806MS01127.jpg',\n",
       " 'S3-N0806MS01128.jpg',\n",
       " 'S3-N0806MS01129.jpg',\n",
       " 'S3-N0806MS01130.jpg',\n",
       " 'S3-N0806MS01131.jpg',\n",
       " 'S3-N0806MS01132.jpg',\n",
       " 'S3-N0806MS01133.jpg',\n",
       " 'S3-N0806MS01134.jpg',\n",
       " 'S3-N0806MS01135.jpg',\n",
       " 'S3-N0806MS01136.jpg',\n",
       " 'S3-N0806MS01137.jpg',\n",
       " 'S3-N0806MS01138.jpg',\n",
       " 'S3-N0806MS01139.jpg',\n",
       " 'S3-N0806MS01140.jpg',\n",
       " 'S3-N0806MS01141.jpg',\n",
       " 'S3-N0806MS01142.jpg',\n",
       " 'S3-N0806MS01143.jpg',\n",
       " 'S3-N0806MS01144.jpg',\n",
       " 'S3-N0806MS01145.jpg',\n",
       " 'S3-N0806MS01146.jpg',\n",
       " 'S3-N0806MS01147.jpg',\n",
       " 'S3-N0806MS01148.jpg',\n",
       " 'S3-N0806MS01149.jpg',\n",
       " 'S3-N0806MS01150.jpg',\n",
       " 'S3-N0806MS01151.jpg',\n",
       " 'S3-N0806MS01152.jpg',\n",
       " 'S3-N0806MS01153.jpg',\n",
       " 'S3-N0806MS01154.jpg',\n",
       " 'S3-N0806MS01155.jpg',\n",
       " 'S3-N0806MS01156.jpg',\n",
       " 'S3-N0806MS01157.jpg',\n",
       " 'S3-N0806MS01158.jpg',\n",
       " 'S3-N0806MS01159.jpg',\n",
       " 'S3-N0806MS01160.jpg',\n",
       " 'S3-N0806MS01161.jpg',\n",
       " 'S3-N0806MS01162.jpg',\n",
       " 'S3-N0806MS01163.jpg',\n",
       " 'S3-N0806MS01164.jpg',\n",
       " 'S3-N0885MS80003.jpg',\n",
       " 'S3-N0897MS80029.jpg',\n",
       " 'S3-N1753MN01783.jpg',\n",
       " 'S3-N1753MN01784.jpg',\n",
       " 'S3-N1753MN01785.jpg',\n",
       " 'S3-N1753MN01786.jpg',\n",
       " 'S3-N1753MN01787.jpg',\n",
       " 'S3-N1753MN01788.jpg',\n",
       " 'S3-N1753MN01789.jpg',\n",
       " 'S3-N1753MN01790.jpg',\n",
       " 'S3-N1753MN01791.jpg',\n",
       " 'S3-N1753MN01792.jpg',\n",
       " 'S3-N1753MN01793.jpg',\n",
       " 'S3-N1753MN01794.jpg',\n",
       " 'S3-N1753MN01795.jpg',\n",
       " 'S3-N1753MN01796.jpg',\n",
       " 'S3-N1753MN01797.jpg',\n",
       " 'S3-N1753MN01798.jpg',\n",
       " 'S3-N1753MN01799.jpg',\n",
       " 'S3-N1753MN01800.jpg',\n",
       " 'S3-N1753MN01801.jpg',\n",
       " 'S3-N1753MN01802.jpg',\n",
       " 'S3-N1753MN01803.jpg',\n",
       " 'S3-N1753MN01804.jpg',\n",
       " 'S3-N1753MN01805.jpg',\n",
       " 'S3-N1753MN01806.jpg',\n",
       " 'S3-N1753MN01807.jpg',\n",
       " 'S3-N1753MN01808.jpg',\n",
       " 'S3-N1753MN01809.jpg',\n",
       " 'S3-N1753MN01810.jpg',\n",
       " 'S3-N1753MN01811.jpg',\n",
       " 'S3-N1753MN01812.jpg',\n",
       " 'S3-N1753MN01813.jpg',\n",
       " 'S3-N1753MN01814.jpg',\n",
       " 'S3-N1753MN01815.jpg',\n",
       " 'S3-N1753MN01816.jpg',\n",
       " 'S3-N1753MN01817.jpg',\n",
       " 'S3-N1753MN01818.jpg',\n",
       " 'S3-N1753MN01819.jpg',\n",
       " 'S3-N1753MN01820.jpg',\n",
       " 'S3-N1753MN01821.jpg',\n",
       " 'S3-N1753MN01822.jpg',\n",
       " 'S3-N1753MN01823.jpg',\n",
       " 'S3-N1753MN01824.jpg',\n",
       " 'S3-N1753MN01825.jpg',\n",
       " 'S3-N1753MN01826.jpg',\n",
       " 'S3-N1753MN01827.jpg',\n",
       " 'S3-N1753MN01828.jpg',\n",
       " 'S3-N1753MN01829.jpg',\n",
       " 'S3-N1753MN01830.jpg',\n",
       " 'S3-N1753MN01831.jpg',\n",
       " 'S3-N1753MN01832.jpg',\n",
       " 'S3-N1753MN01833.jpg',\n",
       " 'S3-N1753MN01834.jpg'}"
      ]
     },
     "execution_count": 9,
     "metadata": {},
     "output_type": "execute_result"
    }
   ],
   "source": [
    "b-a"
   ]
  },
  {
   "cell_type": "code",
   "execution_count": 10,
   "metadata": {},
   "outputs": [
    {
     "data": {
      "text/plain": [
       "85750"
      ]
     },
     "execution_count": 10,
     "metadata": {},
     "output_type": "execute_result"
    }
   ],
   "source": [
    "len(c)"
   ]
  },
  {
   "cell_type": "code",
   "execution_count": 11,
   "metadata": {},
   "outputs": [
    {
     "data": {
      "text/plain": [
       "1284510"
      ]
     },
     "execution_count": 11,
     "metadata": {},
     "output_type": "execute_result"
    }
   ],
   "source": [
    "len(b)"
   ]
  },
  {
   "cell_type": "code",
   "execution_count": 12,
   "metadata": {},
   "outputs": [
    {
     "name": "stdout",
     "output_type": "stream",
     "text": [
      "1369963\n",
      "1284510\n"
     ]
    }
   ],
   "source": [
    "print(len(set(labels)))\n",
    "print(len(set(images)))"
   ]
  },
  {
   "cell_type": "code",
   "execution_count": 13,
   "metadata": {},
   "outputs": [],
   "source": [
    "from multiprocessing import Process"
   ]
  },
  {
   "cell_type": "code",
   "execution_count": 14,
   "metadata": {},
   "outputs": [],
   "source": [
    "import json \n",
    "import os \n",
    "from PIL import Image\n",
    "import shutil \n",
    "from tqdm import tqdm "
   ]
  },
  {
   "cell_type": "code",
   "execution_count": 15,
   "metadata": {},
   "outputs": [
    {
     "data": {
      "text/plain": [
       "'/media/mws/DATA/fire_videos/Training/화재씬'"
      ]
     },
     "execution_count": 15,
     "metadata": {},
     "output_type": "execute_result"
    }
   ],
   "source": [
    "os.path.dirname(i).split('씬')[0] + '씬'"
   ]
  },
  {
   "cell_type": "code",
   "execution_count": 16,
   "metadata": {},
   "outputs": [],
   "source": [
    "# for i in tqdm(images):\n",
    "#     des = os.path.dirname(i).split('씬')[0] + '씬'\n",
    "#     try:\n",
    "#         shutil.move(i,des)\n",
    "#     except:\n",
    "#         continue\n",
    "\n"
   ]
  },
  {
   "cell_type": "code",
   "execution_count": 17,
   "metadata": {},
   "outputs": [],
   "source": [
    "def cvt_yoloformat(xyxy,w,h):\n",
    "    box_w = xyxy[2] - xyxy[0]\n",
    "    box_h = xyxy[3] - xyxy[1]\n",
    "    return [(xyxy[0] + box_w/2)/w ,(xyxy[1] + box_h/2)/h, box_w/w, box_h/h ]"
   ]
  },
  {
   "cell_type": "code",
   "execution_count": 22,
   "metadata": {},
   "outputs": [
    {
     "name": "stderr",
     "output_type": "stream",
     "text": [
      "100%|██████████| 1369963/1369963 [12:54<00:00, 1768.37it/s]"
     ]
    },
    {
     "name": "stdout",
     "output_type": "stream",
     "text": [
      "0\n",
      "0\n"
     ]
    },
    {
     "name": "stderr",
     "output_type": "stream",
     "text": [
      "\n"
     ]
    }
   ],
   "source": [
    "count1 = 0\n",
    "count2 = 0\n",
    "strange_img = []\n",
    "flag = False\n",
    "for i in tqdm(labels):\n",
    "    if flag:\n",
    "        break\n",
    "    try:\n",
    "        with open(i, 'r') as f:\n",
    "            datas = json.load(f)\n",
    "    except:\n",
    "        count1 +=1\n",
    "        continue\n",
    "    # print(i)\n",
    "\n",
    "    # img_name = datas['image']['filename']\n",
    "    img_name = os.path.basename(i)[:-4] +'jpg'\n",
    "    img_path = i.replace('[라벨]', '')[:-4] + 'jpg'\n",
    "\n",
    "    if not os.path.exists(img_path):\n",
    "        continue\n",
    "\n",
    "    try:\n",
    "        img = Image.open(img_path)\n",
    "    except:\n",
    "        strange_img.append(img_path)\n",
    "        continue\n",
    "\n",
    "    width,height = img.size\n",
    "    # img_path = i.replace('라벨','원천').split('')[0] + '/' + img_name\n",
    "\n",
    "    annos = datas['annotations']\n",
    "\n",
    "    new_datas = []\n",
    "    # try:\n",
    "    for j in range(len(annos)):\n",
    "\n",
    "        if list(annos[j].keys())[3] == 'polygon':\n",
    "            poly = annos[j]['polygon']\n",
    "            max_x, max_y, min_x, min_y = 0,0,0,0\n",
    "            \n",
    "            for k in poly:\n",
    "                if len(k) <=1:\n",
    "                    continue\n",
    "                p0 , p1 = int(k[0]) , int(k[1])\n",
    "                if(p1 >= 1081):\n",
    "                    print(k)\n",
    "                    flag = True\n",
    "                    break\n",
    "                max_x = max(max_x,p0)\n",
    "                max_y = max(max_y,p1)\n",
    "                min_x = min(min_x,p0)\n",
    "                min_y = min(min_y,p1)\n",
    "\n",
    "            bbox = [min_x,min_y,max_x,max_y]\n",
    "            xywh = cvt_yoloformat(bbox,width,height)\n",
    "            if (xywh[2] > 1) | (xywh[3] > 1):\n",
    "                print(bbox)\n",
    "                print(xywh)\n",
    "                print(i)\n",
    "                print(img.size)\n",
    "                print(poly)\n",
    "                \n",
    "                flag = True\n",
    "                break\n",
    "            \n",
    "            # print(xywh)\n",
    "            # new_datas.append(bbox)\n",
    "\n",
    "            abc = [int(annos[j]['class']), *xywh]\n",
    "            new_datas.append(abc)\n",
    "\n",
    "        else:\n",
    "\n",
    "            bbox = annos[j]['box']\n",
    "            # print(bbox)\n",
    "            xywh = cvt_yoloformat(bbox,width,height)\n",
    "            abc = [int(annos[j]['class']), *xywh]\n",
    "            new_datas.append(abc)\n",
    "    # except:\n",
    "    #     count2 +=1\n",
    "    lab_dir = os.path.dirname(i).replace('[', '').replace(']','_')\n",
    "    # print(lab_dir + os.path.basename(i)[:-4] + 'txt')\n",
    "\n",
    "    with open(lab_dir +'/' + os.path.basename(i)[:-4] + 'txt','w') as f:\n",
    "        for j in new_datas:\n",
    "            j = [str(k) for k in j]\n",
    "            f.write(' '.join(j) + '\\n')\n",
    "\n",
    "print(count1)\n",
    "print(count2)\n"
   ]
  },
  {
   "cell_type": "code",
   "execution_count": 23,
   "metadata": {},
   "outputs": [
    {
     "name": "stdout",
     "output_type": "stream",
     "text": [
      "0\n",
      "0\n"
     ]
    }
   ],
   "source": [
    "print(count1)\n",
    "print(count2)"
   ]
  },
  {
   "cell_type": "code",
   "execution_count": null,
   "metadata": {},
   "outputs": [],
   "source": []
  },
  {
   "cell_type": "code",
   "execution_count": 139,
   "metadata": {},
   "outputs": [
    {
     "data": {
      "text/plain": [
       "\"['1', '2', '3', '4']\""
      ]
     },
     "execution_count": 139,
     "metadata": {},
     "output_type": "execute_result"
    }
   ],
   "source": [
    "a = ['1','2','3','4']\n",
    "str(a)\n"
   ]
  },
  {
   "cell_type": "code",
   "execution_count": 24,
   "metadata": {},
   "outputs": [],
   "source": [
    "txts = glob('/media/mws/DATA/fire_videos/Training/*/*.txt')\n",
    "imgs1 = glob('/media/mws/DATA/fire_videos/Training/화재씬/*.jpg')\n",
    "imgs2 = glob('/media/mws/DATA/fire_videos/Training/유사씬/*.jpg')\n",
    "imgs3 = glob('/media/mws/DATA/fire_videos/Training/무관씬/*.jpg')\n"
   ]
  },
  {
   "cell_type": "code",
   "execution_count": 27,
   "metadata": {},
   "outputs": [
    {
     "data": {
      "text/plain": [
       "'2 3'"
      ]
     },
     "execution_count": 27,
     "metadata": {},
     "output_type": "execute_result"
    }
   ],
   "source": [
    "a= ['1' ,'2','3']\n",
    "' '.join(a[1:])"
   ]
  },
  {
   "cell_type": "code",
   "execution_count": 25,
   "metadata": {},
   "outputs": [
    {
     "name": "stdout",
     "output_type": "stream",
     "text": [
      "493159\n",
      "548000\n",
      "243351\n"
     ]
    },
    {
     "data": {
      "text/plain": [
       "1284212"
      ]
     },
     "execution_count": 25,
     "metadata": {},
     "output_type": "execute_result"
    }
   ],
   "source": [
    "print(len(imgs1))\n",
    "print(len(imgs2))\n",
    "print(len(imgs3))\n",
    "len(txts)"
   ]
  },
  {
   "cell_type": "code",
   "execution_count": null,
   "metadata": {},
   "outputs": [
    {
     "name": "stdout",
     "output_type": "stream",
     "text": [
      "493159\n",
      "548000\n",
      "243351\n"
     ]
    }
   ],
   "source": [
    "print(len(imgs1))\n",
    "print(len(imgs2))\n",
    "print(len(imgs3))\n",
    "len(txts)"
   ]
  },
  {
   "cell_type": "code",
   "execution_count": 19,
   "metadata": {},
   "outputs": [
    {
     "data": {
      "text/plain": [
       "1284212"
      ]
     },
     "execution_count": 19,
     "metadata": {},
     "output_type": "execute_result"
    }
   ],
   "source": [
    "len(txts)"
   ]
  },
  {
   "cell_type": "code",
   "execution_count": 32,
   "metadata": {},
   "outputs": [
    {
     "data": {
      "text/plain": [
       "1267820"
      ]
     },
     "execution_count": 32,
     "metadata": {},
     "output_type": "execute_result"
    }
   ],
   "source": [
    "len(txts)"
   ]
  },
  {
   "cell_type": "code",
   "execution_count": 38,
   "metadata": {},
   "outputs": [
    {
     "data": {
      "text/plain": [
       "1284212"
      ]
     },
     "execution_count": 38,
     "metadata": {},
     "output_type": "execute_result"
    }
   ],
   "source": [
    "len(txts)"
   ]
  },
  {
   "cell_type": "code",
   "execution_count": 21,
   "metadata": {},
   "outputs": [],
   "source": [
    "imgses  = imgs1 + imgs2 + imgs3"
   ]
  },
  {
   "cell_type": "code",
   "execution_count": null,
   "metadata": {},
   "outputs": [],
   "source": []
  },
  {
   "cell_type": "code",
   "execution_count": 22,
   "metadata": {},
   "outputs": [
    {
     "data": {
      "text/plain": [
       "1284510"
      ]
     },
     "execution_count": 22,
     "metadata": {},
     "output_type": "execute_result"
    }
   ],
   "source": [
    "len(imgses)"
   ]
  },
  {
   "cell_type": "code",
   "execution_count": null,
   "metadata": {},
   "outputs": [],
   "source": [
    "imgs2 = glob('')"
   ]
  },
  {
   "cell_type": "code",
   "execution_count": 21,
   "metadata": {},
   "outputs": [
    {
     "data": {
      "text/plain": [
       "476766"
      ]
     },
     "execution_count": 21,
     "metadata": {},
     "output_type": "execute_result"
    }
   ],
   "source": [
    "len(txts)"
   ]
  },
  {
   "cell_type": "code",
   "execution_count": null,
   "metadata": {},
   "outputs": [],
   "source": [
    "\n"
   ]
  }
 ],
 "metadata": {
  "kernelspec": {
   "display_name": "Python 3",
   "language": "python",
   "name": "python3"
  },
  "language_info": {
   "codemirror_mode": {
    "name": "ipython",
    "version": 3
   },
   "file_extension": ".py",
   "mimetype": "text/x-python",
   "name": "python",
   "nbconvert_exporter": "python",
   "pygments_lexer": "ipython3",
   "version": "3.8.10"
  },
  "orig_nbformat": 4,
  "vscode": {
   "interpreter": {
    "hash": "916dbcbb3f70747c44a77c7bcd40155683ae19c65e1c03b4aa3499c5328201f1"
   }
  }
 },
 "nbformat": 4,
 "nbformat_minor": 2
}
