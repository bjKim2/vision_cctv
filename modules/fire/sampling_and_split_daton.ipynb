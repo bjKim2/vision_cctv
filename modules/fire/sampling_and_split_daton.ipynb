{
 "cells": [
  {
   "cell_type": "code",
   "execution_count": 1,
   "metadata": {},
   "outputs": [],
   "source": [
    "from glob import glob\n",
    "import os\n",
    "import shutil\n",
    "from tqdm import tqdm\n",
    "import random"
   ]
  },
  {
   "cell_type": "code",
   "execution_count": 62,
   "metadata": {},
   "outputs": [],
   "source": [
    "## images 와 labels 폴더 포멧인 경우 random 42로 샘플링 \n",
    "\n",
    "def sampling(img_path,label_path, des_path, size):\n",
    "    if img_path[-1] == '/':\n",
    "        img_path = img_path[:-1]\n",
    "    if label_path[-1] == '/':\n",
    "        label_path = label_path[:-1]\n",
    "    if des_path[-1] == '/':\n",
    "        des_path = des_path[:-1]\n",
    "        \n",
    "    img_source_dir = img_path\n",
    "    label_source_dir = label_path\n",
    "    labels = sorted(glob(label_source_dir + '/*'))\n",
    "    # print(labels)\n",
    "    imgs = [i.replace('라벨_','')[:-3] + 'jpg' for i in labels]\n",
    "    # imgs = sorted(glob(img_source_dir + '/*'))\n",
    "    # labels = ['.']\n",
    "    img_des_path = des_path + '/sampled_images'\n",
    "    label_des_path = des_path + '/sampled_labels'\n",
    "    if not os.path.exists(img_des_path):\n",
    "        os.makedirs(img_des_path)\n",
    "        # print(1)\n",
    "    if not os.path.exists(label_des_path):\n",
    "        os.makedirs(label_des_path)\n",
    "    \n",
    "    random.seed(42)\n",
    "    random.shuffle(imgs)\n",
    "    random.seed(42)\n",
    "    random.shuffle(labels)\n",
    "\n",
    "    # print(imgs[:3])\n",
    "    # print(labels[:3])\n",
    "    img_size = int(size * len(imgs))\n",
    "    label_size = int(size * len(labels))\n",
    "    imgs = imgs[:img_size]\n",
    "    labels = labels[:label_size]\n",
    "\n",
    "    for i in tqdm(imgs):\n",
    "        shutil.copy(i,img_des_path)\n",
    "    for i in tqdm(labels):\n",
    "        shutil.copy(i,label_des_path)\n",
    "    "
   ]
  },
  {
   "cell_type": "code",
   "execution_count": 63,
   "metadata": {},
   "outputs": [],
   "source": [
    "\n",
    "img_dir = '/media/mws/DATA/fire_videos/Training/화재씬/'\n",
    "lab_dir = '/media/mws/DATA/fire_videos/Training/라벨_화재씬/'\n",
    "\n",
    "des_dir = '/home/mws/tmh/datasets/fire'\n"
   ]
  },
  {
   "cell_type": "code",
   "execution_count": 64,
   "metadata": {},
   "outputs": [
    {
     "name": "stderr",
     "output_type": "stream",
     "text": [
      "100%|██████████| 98631/98631 [08:55<00:00, 184.28it/s]\n",
      "100%|██████████| 98631/98631 [00:10<00:00, 9427.62it/s]\n"
     ]
    }
   ],
   "source": [
    "# sampling('../train_dataset/imgs2','../train_dataset/lbls','../train_dataset/aihub',0.3)\n",
    "sampling(img_dir,lab_dir,des_dir,0.2)"
   ]
  },
  {
   "cell_type": "code",
   "execution_count": 65,
   "metadata": {},
   "outputs": [
    {
     "name": "stderr",
     "output_type": "stream",
     "text": [
      "100%|██████████| 109551/109551 [06:36<00:00, 276.19it/s]\n",
      "100%|██████████| 109551/109551 [00:11<00:00, 9345.55it/s]\n",
      "100%|██████████| 48659/48659 [03:56<00:00, 206.18it/s]\n",
      "100%|██████████| 48659/48659 [00:06<00:00, 7491.24it/s]\n"
     ]
    }
   ],
   "source": [
    "img_dir = '/media/mws/DATA/fire_videos/Training/유사씬/'\n",
    "lab_dir = '/media/mws/DATA/fire_videos/Training/라벨_유사씬/'\n",
    "sampling(img_dir,lab_dir,des_dir,0.2)\n",
    "img_dir = '/media/mws/DATA/fire_videos/Training/무관씬/'\n",
    "lab_dir = '/media/mws/DATA/fire_videos/Training/라벨_무관씬/'\n",
    "sampling(img_dir,lab_dir,des_dir,0.2)"
   ]
  },
  {
   "cell_type": "code",
   "execution_count": 66,
   "metadata": {},
   "outputs": [
    {
     "ename": "NameError",
     "evalue": "name 'imgs1' is not defined",
     "output_type": "error",
     "traceback": [
      "\u001b[0;31m---------------------------------------------------------------------------\u001b[0m",
      "\u001b[0;31mNameError\u001b[0m                                 Traceback (most recent call last)",
      "Cell \u001b[0;32mIn[66], line 1\u001b[0m\n\u001b[0;32m----> 1\u001b[0m \u001b[39mprint\u001b[39m(\u001b[39mlen\u001b[39m(imgs1))\n\u001b[1;32m      2\u001b[0m \u001b[39mprint\u001b[39m(\u001b[39mlen\u001b[39m(imgs2))\n\u001b[1;32m      3\u001b[0m \u001b[39mprint\u001b[39m(\u001b[39mlen\u001b[39m(imgs3))\n",
      "\u001b[0;31mNameError\u001b[0m: name 'imgs1' is not defined"
     ]
    }
   ],
   "source": [
    "print(len(imgs1))\n",
    "print(len(imgs2))\n",
    "print(len(imgs3))\n",
    "len(txts)"
   ]
  },
  {
   "cell_type": "code",
   "execution_count": 67,
   "metadata": {},
   "outputs": [],
   "source": [
    "## ratio\n",
    "\n",
    "def train_valid_test_split(img_path,label_path,des_path,ratio):\n",
    "    if img_path[-1] == '/':\n",
    "        img_path = img_path[:-1]\n",
    "    if label_path[-1] == '/':\n",
    "        label_path = label_path[:-1]\n",
    "    if des_path[-1] == '/':\n",
    "        des_path = des_path[:-1]\n",
    "\n",
    "    imgs = sorted(glob(img_path + '/*'))\n",
    "    random.seed(42)\n",
    "    random.shuffle(imgs)\n",
    "    labels = [label_path + '/' + os.path.basename(i)[:-3] + 'txt' for i in imgs]\n",
    "    \n",
    "    # labels = sorted(glob(label_path + '/*'))\n",
    "\n",
    "    \n",
    "    print(des_path)\n",
    "    list01 = ['train', 'valid', 'test']\n",
    "\n",
    "    for dirname in list01:\n",
    "        if not os.path.exists(des_path + '/' + dirname):\n",
    "            os.mkdir(des_path + '/' + dirname)\n",
    "    for dirname in list01:\n",
    "        for dirname2 in ['images', 'labels']:\n",
    "            print(dirname2)\n",
    "            if not os.path.exists(des_path + '/' + dirname + '/' + dirname2):\n",
    "                os.mkdir(des_path + '/' + dirname + '/' + dirname2)\n",
    "\n",
    "    size = len(imgs)\n",
    "\n",
    "    \n",
    "\n",
    "    # random.seed(42)\n",
    "    # random.shuffle(labels)\n",
    "\n",
    "    ratio_sum = 0\n",
    "    for i in ratio:\n",
    "        ratio_sum += i\n",
    "\n",
    "    list02 = []\n",
    "    for idx, ratio in enumerate(ratio):\n",
    "        \n",
    "        if len(list02):        \n",
    "            list02.append(int(ratio / ratio_sum * len(imgs)) + list02[-1])\n",
    "        else:\n",
    "            list02.append(int(ratio / ratio_sum * len(imgs)))\n",
    "\n",
    "        if len(list02) == 2:\n",
    "            temp_imgs = imgs[list02[-2]:list02[-1]]\n",
    "            temp_labels = labels[list02[-2]:list02[-1]]\n",
    "\n",
    "        elif len(list02) == 3:\n",
    "            temp_imgs = imgs[list02[-2]:]\n",
    "            temp_labels = labels[list02[-2]:]\n",
    "            print('test')\n",
    "        else:\n",
    "            temp_imgs = imgs[:list02[-1]]\n",
    "            temp_labels = labels[:list02[-1]]\n",
    "\n",
    "        for i in range(len(temp_imgs)):\n",
    "            # print(temp_imgs[i])\n",
    "            # print(temp_labels[i])\n",
    "            \n",
    "            shutil.move(temp_imgs[i],des_path + '/' + list01[idx] + '/images')\n",
    "            shutil.move(temp_labels[i],des_path + '/' + list01[idx] + '/labels')\n",
    "        \n",
    "    print(list02)\n",
    "\n"
   ]
  },
  {
   "cell_type": "code",
   "execution_count": 68,
   "metadata": {},
   "outputs": [],
   "source": [
    "split_img_dir = '/home/mws/tmh/datasets/fire/sampled_images'\n",
    "split_lab_dir = '/home/mws/tmh/datasets/fire/sampled_labels'\n",
    "split_des_dir = '/home/mws/tmh/datasets/fire/'\n"
   ]
  },
  {
   "cell_type": "code",
   "execution_count": 69,
   "metadata": {},
   "outputs": [
    {
     "name": "stdout",
     "output_type": "stream",
     "text": [
      "/home/mws/tmh/datasets/fire\n",
      "images\n",
      "labels\n",
      "images\n",
      "labels\n",
      "images\n",
      "labels\n",
      "test\n",
      "[218314, 243998, 256840]\n"
     ]
    }
   ],
   "source": [
    "train_valid_test_split(split_img_dir,split_lab_dir,split_des_dir,[17,2,1])"
   ]
  },
  {
   "cell_type": "code",
   "execution_count": 70,
   "metadata": {},
   "outputs": [],
   "source": [
    "labs = glob('/home/mws/tmh/datasets/fire/*/labels/*.txt')"
   ]
  },
  {
   "cell_type": "code",
   "execution_count": 71,
   "metadata": {},
   "outputs": [
    {
     "data": {
      "text/plain": [
       "256841"
      ]
     },
     "execution_count": 71,
     "metadata": {},
     "output_type": "execute_result"
    }
   ],
   "source": [
    "len(labs)"
   ]
  },
  {
   "cell_type": "code",
   "execution_count": 72,
   "metadata": {},
   "outputs": [
    {
     "name": "stderr",
     "output_type": "stream",
     "text": [
      "100%|██████████| 256841/256841 [00:17<00:00, 14871.19it/s]\n"
     ]
    }
   ],
   "source": [
    "for i in tqdm(labs):\n",
    "    with open(i, 'r') as f:\n",
    "        datas = f.readlines()\n",
    "    if len(datas) == 0:\n",
    "        continue\n",
    "    new_datas = []\n",
    "    for data in datas:\n",
    "        new_data = str(int(data.split(' ')[0])-1) +' ' + ' '.join(data.split(' ')[1:])\n",
    "        new_datas.append(new_data)\n",
    "    with open(i, 'w') as f:\n",
    "        for i in new_datas:\n",
    "            f.write(i)"
   ]
  },
  {
   "cell_type": "code",
   "execution_count": null,
   "metadata": {},
   "outputs": [],
   "source": [
    "a = set()\n",
    "for i in tqdm(labs):\n",
    "    with open(i, 'r') as f:\n",
    "        datas = f.readlines()\n",
    "    if len(datas) == 0:\n",
    "        continue\n",
    "    new_datas = []\n",
    "    for data in datas:\n",
    "        a.add(data[0])"
   ]
  },
  {
   "cell_type": "code",
   "execution_count": null,
   "metadata": {},
   "outputs": [],
   "source": []
  }
 ],
 "metadata": {
  "kernelspec": {
   "display_name": "Python 3",
   "language": "python",
   "name": "python3"
  },
  "language_info": {
   "codemirror_mode": {
    "name": "ipython",
    "version": 3
   },
   "file_extension": ".py",
   "mimetype": "text/x-python",
   "name": "python",
   "nbconvert_exporter": "python",
   "pygments_lexer": "ipython3",
   "version": "3.8.10"
  },
  "orig_nbformat": 4,
  "vscode": {
   "interpreter": {
    "hash": "916dbcbb3f70747c44a77c7bcd40155683ae19c65e1c03b4aa3499c5328201f1"
   }
  }
 },
 "nbformat": 4,
 "nbformat_minor": 2
}
