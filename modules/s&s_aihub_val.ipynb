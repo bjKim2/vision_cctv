{
 "cells": [
  {
   "cell_type": "code",
   "execution_count": 34,
   "metadata": {},
   "outputs": [],
   "source": [
    "from glob import glob\n",
    "import os\n",
    "import shutil\n",
    "import random"
   ]
  },
  {
   "cell_type": "code",
   "execution_count": 78,
   "metadata": {},
   "outputs": [],
   "source": [
    "# labels3 = glob('../../datasets/aihub_safety/val/5.전체/*.json')\n",
    "labels1 = glob('../../datasets/aihub_safety/val/*/*/*/*.json')\n",
    "labels2 = glob('../../datasets/aihub_safety/val/*/*/*.json')\n",
    "labels = labels1 + labels2 \n",
    "# images1 = glob('../../datasets/aihub_safety/val/*/*.jpg')\n",
    "# images2 = glob('../../datasets/aihub_safety/val/*/*/*.jpg')\n",
    "# images = images1 + images2\n",
    "imgs = [i.replace('라벨','원천').replace('/5.전체','').replace('json', 'jpg') for i in labels]\n",
    "a = set()\n",
    "\n",
    "for i in labels:\n",
    "    a.add(os.path.dirname(i))\n",
    "a = list(a)"
   ]
  },
  {
   "cell_type": "code",
   "execution_count": 83,
   "metadata": {},
   "outputs": [
    {
     "data": {
      "text/plain": [
       "['../../datasets/aihub_safety/val/[라벨]1.공동주택/고양힐스테이트/3.구조물_비계만',\n",
       " '../../datasets/aihub_safety/val/[라벨]1.공동주택/고양힐스테이트/4.자재및공구만',\n",
       " '../../datasets/aihub_safety/val/[라벨]1.공동주택/동탄/3.구조물_비계만',\n",
       " '../../datasets/aihub_safety/val/[라벨]1.공동주택/동탄/4.자재및공구만',\n",
       " '../../datasets/aihub_safety/val/[라벨]1.공동주택/동탄/5.전체',\n",
       " '../../datasets/aihub_safety/val/[라벨]1.공동주택/서대문/3.구조물_비계만',\n",
       " '../../datasets/aihub_safety/val/[라벨]1.공동주택/서대문/4.자재및공구만',\n",
       " '../../datasets/aihub_safety/val/[라벨]1.공동주택/서대문/5.전체',\n",
       " '../../datasets/aihub_safety/val/[라벨]1.공동주택/성남 금빛매종 공동주택 신축공사/3.구조물_비계만',\n",
       " '../../datasets/aihub_safety/val/[라벨]1.공동주택/성남 금빛매종 공동주택 신축공사/4.자재및공구만',\n",
       " '../../datasets/aihub_safety/val/[라벨]1.공동주택/송도호반/1.안전보호구만',\n",
       " '../../datasets/aihub_safety/val/[라벨]1.공동주택/송도호반/2.중장비만',\n",
       " '../../datasets/aihub_safety/val/[라벨]1.공동주택/송도호반/3.구조물_비계만',\n",
       " '../../datasets/aihub_safety/val/[라벨]1.공동주택/송도호반/4.자재및공구만',\n",
       " '../../datasets/aihub_safety/val/[라벨]1.공동주택/송도호반/5.전체',\n",
       " '../../datasets/aihub_safety/val/[라벨]1.공동주택/주안 재건축/2.중장비만',\n",
       " '../../datasets/aihub_safety/val/[라벨]1.공동주택/주안 재건축/3.구조물_비계만',\n",
       " '../../datasets/aihub_safety/val/[라벨]1.공동주택/주안 재건축/4.자재및공구만',\n",
       " '../../datasets/aihub_safety/val/[라벨]1.공동주택/주안 재건축/5.전체',\n",
       " '../../datasets/aihub_safety/val/[라벨]1.공동주택/하남감일 A-7BL 11공구 아파트 신축공사/1.안전보호구만',\n",
       " '../../datasets/aihub_safety/val/[라벨]1.공동주택/하남감일 A-7BL 11공구 아파트 신축공사/2.중장비만',\n",
       " '../../datasets/aihub_safety/val/[라벨]1.공동주택/하남감일 A-7BL 11공구 아파트 신축공사/3.구조물_비계만',\n",
       " '../../datasets/aihub_safety/val/[라벨]1.공동주택/하남감일 A-7BL 11공구 아파트 신축공사/4.자재및공구만',\n",
       " '../../datasets/aihub_safety/val/[라벨]1.공동주택/하남감일 A-7BL 11공구 아파트 신축공사/5.전체x',\n",
       " '../../datasets/aihub_safety/val/[라벨]2.공연장_부산 오페라 하우스 신축공사/3.구조물_비계만',\n",
       " '../../datasets/aihub_safety/val/[라벨]2.공연장_부산 오페라 하우스 신축공사/4.자재및공구만',\n",
       " '../../datasets/aihub_safety/val/[라벨]2.공연장_부산 오페라 하우스 신축공사/5.전체',\n",
       " '../../datasets/aihub_safety/val/[라벨]3.공장_가산동 A1타워 지식산업 센터/3.구조물_비계만',\n",
       " '../../datasets/aihub_safety/val/[라벨]3.공장_가산동 A1타워 지식산업 센터/4.자재및공구만',\n",
       " '../../datasets/aihub_safety/val/[라벨]3.공장_가산동 A1타워 지식산업 센터/5.전체',\n",
       " '../../datasets/aihub_safety/val/[라벨]4.공항시설/인천공항 제2여객터미널 증축공사(동측)/3.구조물_비계만',\n",
       " '../../datasets/aihub_safety/val/[라벨]4.공항시설/인천공항 제2여객터미널 증축공사(동측)/4.자재및공구만',\n",
       " '../../datasets/aihub_safety/val/[라벨]4.공항시설/인천공항 제2여객터미널 증축공사(동측)/5.전체x',\n",
       " '../../datasets/aihub_safety/val/[라벨]4.공항시설/인천공항 제2여객터미널 증축공사(서측)/1.안전보호구만',\n",
       " '../../datasets/aihub_safety/val/[라벨]4.공항시설/인천공항 제2여객터미널 증축공사(서측)/3.구조물_비계만',\n",
       " '../../datasets/aihub_safety/val/[라벨]4.공항시설/인천공항 제2여객터미널 증축공사(서측)/4.자재및공구만',\n",
       " '../../datasets/aihub_safety/val/[라벨]4.공항시설/인천공항 제2여객터미널 증축공사(서측)/5.전체x',\n",
       " '../../datasets/aihub_safety/val/[라벨]5.물류센터/반도체 장비 클러스터 신축공사/3.구조물_비계만',\n",
       " '../../datasets/aihub_safety/val/[라벨]5.물류센터/반도체 장비 클러스터 신축공사/4.자재및공구만',\n",
       " '../../datasets/aihub_safety/val/[라벨]5.물류센터/반도체 장비 클러스터 신축공사/5.전체',\n",
       " '../../datasets/aihub_safety/val/[라벨]5.물류센터/인천공항 화물터미널E/3.구조물_비계만',\n",
       " '../../datasets/aihub_safety/val/[라벨]5.물류센터/인천공항 화물터미널E/4.자재및공구만',\n",
       " '../../datasets/aihub_safety/val/[라벨]5.물류센터/인천공항 화물터미널E/5.전체',\n",
       " '../../datasets/aihub_safety/val/[라벨]6.상업시설/송도동/2.중장비만',\n",
       " '../../datasets/aihub_safety/val/[라벨]6.상업시설/송도동/3.구조물_비계만',\n",
       " '../../datasets/aihub_safety/val/[라벨]6.상업시설/송도동/4.자재및공구만',\n",
       " '../../datasets/aihub_safety/val/[라벨]6.상업시설/송도동/5.전체',\n",
       " '../../datasets/aihub_safety/val/[라벨]6.상업시설/신사동 복합 시설/3.구조물_비계만',\n",
       " '../../datasets/aihub_safety/val/[라벨]6.상업시설/신사동 복합 시설/4.자재및공구만',\n",
       " '../../datasets/aihub_safety/val/[라벨]6.상업시설/신사동 복합 시설/5.전체',\n",
       " '../../datasets/aihub_safety/val/[라벨]7.스튜디오/스튜디오/2.중장비만',\n",
       " '../../datasets/aihub_safety/val/[라벨]7.스튜디오/스튜디오/4.자재및공구만',\n",
       " '../../datasets/aihub_safety/val/[라벨]8.오피스_문정동 KG 사옥 신축공사/1.안전보호구만',\n",
       " '../../datasets/aihub_safety/val/[라벨]8.오피스_문정동 KG 사옥 신축공사/2.중장비만',\n",
       " '../../datasets/aihub_safety/val/[라벨]8.오피스_문정동 KG 사옥 신축공사/3.구조물_비계만',\n",
       " '../../datasets/aihub_safety/val/[라벨]8.오피스_문정동 KG 사옥 신축공사/4.자재및공구만',\n",
       " '../../datasets/aihub_safety/val/[라벨]8.오피스_문정동 KG 사옥 신축공사/5.전체',\n",
       " '../../datasets/aihub_safety/val/[라벨]9.주차장_고양스타필드/1.안전보호구만',\n",
       " '../../datasets/aihub_safety/val/[라벨]9.주차장_고양스타필드/2.중장비만',\n",
       " '../../datasets/aihub_safety/val/[라벨]9.주차장_고양스타필드/3.구조물_비계만',\n",
       " '../../datasets/aihub_safety/val/[라벨]9.주차장_고양스타필드/4.자재및공구만',\n",
       " '../../datasets/aihub_safety/val/[라벨]9.주차장_고양스타필드/5.전체x']"
      ]
     },
     "execution_count": 83,
     "metadata": {},
     "output_type": "execute_result"
    }
   ],
   "source": [
    "a.sort()\n",
    "a"
   ]
  },
  {
   "cell_type": "code",
   "execution_count": 76,
   "metadata": {},
   "outputs": [],
   "source": [
    "for label in labels:\n",
    "    if os.path.basename(label) == 'S2-N0509M00883.json':\n",
    "        print(label)"
   ]
  },
  {
   "cell_type": "code",
   "execution_count": 77,
   "metadata": {},
   "outputs": [
    {
     "name": "stdout",
     "output_type": "stream",
     "text": [
      "56377 56377\n"
     ]
    }
   ],
   "source": [
    "print(len(imgs), len(labels))"
   ]
  },
  {
   "cell_type": "code",
   "execution_count": 80,
   "metadata": {},
   "outputs": [
    {
     "data": {
      "text/plain": [
       "'../../datasets/aihub_safety/val/[원천]6.상업시설/송도동/S2-N2001M40855.jpg'"
      ]
     },
     "execution_count": 80,
     "metadata": {},
     "output_type": "execute_result"
    }
   ],
   "source": [
    "imgs[0]"
   ]
  },
  {
   "cell_type": "code",
   "execution_count": 81,
   "metadata": {},
   "outputs": [],
   "source": [
    "random.seed(42)\n",
    "random.shuffle(a)"
   ]
  },
  {
   "cell_type": "code",
   "execution_count": 82,
   "metadata": {},
   "outputs": [
    {
     "data": {
      "text/plain": [
       "['../../datasets/aihub_safety/val/[라벨]9.주차장_고양스타필드/3.구조물_비계만',\n",
       " '../../datasets/aihub_safety/val/[라벨]4.공항시설/인천공항 제2여객터미널 증축공사(동측)/3.구조물_비계만',\n",
       " '../../datasets/aihub_safety/val/[라벨]5.물류센터/인천공항 화물터미널E/4.자재및공구만',\n",
       " '../../datasets/aihub_safety/val/[라벨]3.공장_가산동 A1타워 지식산업 센터/3.구조물_비계만',\n",
       " '../../datasets/aihub_safety/val/[라벨]1.공동주택/동탄/5.전체',\n",
       " '../../datasets/aihub_safety/val/[라벨]1.공동주택/주안 재건축/2.중장비만',\n",
       " '../../datasets/aihub_safety/val/[라벨]7.스튜디오/스튜디오/4.자재및공구만',\n",
       " '../../datasets/aihub_safety/val/[라벨]6.상업시설/신사동 복합 시설/3.구조물_비계만',\n",
       " '../../datasets/aihub_safety/val/[라벨]4.공항시설/인천공항 제2여객터미널 증축공사(서측)/4.자재및공구만',\n",
       " '../../datasets/aihub_safety/val/[라벨]1.공동주택/하남감일 A-7BL 11공구 아파트 신축공사/2.중장비만',\n",
       " '../../datasets/aihub_safety/val/[라벨]4.공항시설/인천공항 제2여객터미널 증축공사(서측)/5.전체x',\n",
       " '../../datasets/aihub_safety/val/[라벨]1.공동주택/송도호반/2.중장비만',\n",
       " '../../datasets/aihub_safety/val/[라벨]3.공장_가산동 A1타워 지식산업 센터/4.자재및공구만',\n",
       " '../../datasets/aihub_safety/val/[라벨]4.공항시설/인천공항 제2여객터미널 증축공사(동측)/4.자재및공구만',\n",
       " '../../datasets/aihub_safety/val/[라벨]8.오피스_문정동 KG 사옥 신축공사/1.안전보호구만',\n",
       " '../../datasets/aihub_safety/val/[라벨]6.상업시설/신사동 복합 시설/5.전체',\n",
       " '../../datasets/aihub_safety/val/[라벨]1.공동주택/고양힐스테이트/4.자재및공구만',\n",
       " '../../datasets/aihub_safety/val/[라벨]4.공항시설/인천공항 제2여객터미널 증축공사(서측)/1.안전보호구만',\n",
       " '../../datasets/aihub_safety/val/[라벨]1.공동주택/고양힐스테이트/3.구조물_비계만',\n",
       " '../../datasets/aihub_safety/val/[라벨]1.공동주택/주안 재건축/4.자재및공구만',\n",
       " '../../datasets/aihub_safety/val/[라벨]6.상업시설/송도동/5.전체',\n",
       " '../../datasets/aihub_safety/val/[라벨]1.공동주택/서대문/3.구조물_비계만',\n",
       " '../../datasets/aihub_safety/val/[라벨]7.스튜디오/스튜디오/2.중장비만',\n",
       " '../../datasets/aihub_safety/val/[라벨]6.상업시설/송도동/4.자재및공구만',\n",
       " '../../datasets/aihub_safety/val/[라벨]5.물류센터/반도체 장비 클러스터 신축공사/5.전체',\n",
       " '../../datasets/aihub_safety/val/[라벨]4.공항시설/인천공항 제2여객터미널 증축공사(동측)/5.전체x',\n",
       " '../../datasets/aihub_safety/val/[라벨]8.오피스_문정동 KG 사옥 신축공사/2.중장비만',\n",
       " '../../datasets/aihub_safety/val/[라벨]8.오피스_문정동 KG 사옥 신축공사/4.자재및공구만',\n",
       " '../../datasets/aihub_safety/val/[라벨]1.공동주택/송도호반/3.구조물_비계만',\n",
       " '../../datasets/aihub_safety/val/[라벨]2.공연장_부산 오페라 하우스 신축공사/3.구조물_비계만',\n",
       " '../../datasets/aihub_safety/val/[라벨]6.상업시설/송도동/2.중장비만',\n",
       " '../../datasets/aihub_safety/val/[라벨]1.공동주택/주안 재건축/5.전체',\n",
       " '../../datasets/aihub_safety/val/[라벨]1.공동주택/송도호반/5.전체',\n",
       " '../../datasets/aihub_safety/val/[라벨]3.공장_가산동 A1타워 지식산업 센터/5.전체',\n",
       " '../../datasets/aihub_safety/val/[라벨]1.공동주택/하남감일 A-7BL 11공구 아파트 신축공사/3.구조물_비계만',\n",
       " '../../datasets/aihub_safety/val/[라벨]9.주차장_고양스타필드/4.자재및공구만',\n",
       " '../../datasets/aihub_safety/val/[라벨]5.물류센터/반도체 장비 클러스터 신축공사/4.자재및공구만',\n",
       " '../../datasets/aihub_safety/val/[라벨]8.오피스_문정동 KG 사옥 신축공사/3.구조물_비계만',\n",
       " '../../datasets/aihub_safety/val/[라벨]1.공동주택/서대문/4.자재및공구만',\n",
       " '../../datasets/aihub_safety/val/[라벨]2.공연장_부산 오페라 하우스 신축공사/5.전체',\n",
       " '../../datasets/aihub_safety/val/[라벨]1.공동주택/성남 금빛매종 공동주택 신축공사/4.자재및공구만',\n",
       " '../../datasets/aihub_safety/val/[라벨]9.주차장_고양스타필드/5.전체x',\n",
       " '../../datasets/aihub_safety/val/[라벨]9.주차장_고양스타필드/2.중장비만',\n",
       " '../../datasets/aihub_safety/val/[라벨]1.공동주택/주안 재건축/3.구조물_비계만',\n",
       " '../../datasets/aihub_safety/val/[라벨]6.상업시설/송도동/3.구조물_비계만',\n",
       " '../../datasets/aihub_safety/val/[라벨]1.공동주택/동탄/3.구조물_비계만',\n",
       " '../../datasets/aihub_safety/val/[라벨]1.공동주택/동탄/4.자재및공구만',\n",
       " '../../datasets/aihub_safety/val/[라벨]1.공동주택/하남감일 A-7BL 11공구 아파트 신축공사/4.자재및공구만',\n",
       " '../../datasets/aihub_safety/val/[라벨]6.상업시설/신사동 복합 시설/4.자재및공구만',\n",
       " '../../datasets/aihub_safety/val/[라벨]5.물류센터/인천공항 화물터미널E/3.구조물_비계만',\n",
       " '../../datasets/aihub_safety/val/[라벨]1.공동주택/하남감일 A-7BL 11공구 아파트 신축공사/5.전체x',\n",
       " '../../datasets/aihub_safety/val/[라벨]1.공동주택/하남감일 A-7BL 11공구 아파트 신축공사/1.안전보호구만',\n",
       " '../../datasets/aihub_safety/val/[라벨]5.물류센터/인천공항 화물터미널E/5.전체',\n",
       " '../../datasets/aihub_safety/val/[라벨]1.공동주택/성남 금빛매종 공동주택 신축공사/3.구조물_비계만',\n",
       " '../../datasets/aihub_safety/val/[라벨]1.공동주택/서대문/5.전체',\n",
       " '../../datasets/aihub_safety/val/[라벨]4.공항시설/인천공항 제2여객터미널 증축공사(서측)/3.구조물_비계만',\n",
       " '../../datasets/aihub_safety/val/[라벨]1.공동주택/송도호반/4.자재및공구만',\n",
       " '../../datasets/aihub_safety/val/[라벨]2.공연장_부산 오페라 하우스 신축공사/4.자재및공구만',\n",
       " '../../datasets/aihub_safety/val/[라벨]1.공동주택/송도호반/1.안전보호구만',\n",
       " '../../datasets/aihub_safety/val/[라벨]9.주차장_고양스타필드/1.안전보호구만',\n",
       " '../../datasets/aihub_safety/val/[라벨]8.오피스_문정동 KG 사옥 신축공사/5.전체',\n",
       " '../../datasets/aihub_safety/val/[라벨]5.물류센터/반도체 장비 클러스터 신축공사/3.구조물_비계만']"
      ]
     },
     "execution_count": 82,
     "metadata": {},
     "output_type": "execute_result"
    }
   ],
   "source": [
    "a"
   ]
  },
  {
   "cell_type": "code",
   "execution_count": 87,
   "metadata": {},
   "outputs": [
    {
     "name": "stdout",
     "output_type": "stream",
     "text": [
      "f_count : 500, count : 472, folder : ../../datasets/aihub_safety/val/[라벨]1.공동주택/서대문/5.전체\n",
      "f_count : 1000, count : 954, folder : ../../datasets/aihub_safety/val/[라벨]1.공동주택/서대문/5.전체\n",
      "f_count : 1500, count : 1431, folder : ../../datasets/aihub_safety/val/[라벨]1.공동주택/서대문/5.전체\n",
      "f_count : 2000, count : 1925, folder : ../../datasets/aihub_safety/val/[라벨]1.공동주택/송도호반/2.중장비만\n",
      "f_count : 2500, count : 2359, folder : ../../datasets/aihub_safety/val/[라벨]1.공동주택/송도호반/5.전체\n",
      "f_count : 3000, count : 2731, folder : ../../datasets/aihub_safety/val/[라벨]1.공동주택/송도호반/5.전체\n",
      "f_count : 3500, count : 3141, folder : ../../datasets/aihub_safety/val/[라벨]1.공동주택/하남감일 A-7BL 11공구 아파트 신축공사/1.안전보호구만\n",
      "f_count : 4000, count : 3641, folder : ../../datasets/aihub_safety/val/[라벨]1.공동주택/하남감일 A-7BL 11공구 아파트 신축공사/1.안전보호구만\n",
      "f_count : 4500, count : 4141, folder : ../../datasets/aihub_safety/val/[라벨]1.공동주택/하남감일 A-7BL 11공구 아파트 신축공사/2.중장비만\n",
      "f_count : 11000, count : 4332, folder : ../../datasets/aihub_safety/val/[라벨]3.공장_가산동 A1타워 지식산업 센터/5.전체\n",
      "f_count : 11500, count : 4688, folder : ../../datasets/aihub_safety/val/[라벨]3.공장_가산동 A1타워 지식산업 센터/5.전체\n",
      "f_count : 12000, count : 5047, folder : ../../datasets/aihub_safety/val/[라벨]3.공장_가산동 A1타워 지식산업 센터/5.전체\n",
      "f_count : 12500, count : 5414, folder : ../../datasets/aihub_safety/val/[라벨]3.공장_가산동 A1타워 지식산업 센터/5.전체\n",
      "f_count : 14000, count : 5593, folder : ../../datasets/aihub_safety/val/[라벨]4.공항시설/인천공항 제2여객터미널 증축공사(서측)/1.안전보호구만\n",
      "f_count : 14500, count : 6093, folder : ../../datasets/aihub_safety/val/[라벨]4.공항시설/인천공항 제2여객터미널 증축공사(서측)/1.안전보호구만\n",
      "f_count : 15000, count : 6593, folder : ../../datasets/aihub_safety/val/[라벨]4.공항시설/인천공항 제2여객터미널 증축공사(서측)/1.안전보호구만\n",
      "f_count : 15500, count : 7093, folder : ../../datasets/aihub_safety/val/[라벨]4.공항시설/인천공항 제2여객터미널 증축공사(서측)/1.안전보호구만\n",
      "f_count : 16000, count : 7593, folder : ../../datasets/aihub_safety/val/[라벨]4.공항시설/인천공항 제2여객터미널 증축공사(서측)/1.안전보호구만\n",
      "f_count : 17500, count : 8103, folder : ../../datasets/aihub_safety/val/[라벨]5.물류센터/반도체 장비 클러스터 신축공사/5.전체\n",
      "f_count : 18000, count : 8532, folder : ../../datasets/aihub_safety/val/[라벨]5.물류센터/인천공항 화물터미널E/5.전체\n",
      "f_count : 18500, count : 8984, folder : ../../datasets/aihub_safety/val/[라벨]5.물류센터/인천공항 화물터미널E/5.전체\n",
      "f_count : 19000, count : 9434, folder : ../../datasets/aihub_safety/val/[라벨]5.물류센터/인천공항 화물터미널E/5.전체\n",
      "f_count : 19500, count : 9891, folder : ../../datasets/aihub_safety/val/[라벨]5.물류센터/인천공항 화물터미널E/5.전체\n",
      "f_count : 20000, count : 10349, folder : ../../datasets/aihub_safety/val/[라벨]5.물류센터/인천공항 화물터미널E/5.전체\n",
      "f_count : 20500, count : 10818, folder : ../../datasets/aihub_safety/val/[라벨]6.상업시설/송도동/2.중장비만\n",
      "f_count : 21000, count : 11318, folder : ../../datasets/aihub_safety/val/[라벨]6.상업시설/송도동/2.중장비만\n",
      "f_count : 21500, count : 11811, folder : ../../datasets/aihub_safety/val/[라벨]6.상업시설/송도동/5.전체\n",
      "f_count : 22000, count : 12291, folder : ../../datasets/aihub_safety/val/[라벨]6.상업시설/송도동/5.전체\n",
      "f_count : 22500, count : 12733, folder : ../../datasets/aihub_safety/val/[라벨]7.스튜디오/스튜디오/2.중장비만\n",
      "f_count : 23000, count : 13233, folder : ../../datasets/aihub_safety/val/[라벨]8.오피스_문정동 KG 사옥 신축공사/2.중장비만\n",
      "f_count : 23500, count : 13483, folder : ../../datasets/aihub_safety/val/[라벨]8.오피스_문정동 KG 사옥 신축공사/5.전체\n",
      "f_count : 24000, count : 13850, folder : ../../datasets/aihub_safety/val/[라벨]9.주차장_고양스타필드/1.안전보호구만\n",
      "f_count : 24500, count : 14350, folder : ../../datasets/aihub_safety/val/[라벨]9.주차장_고양스타필드/1.안전보호구만\n",
      "f_count : 25000, count : 14850, folder : ../../datasets/aihub_safety/val/[라벨]9.주차장_고양스타필드/1.안전보호구만\n",
      "f_count : 25500, count : 15350, folder : ../../datasets/aihub_safety/val/[라벨]9.주차장_고양스타필드/1.안전보호구만\n",
      "f_count : 26000, count : 15850, folder : ../../datasets/aihub_safety/val/[라벨]9.주차장_고양스타필드/1.안전보호구만\n",
      "f_count : 26500, count : 16350, folder : ../../datasets/aihub_safety/val/[라벨]9.주차장_고양스타필드/1.안전보호구만\n",
      "f_count : 27000, count : 16850, folder : ../../datasets/aihub_safety/val/[라벨]9.주차장_고양스타필드/1.안전보호구만\n",
      "f_count : 27500, count : 17350, folder : ../../datasets/aihub_safety/val/[라벨]9.주차장_고양스타필드/1.안전보호구만\n",
      "f_count : 28000, count : 17850, folder : ../../datasets/aihub_safety/val/[라벨]9.주차장_고양스타필드/2.중장비만\n",
      "f_count : 28500, count : 18350, folder : ../../datasets/aihub_safety/val/[라벨]9.주차장_고양스타필드/2.중장비만\n",
      "f_count : 29000, count : 18850, folder : ../../datasets/aihub_safety/val/[라벨]9.주차장_고양스타필드/2.중장비만\n",
      "f_count : 29500, count : 19350, folder : ../../datasets/aihub_safety/val/[라벨]9.주차장_고양스타필드/2.중장비만\n"
     ]
    }
   ],
   "source": [
    "import json\n",
    "import cv2\n",
    "import numpy as np\n",
    "import shutil\n",
    "import random\n",
    "\n",
    "def coord_organize(box):\n",
    "    return [min(box[0],box[2]), min(box[1],box[3]), max(box[0],box[2]), max(box[1],box[3])]\n",
    "\n",
    "def cvt_yoloformat(xyxy,w,h):\n",
    "    box_w = xyxy[2] - xyxy[0]\n",
    "    box_h = xyxy[3] - xyxy[1]\n",
    "    return [(xyxy[0] + box_w/2)/w ,(xyxy[1] + box_h/2)/h, box_w/w, box_h/h ]\n",
    "\n",
    "\n",
    "def json_transform():\n",
    "    des_path = '../../datasets/aihub_safety/valid'\n",
    "    count = 0\n",
    "    f_count = 0\n",
    "\n",
    "    for i in a:\n",
    "        if(os.path.basename(i)[0] not in ['5','2','1']):\n",
    "            # if(os.path.basename(i)[0] not in ['2','1']):\n",
    "            continue\n",
    "        lbls = glob(i.replace('[','[[]') + '/*')\n",
    "        for j in lbls:\n",
    "            f_count += 1\n",
    "            # print(os.path.dirname(j).split('/')[-1][0] )\n",
    "            # if(os.path.dirname(j).split('/')[-1][0] == '2'):\n",
    "            #     # print(j.replace('2.중장비만','5.전체'), os.path.exists(j.replace('2.중장비만','5.전체')))\n",
    "            #     if os.path.exists(j.replace('2.중장비만','5.전체')):\n",
    "            #         print('change',j,' @ ',j.replace('2.중장비만','5.전체'))\n",
    "            #         j = j.replace('2.중장비만','5.전체')\n",
    "            # img_f = glob('../../datasets/aihub_safety/val/[[]원천]' + j.split('[라벨]')[1][0] + '*/' + os.path.basename(j)[:-4] +'jpg')\n",
    "            if os.path.dirname(j).split('/')[-1] == '5.전체x':\n",
    "                continue\n",
    "            img_f = j.replace('라벨','원천').replace('/5.전체','').replace('json', 'jpg').replace('/1.안전보호구만','').replace('/2.중장비만','')\n",
    "            # print('../../datasets/aihub_safety/val/[[]원천]' + j.split('[라벨]')[1][0] + '*/' + os.path.basename(j)[:-4] +'jpg')\n",
    "            try:\n",
    "                img = cv2.imread(img_f)\n",
    "            except Exception as e:\n",
    "                print(e)\n",
    "                print('j : ',j,'img_f : ',img_f)\n",
    "            # print(img)\n",
    "            w, h = img.shape[1] , img.shape[0]\n",
    "\n",
    "            try:\n",
    "                with open(j, 'r',encoding='utf-8-sig') as f:\n",
    "                    data = json.load(f)\n",
    "                    annos = data['annotations']\n",
    "            except Exception as e:\n",
    "                print(e)\n",
    "                try:\n",
    "                    with open(j, 'r') as f:\n",
    "                        data = json.load(f)\n",
    "                        annos = data['annotations']\n",
    "                except Exception as e:\n",
    "                    print(e, '\\n json data 읽기 실패')\n",
    "                    continue\n",
    "            \n",
    "\n",
    "            \n",
    "\n",
    "            data_extst = False\n",
    "            new_datas = []\n",
    "            \n",
    "            if len(annos):\n",
    "                for anno in annos:\n",
    "                    try:\n",
    "                        cls = int(anno['class'] )\n",
    "                        box = anno['box']\n",
    "                    except:\n",
    "                        cls = None\n",
    "                        box = []\n",
    "                    # print('box : ', box, 'cls : ', cls)\n",
    "                    # print((len(box)) and (int(cls) < 20))\n",
    "                    if (len(box)) and (int(cls) < 20):\n",
    "                        data_extst = True\n",
    "\n",
    "                        box = coord_organize(box)\n",
    "                        box = cvt_yoloformat(box,w,h)\n",
    "                        new_data = str(int(cls) - 1) + ' ' + ' '.join(str(k) for k in box)  + '\\n'\n",
    "            \n",
    "                        new_datas.append(new_data)\n",
    "\n",
    "                if(data_extst):\n",
    "                    count += 1\n",
    "                    try:\n",
    "\n",
    "                        shutil.copy(img_f , des_path + '/images') # image copy\n",
    "                        with open(des_path + '/labels/' + os.path.basename(j)[:-4] + 'txt', 'w') as f: # write converted labeled file\n",
    "                            for p in new_datas:\n",
    "                                f.write(p)\n",
    "                    except:\n",
    "                        print('failed to write files or can\\'t find image file', img_f,j)\n",
    "            if f_count % 500 == 0 : print(f'f_count : {f_count}, count : {count}, folder : {i}' ) \n",
    "json_transform()"
   ]
  },
  {
   "cell_type": "code",
   "execution_count": 49,
   "metadata": {},
   "outputs": [
    {
     "data": {
      "text/plain": [
       "9627"
      ]
     },
     "execution_count": 49,
     "metadata": {},
     "output_type": "execute_result"
    }
   ],
   "source": [
    "len(labels)"
   ]
  },
  {
   "cell_type": "code",
   "execution_count": 11,
   "metadata": {},
   "outputs": [
    {
     "data": {
      "text/plain": [
       "1657489"
      ]
     },
     "execution_count": 11,
     "metadata": {},
     "output_type": "execute_result"
    }
   ],
   "source": [
    "len(images)"
   ]
  },
  {
   "cell_type": "code",
   "execution_count": 12,
   "metadata": {},
   "outputs": [],
   "source": [
    "## images 와 labels 폴더 포멧인 경우 random 42로 샘플링 \n",
    "\n",
    "def sampling(img_path,label_path, des_path, size):\n",
    "    if img_path[-1] == '/':\n",
    "        img_path = img_path[:-1]\n",
    "    if label_path[-1] == '/':\n",
    "        label_path = label_path[:-1]\n",
    "    if des_path[-1] == '/':\n",
    "        des_path = des_path[:-1]\n",
    "        \n",
    "    img_source_dir = img_path\n",
    "    label_source_dir = label_path\n",
    "    imgs = sorted(glob(img_source_dir + '/*'))\n",
    "    # print(imgs[0].replace('images','labels')[:-3] + 'txt')\n",
    "    # return 0\n",
    "    labels = [i.replace('images','labels')[:-3] + 'txt' for i in imgs]\n",
    "    # labels = sorted(glob(label_source_dir + '/*'))\n",
    "    img_des_path = des_path + '/sampled_images'\n",
    "    label_des_path = des_path + '/sampled_labels'\n",
    "    if not os.path.exists(img_des_path):\n",
    "        os.makedirs(img_des_path)\n",
    "        print(1)\n",
    "    if not os.path.exists(label_des_path):\n",
    "        os.makedirs(label_des_path)\n",
    "    \n",
    "    random.seed(42)\n",
    "    random.shuffle(imgs)\n",
    "    random.seed(42)\n",
    "    random.shuffle(labels)\n",
    "\n",
    "    print(imgs[:3])\n",
    "    print(labels[:3])\n",
    "    img_size = int(size * len(imgs))\n",
    "    label_size = int(size * len(labels))\n",
    "    imgs = imgs[:img_size]\n",
    "    labels = labels[:label_size]\n",
    "\n",
    "    for i in imgs:\n",
    "        shutil.copy(i,img_des_path)\n",
    "    for i in labels:\n",
    "        shutil.copy(i,label_des_path)\n",
    "    "
   ]
  },
  {
   "cell_type": "code",
   "execution_count": 13,
   "metadata": {},
   "outputs": [],
   "source": [
    "ratio = 100000 / len(glob('../../datasets/aihub_safety/human_car/images/*'))\n"
   ]
  },
  {
   "cell_type": "code",
   "execution_count": 14,
   "metadata": {},
   "outputs": [
    {
     "data": {
      "text/plain": [
       "0.225392746861406"
      ]
     },
     "execution_count": 14,
     "metadata": {},
     "output_type": "execute_result"
    }
   ],
   "source": [
    "ratio"
   ]
  },
  {
   "cell_type": "code",
   "execution_count": 15,
   "metadata": {},
   "outputs": [
    {
     "data": {
      "text/plain": [
       "True"
      ]
     },
     "execution_count": 15,
     "metadata": {},
     "output_type": "execute_result"
    }
   ],
   "source": [
    "os.path.exists('../../datasets/aihub_safety/human_car/labels/S2-N0002M00001.txt')"
   ]
  },
  {
   "cell_type": "code",
   "execution_count": 16,
   "metadata": {},
   "outputs": [
    {
     "name": "stdout",
     "output_type": "stream",
     "text": [
      "1\n",
      "['../../datasets/aihub_safety/human_car/images/S2-N1106M07362.jpg', '../../datasets/aihub_safety/human_car/images/S2-N1105M07773.jpg', '../../datasets/aihub_safety/human_car/images/S2-N1802M07061.jpg']\n",
      "['../../datasets/aihub_safety/human_car/labels/S2-N1106M07362.txt', '../../datasets/aihub_safety/human_car/labels/S2-N1105M07773.txt', '../../datasets/aihub_safety/human_car/labels/S2-N1802M07061.txt']\n"
     ]
    }
   ],
   "source": [
    "sampling('../../datasets/aihub_safety/human_car/images','../../datasets/aihub_safety/human_car/labels','../../datasets/aihub_safety/sampled_human_car',ratio)"
   ]
  },
  {
   "cell_type": "code",
   "execution_count": 17,
   "metadata": {},
   "outputs": [],
   "source": [
    "## ratio\n",
    "\n",
    "def train_valid_test_split(img_path,label_path,des_path,ratio):\n",
    "    if img_path[-1] == '/':\n",
    "        img_path = img_path[:-1]\n",
    "    if label_path[-1] == '/':\n",
    "        label_path = label_path[:-1]\n",
    "    if des_path[-1] == '/':\n",
    "        des_path = des_path[:-1]\n",
    "\n",
    "    imgs = sorted(glob(img_path + '/*'))\n",
    "    random.seed(42)\n",
    "    random.shuffle(imgs)\n",
    "    # labels = [label_path + '/' + os.path.basename(i)[:-3] + 'txt' for i in imgs]\n",
    "    labels = sorted(glob(label_path + '/*'))\n",
    "\n",
    "    list01 = ['train', 'valid', 'test']\n",
    "\n",
    "    for dirname in list01:\n",
    "        if not os.path.exists(des_path + '/' + dirname):\n",
    "            os.mkdir(des_path + '/' + dirname)\n",
    "    for dirname in list01:\n",
    "        for dirname2 in ['images', 'labels']:\n",
    "            print(dirname2)\n",
    "            if not os.path.exists(des_path + '/' + dirname + '/' + dirname2):\n",
    "                os.mkdir(des_path + '/' + dirname + '/' + dirname2)\n",
    "\n",
    "    size = len(imgs)\n",
    "\n",
    "    \n",
    "\n",
    "    # random.seed(42)\n",
    "    # random.shuffle(labels)\n",
    "\n",
    "    ratio_sum = 0\n",
    "    for i in ratio:\n",
    "        ratio_sum += i\n",
    "\n",
    "    list02 = []\n",
    "    for idx, ratio in enumerate(ratio):\n",
    "        \n",
    "        if len(list02):        \n",
    "            list02.append(int(ratio / ratio_sum * len(imgs)) + list02[-1])\n",
    "        else:\n",
    "            list02.append(int(ratio / ratio_sum * len(imgs)))\n",
    "\n",
    "        if len(list02) == 2:\n",
    "            temp_imgs = imgs[list02[-2]:list02[-1]]\n",
    "            temp_labels = labels[list02[-2]:list02[-1]]\n",
    "\n",
    "        elif len(list02) == 3:\n",
    "            temp_imgs = imgs[list02[-2]:]\n",
    "            temp_labels = labels[list02[-2]:]\n",
    "            print('test')\n",
    "        else:\n",
    "            temp_imgs = imgs[:list02[-1]]\n",
    "            temp_labels = labels[:list02[-1]]\n",
    "\n",
    "        for i in range(len(temp_imgs)):\n",
    "            # print(temp_imgs[i])\n",
    "            # print(temp_labels[i])\n",
    "            \n",
    "            try:\n",
    "                shutil.copy(temp_labels[i],des_path + '/' + list01[idx] + '/labels')\n",
    "                shutil.copy(temp_imgs[i],des_path + '/' + list01[idx] + '/images')\n",
    "            except:\n",
    "                pass\n",
    "        \n",
    "    print(list02)\n",
    "\n"
   ]
  },
  {
   "cell_type": "code",
   "execution_count": 18,
   "metadata": {},
   "outputs": [
    {
     "name": "stdout",
     "output_type": "stream",
     "text": [
      "images\n",
      "labels\n",
      "images\n",
      "labels\n",
      "images\n",
      "labels\n",
      "test\n",
      "[85000, 95000, 100000]\n"
     ]
    }
   ],
   "source": [
    "train_valid_test_split('../../datasets/aihub_safety/sampled_human_car/sampled_images','../../datasets/aihub_safety/sampled_human_car/sampled_labels','../../datasets/aihub_safety/sampled_human_car',[17,2,1])"
   ]
  },
  {
   "cell_type": "code",
   "execution_count": null,
   "metadata": {},
   "outputs": [],
   "source": []
  }
 ],
 "metadata": {
  "kernelspec": {
   "display_name": "haha",
   "language": "python",
   "name": "haha"
  },
  "language_info": {
   "codemirror_mode": {
    "name": "ipython",
    "version": 3
   },
   "file_extension": ".py",
   "mimetype": "text/x-python",
   "name": "python",
   "nbconvert_exporter": "python",
   "pygments_lexer": "ipython3",
   "version": "3.9.5"
  },
  "orig_nbformat": 4,
  "vscode": {
   "interpreter": {
    "hash": "916dbcbb3f70747c44a77c7bcd40155683ae19c65e1c03b4aa3499c5328201f1"
   }
  }
 },
 "nbformat": 4,
 "nbformat_minor": 2
}
