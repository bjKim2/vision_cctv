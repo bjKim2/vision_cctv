{
 "cells": [
  {
   "cell_type": "code",
   "execution_count": 2,
   "metadata": {},
   "outputs": [
    {
     "data": {
      "image/png": "[encoded data removed]",
      "text/plain": [
       "<Figure size 640x480 with 1 Axes>"
      ]
     },
     "metadata": {},
     "output_type": "display_data"
    }
   ],
   "source": [
    "import matplotlib.pyplot as plt\n",
    "import numpy as np\n",
    "\n",
    "# 원의 중심 좌표와 반지름\n",
    "x, y, r = 0, 0, 1\n",
    "\n",
    "# 원 그리기\n",
    "plt.plot(x + r*np.cos(np.linspace(0, 2*np.pi, 100)), \n",
    "         y + r*np.sin(np.linspace(0, 2*np.pi, 100)))\n",
    "\n",
    "# 축 숨기기\n",
    "plt.axis('off')\n",
    "\n",
    "# 그래프 출력\n",
    "plt.show()\n"
   ]
  },
  {
   "cell_type": "code",
   "execution_count": 1,
   "metadata": {},
   "outputs": [],
   "source": [
    "from glob import glob\n",
    "import os\n",
    "import shutil\n",
    "import random"
   ]
  },
  {
   "cell_type": "code",
   "execution_count": 2,
   "metadata": {},
   "outputs": [],
   "source": [
    "## images 와 labels 폴더 포멧인 경우 random 42로 샘플링 \n",
    "\n",
    "def sampling(img_path,label_path, des_path, size):\n",
    "    if img_path[-1] == '/':\n",
    "        img_path = img_path[:-1]\n",
    "    if label_path[-1] == '/':\n",
    "        label_path = label_path[:-1]\n",
    "    if des_path[-1] == '/':\n",
    "        des_path = des_path[:-1]\n",
    "        \n",
    "    img_source_dir = img_path\n",
    "    label_source_dir = label_path\n",
    "    imgs = sorted(glob(img_source_dir + '/*'))\n",
    "    labels = sorted(glob(label_source_dir + '/*'))\n",
    "    img_des_path = des_path + '/sampled_images'\n",
    "    label_des_path = des_path + '/sampled_labels'\n",
    "    if not os.path.exists(img_des_path):\n",
    "        os.makedirs(img_des_path)\n",
    "        print(1)\n",
    "    if not os.path.exists(label_des_path):\n",
    "        os.makedirs(label_des_path)\n",
    "    \n",
    "    random.seed(42)\n",
    "    random.shuffle(imgs)\n",
    "    random.seed(42)\n",
    "    random.shuffle(labels)\n",
    "\n",
    "    print(imgs[:3])\n",
    "    print(labels[:3])\n",
    "    img_size = int(size * len(imgs))\n",
    "    label_size = int(size * len(labels))\n",
    "    imgs = imgs[:img_size]\n",
    "    labels = labels[:label_size]\n",
    "\n",
    "    for i in imgs:\n",
    "        shutil.copy(i,img_des_path)\n",
    "    for i in labels:\n",
    "        shutil.copy(i,label_des_path)\n",
    "    "
   ]
  },
  {
   "cell_type": "code",
   "execution_count": 5,
   "metadata": {},
   "outputs": [
    {
     "name": "stdout",
     "output_type": "stream",
     "text": [
      "1\n",
      "['../train_dataset/imgs2/2021-09-07_08-36-00_tue_sunny_out_ye-ma_CD0001_438.jpg', '../train_dataset/imgs2/2021-09-08_21-24-00_wed_sunny_out_se-yk_C12-0306_고2_533.jpg', '../train_dataset/imgs2/2021-09-02_07-54-00_thu_rainy_out_do-sa_C0053-1_312.jpg']\n",
      "[]\n"
     ]
    },
    {
     "ename": "KeyboardInterrupt",
     "evalue": "",
     "output_type": "error",
     "traceback": [
      "\u001b[0;31m---------------------------------------------------------------------------\u001b[0m",
      "\u001b[0;31mKeyboardInterrupt\u001b[0m                         Traceback (most recent call last)",
      "Cell \u001b[0;32mIn [5], line 1\u001b[0m\n\u001b[0;32m----> 1\u001b[0m sampling(\u001b[39m'\u001b[39;49m\u001b[39m../train_dataset/imgs2\u001b[39;49m\u001b[39m'\u001b[39;49m,\u001b[39m'\u001b[39;49m\u001b[39m../train_dataset/lbls\u001b[39;49m\u001b[39m'\u001b[39;49m,\u001b[39m'\u001b[39;49m\u001b[39m../train_dataset/aihub\u001b[39;49m\u001b[39m'\u001b[39;49m,\u001b[39m1\u001b[39;49m)\n",
      "Cell \u001b[0;32mIn [4], line 36\u001b[0m, in \u001b[0;36msampling\u001b[0;34m(img_path, label_path, des_path, size)\u001b[0m\n\u001b[1;32m     33\u001b[0m labels \u001b[39m=\u001b[39m labels[:label_size]\n\u001b[1;32m     35\u001b[0m \u001b[39mfor\u001b[39;00m i \u001b[39min\u001b[39;00m imgs:\n\u001b[0;32m---> 36\u001b[0m     shutil\u001b[39m.\u001b[39;49mcopy(i,img_des_path)\n\u001b[1;32m     37\u001b[0m \u001b[39mfor\u001b[39;00m i \u001b[39min\u001b[39;00m labels:\n\u001b[1;32m     38\u001b[0m     shutil\u001b[39m.\u001b[39mcopy(i,label_des_path)\n",
      "File \u001b[0;32m/usr/lib/python3.9/shutil.py:418\u001b[0m, in \u001b[0;36mcopy\u001b[0;34m(src, dst, follow_symlinks)\u001b[0m\n\u001b[1;32m    416\u001b[0m \u001b[39mif\u001b[39;00m os\u001b[39m.\u001b[39mpath\u001b[39m.\u001b[39misdir(dst):\n\u001b[1;32m    417\u001b[0m     dst \u001b[39m=\u001b[39m os\u001b[39m.\u001b[39mpath\u001b[39m.\u001b[39mjoin(dst, os\u001b[39m.\u001b[39mpath\u001b[39m.\u001b[39mbasename(src))\n\u001b[0;32m--> 418\u001b[0m copyfile(src, dst, follow_symlinks\u001b[39m=\u001b[39;49mfollow_symlinks)\n\u001b[1;32m    419\u001b[0m copymode(src, dst, follow_symlinks\u001b[39m=\u001b[39mfollow_symlinks)\n\u001b[1;32m    420\u001b[0m \u001b[39mreturn\u001b[39;00m dst\n",
      "File \u001b[0;32m/usr/lib/python3.9/shutil.py:275\u001b[0m, in \u001b[0;36mcopyfile\u001b[0;34m(src, dst, follow_symlinks)\u001b[0m\n\u001b[1;32m    273\u001b[0m \u001b[39melif\u001b[39;00m _USE_CP_SENDFILE:\n\u001b[1;32m    274\u001b[0m     \u001b[39mtry\u001b[39;00m:\n\u001b[0;32m--> 275\u001b[0m         _fastcopy_sendfile(fsrc, fdst)\n\u001b[1;32m    276\u001b[0m         \u001b[39mreturn\u001b[39;00m dst\n\u001b[1;32m    277\u001b[0m     \u001b[39mexcept\u001b[39;00m _GiveupOnFastCopy:\n",
      "File \u001b[0;32m/usr/lib/python3.9/shutil.py:152\u001b[0m, in \u001b[0;36m_fastcopy_sendfile\u001b[0;34m(fsrc, fdst)\u001b[0m\n\u001b[1;32m    150\u001b[0m \u001b[39mwhile\u001b[39;00m \u001b[39mTrue\u001b[39;00m:\n\u001b[1;32m    151\u001b[0m     \u001b[39mtry\u001b[39;00m:\n\u001b[0;32m--> 152\u001b[0m         sent \u001b[39m=\u001b[39m os\u001b[39m.\u001b[39;49msendfile(outfd, infd, offset, blocksize)\n\u001b[1;32m    153\u001b[0m     \u001b[39mexcept\u001b[39;00m \u001b[39mOSError\u001b[39;00m \u001b[39mas\u001b[39;00m err:\n\u001b[1;32m    154\u001b[0m         \u001b[39m# ...in oder to have a more informative exception.\u001b[39;00m\n\u001b[1;32m    155\u001b[0m         err\u001b[39m.\u001b[39mfilename \u001b[39m=\u001b[39m fsrc\u001b[39m.\u001b[39mname\n",
      "\u001b[0;31mKeyboardInterrupt\u001b[0m: "
     ]
    }
   ],
   "source": [
    "sampling('../train_dataset/imgs2','../train_dataset/lbls','../train_dataset/aihub',1)"
   ]
  },
  {
   "cell_type": "code",
   "execution_count": null,
   "metadata": {},
   "outputs": [],
   "source": []
  },
  {
   "cell_type": "code",
   "execution_count": 6,
   "metadata": {},
   "outputs": [],
   "source": [
    "## ratio\n",
    "\n",
    "def train_valid_test_split(img_path,label_path,des_path,ratio):\n",
    "    if img_path[-1] == '/':\n",
    "        img_path = img_path[:-1]\n",
    "    if label_path[-1] == '/':\n",
    "        label_path = label_path[:-1]\n",
    "    if des_path[-1] == '/':\n",
    "        des_path = des_path[:-1]\n",
    "\n",
    "    imgs = sorted(glob(img_path + '/*'))\n",
    "    random.seed(42)\n",
    "    random.shuffle(imgs)\n",
    "    labels = [label_path + '/' + os.path.basename(i)[:-3] + 'txt' for i in imgs]\n",
    "    \n",
    "    # labels = sorted(glob(label_path + '/*'))\n",
    "\n",
    "    list01 = ['train', 'valid', 'test']\n",
    "\n",
    "    for dirname in list01:\n",
    "        if not os.path.exists(des_path + '/' + dirname):\n",
    "            os.mkdir(des_path + '/' + dirname)\n",
    "    for dirname in list01:\n",
    "        for dirname2 in ['images', 'labels']:\n",
    "            print(dirname2)\n",
    "            if not os.path.exists(des_path + '/' + dirname + '/' + dirname2):\n",
    "                os.mkdir(des_path + '/' + dirname + '/' + dirname2)\n",
    "\n",
    "    size = len(imgs)\n",
    "\n",
    "    \n",
    "\n",
    "    # random.seed(42)\n",
    "    # random.shuffle(labels)\n",
    "\n",
    "    ratio_sum = 0\n",
    "    for i in ratio:\n",
    "        ratio_sum += i\n",
    "\n",
    "    list02 = []\n",
    "    for idx, ratio in enumerate(ratio):\n",
    "        \n",
    "        if len(list02):        \n",
    "            list02.append(int(ratio / ratio_sum * len(imgs)) + list02[-1])\n",
    "        else:\n",
    "            list02.append(int(ratio / ratio_sum * len(imgs)))\n",
    "\n",
    "        if len(list02) == 2:\n",
    "            temp_imgs = imgs[list02[-2]:list02[-1]]\n",
    "            temp_labels = labels[list02[-2]:list02[-1]]\n",
    "\n",
    "        elif len(list02) == 3:\n",
    "            temp_imgs = imgs[list02[-2]:]\n",
    "            temp_labels = labels[list02[-2]:]\n",
    "            print('test')\n",
    "        else:\n",
    "            temp_imgs = imgs[:list02[-1]]\n",
    "            temp_labels = labels[:list02[-1]]\n",
    "\n",
    "        for i in range(len(temp_imgs)):\n",
    "            # print(temp_imgs[i])\n",
    "            # print(temp_labels[i])\n",
    "            try:\n",
    "                shutil.copy(temp_labels[i],des_path + '/' + list01[idx] + '/labels')\n",
    "                shutil.copy(temp_imgs[i],des_path + '/' + list01[idx] + '/images')\n",
    "            except:\n",
    "                pass\n",
    "        \n",
    "    print(list02)\n",
    "\n"
   ]
  },
  {
   "cell_type": "code",
   "execution_count": 7,
   "metadata": {},
   "outputs": [
    {
     "name": "stdout",
     "output_type": "stream",
     "text": [
      "images\n",
      "labels\n",
      "images\n",
      "labels\n",
      "images\n",
      "labels\n",
      "test\n",
      "[3184, 3537, 3537]\n"
     ]
    }
   ],
   "source": [
    "train_valid_test_split('../../datasets/other_hatvest/images','../../datasets/other_hatvest/labels','../../datasets/other_hatvest',[18,2,0])"
   ]
  },
  {
   "cell_type": "code",
   "execution_count": null,
   "metadata": {},
   "outputs": [],
   "source": []
  }
 ],
 "metadata": {
  "kernelspec": {
   "display_name": "haha",
   "language": "python",
   "name": "haha"
  },
  "language_info": {
   "codemirror_mode": {
    "name": "ipython",
    "version": 3
   },
   "file_extension": ".py",
   "mimetype": "text/x-python",
   "name": "python",
   "nbconvert_exporter": "python",
   "pygments_lexer": "ipython3",
   "version": "3.9.5"
  },
  "orig_nbformat": 4,
  "vscode": {
   "interpreter": {
    "hash": "36cf16204b8548560b1c020c4e8fb5b57f0e4c58016f52f2d4be01e192833930"
   }
  }
 },
 "nbformat": 4,
 "nbformat_minor": 2
}
