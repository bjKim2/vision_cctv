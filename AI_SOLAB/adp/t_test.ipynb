{
 "cells": [
  {
   "attachments": {},
   "cell_type": "markdown",
   "metadata": {},
   "source": [
    "\n",
    "t 검정 (t-test)  \n",
    "모집단의 분산이나 표준편차를 알지 못할 때  \n",
    "모집단을 대표하는 표본으로부터 추정된 분산이나 표준편차를 가지고 검정하는 방법으로  \n",
    "“두 모집단의 평균간의 차이는 없다”라는 귀무가설과 “두 모집단의 평균 간에 차이가 있다”라는 대립가설   중에 하나를 선택할 수 있도록 하는 통계적 검정방법이다.  \n"
   ]
  },
  {
   "cell_type": "code",
   "execution_count": 1,
   "metadata": {},
   "outputs": [],
   "source": [
    "# 단일 표본 t-test \n",
    "# 가정사항 정규성 불만족시 비모수 검정법으로 진행\n",
    "# 연구자들은 흔히 Shapiro-Wilk 등의 정규성 검정을 한 후, \n",
    "# p-value가 0.05보다 작게 나타나면, 정규 모집단이 아니라는 결론을 내리고 비모수 검정을 선택하고, \n",
    "# 더 크게 나타나면 모수 검정을 선택한다.\n",
    "# 귀무가설 : 단일 표본 평균 값이 모집단의 평균\n"
   ]
  },
  {
   "cell_type": "code",
   "execution_count": null,
   "metadata": {},
   "outputs": [],
   "source": [
    "\n",
    "# 문제는 모든 통계적 검정은 표본 수가 커지면 검정력(power)이 높아진다(p-value가 작아진다)는 점이다. \n",
    "# 다시 말해, 자료 수가 크면 정규분포에 매우 가깝다고 해도 p-value가 작아져 정규분포가 아니라는 결론을 얻게 되고(비모수 검정 선택), \n",
    "# 반대로 자료 수가 작으면 정규분포가 전혀 아닌 것 같아도 p-value가 크게 나타난다(모수 검정 선택)."
   ]
  },
  {
   "attachments": {},
   "cell_type": "markdown",
   "metadata": {},
   "source": [
    " 통계학 입문 책에 항상 등장하는 중심극한 정리(central limit theory)를 간략히 살펴보자. 이는 “모집단이 정규분포가 아닌 경우라 하더라도, 표본의 수가 충분히 크면(약 30개 이상), 표본 평균의 분포는 근사적으로 정규분포에 따른다.”라는 이론이다. 또한 대표적인 모수 검정법인 t 검정이 표본 수가 작은 경우에 평균을 비교하는 방법이며, 이때 정규 모집단이라는 가정이 필요하다는 사실과, 만약 표본 수가 충분히 크다면 정규 모집단이라는 가정도 필요 없이 z 검정으로 평균을 비교해도 된다는 점을 생각해 보자\n",
    "\n",
    " 따라서 정규성 검정의 목적이 2)라면, 표본 수가 충분히 큰 경우에는 정규성 검정을 할 필요도 없이 바로 모수 검정을 선택하면 된다. 반대로 표본 수가 30개 미만인데도 정규성 검정에서 p-value가 0.05보다 작게 나타나면 비모수 검정을 선택하면 된다.\n",
    "\n",
    " 정규성 검정\n",
    "일반적으로 표본수가 30 이상인 경우, 중심극한 정리에 의해 검정 없이도 정규성을 가정할\n",
    "수 있으며, 10~30개 사이이면, 정규성 검정(Kolmogrov-Smirnov test, Shapiro-Wilk\n",
    "test 등)을 통해 증명해야함. 10미만인 경우, 비모수적 방법을 통해 분석 시행함."
   ]
  },
  {
   "cell_type": "code",
   "execution_count": null,
   "metadata": {},
   "outputs": [],
   "source": [
    " "
   ]
  }
 ],
 "metadata": {
  "kernelspec": {
   "display_name": "haha",
   "language": "python",
   "name": "python3"
  },
  "language_info": {
   "codemirror_mode": {
    "name": "ipython",
    "version": 3
   },
   "file_extension": ".py",
   "mimetype": "text/x-python",
   "name": "python",
   "nbconvert_exporter": "python",
   "pygments_lexer": "ipython3",
   "version": "3.9.5"
  },
  "orig_nbformat": 4
 },
 "nbformat": 4,
 "nbformat_minor": 2
}
