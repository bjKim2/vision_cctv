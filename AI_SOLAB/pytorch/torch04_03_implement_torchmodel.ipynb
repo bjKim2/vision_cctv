{
 "cells": [
  {
   "cell_type": "code",
   "execution_count": 1,
   "metadata": {},
   "outputs": [],
   "source": [
    "import torch\n",
    "import torch.nn as nn\n",
    "import torch.nn.functional as F\n",
    "import torch.optim as optim\n"
   ]
  },
  {
   "cell_type": "code",
   "execution_count": 3,
   "metadata": {},
   "outputs": [],
   "source": [
    "model = nn.Sequential(\n",
    "    nn.Linear(2,1),\n",
    "    nn.Sigmoid()\n",
    ")"
   ]
  },
  {
   "cell_type": "code",
   "execution_count": 8,
   "metadata": {},
   "outputs": [],
   "source": [
    "\n",
    "class BinaryClassifier(nn.Module):\n",
    "    def __init__(self):\n",
    "        super().__init__()\n",
    "        self.linear = nn.Linear(2,1)\n",
    "        self.sigmoid = nn.Sigmoid()\n",
    "\n",
    "    def forward(self,x):\n",
    "        return self.sigmoid(self.linear(x))"
   ]
  },
  {
   "cell_type": "code",
   "execution_count": 9,
   "metadata": {},
   "outputs": [
    {
     "data": {
      "text/plain": [
       "<torch._C.Generator at 0x7fc64c2f0bf0>"
      ]
     },
     "execution_count": 9,
     "metadata": {},
     "output_type": "execute_result"
    }
   ],
   "source": [
    "torch.manual_seed(1)"
   ]
  },
  {
   "cell_type": "code",
   "execution_count": 10,
   "metadata": {},
   "outputs": [],
   "source": [
    "x_data = [[1, 2], [2, 3], [3, 1], [4, 3], [5, 3], [6, 2]]\n",
    "y_data = [[0], [0], [0], [1], [1], [1]]\n",
    "x_train = torch.FloatTensor(x_data)\n",
    "y_train = torch.FloatTensor(y_data)"
   ]
  },
  {
   "cell_type": "code",
   "execution_count": 11,
   "metadata": {},
   "outputs": [],
   "source": [
    "class BinaryClassifier(nn.Module):\n",
    "    def __init__(self):\n",
    "        super().__init__()\n",
    "        self.linear = nn.Linear(2,1)\n",
    "        self.sigmoid = nn.Sigmoid()\n",
    "    \n",
    "    def forward(self, x):\n",
    "        return self.sigmoid(self.linear(x))\n",
    "\n",
    "\n"
   ]
  },
  {
   "cell_type": "code",
   "execution_count": 12,
   "metadata": {},
   "outputs": [],
   "source": [
    "model = BinaryClassifier()"
   ]
  },
  {
   "cell_type": "code",
   "execution_count": 17,
   "metadata": {},
   "outputs": [
    {
     "name": "stdout",
     "output_type": "stream",
     "text": [
      "Epoch    0/1000 Cost: 0.488847 Accuracy 83.33%\n",
      "Epoch   10/1000 Cost: 0.394509 Accuracy 83.33%\n",
      "Epoch   20/1000 Cost: 0.323159 Accuracy 83.33%\n",
      "Epoch   30/1000 Cost: 0.264767 Accuracy 83.33%\n",
      "Epoch   40/1000 Cost: 0.219877 Accuracy 100.00%\n",
      "Epoch   50/1000 Cost: 0.185062 Accuracy 100.00%\n",
      "Epoch   60/1000 Cost: 0.158218 Accuracy 100.00%\n",
      "Epoch   70/1000 Cost: 0.137246 Accuracy 100.00%\n",
      "Epoch   80/1000 Cost: 0.120599 Accuracy 100.00%\n",
      "Epoch   90/1000 Cost: 0.107148 Accuracy 100.00%\n",
      "Epoch  100/1000 Cost: 0.096094 Accuracy 100.00%\n",
      "Epoch  110/1000 Cost: 0.086872 Accuracy 100.00%\n",
      "Epoch  120/1000 Cost: 0.079075 Accuracy 100.00%\n",
      "Epoch  130/1000 Cost: 0.072405 Accuracy 100.00%\n",
      "Epoch  140/1000 Cost: 0.066641 Accuracy 100.00%\n",
      "Epoch  150/1000 Cost: 0.061614 Accuracy 100.00%\n",
      "Epoch  160/1000 Cost: 0.057196 Accuracy 100.00%\n",
      "Epoch  170/1000 Cost: 0.053287 Accuracy 100.00%\n",
      "Epoch  180/1000 Cost: 0.049805 Accuracy 100.00%\n",
      "Epoch  190/1000 Cost: 0.046687 Accuracy 100.00%\n",
      "Epoch  200/1000 Cost: 0.043881 Accuracy 100.00%\n",
      "Epoch  210/1000 Cost: 0.041345 Accuracy 100.00%\n",
      "Epoch  220/1000 Cost: 0.039042 Accuracy 100.00%\n",
      "Epoch  230/1000 Cost: 0.036943 Accuracy 100.00%\n",
      "Epoch  240/1000 Cost: 0.035024 Accuracy 100.00%\n",
      "Epoch  250/1000 Cost: 0.033263 Accuracy 100.00%\n",
      "Epoch  260/1000 Cost: 0.031643 Accuracy 100.00%\n",
      "Epoch  270/1000 Cost: 0.030148 Accuracy 100.00%\n",
      "Epoch  280/1000 Cost: 0.028764 Accuracy 100.00%\n",
      "Epoch  290/1000 Cost: 0.027482 Accuracy 100.00%\n",
      "Epoch  300/1000 Cost: 0.026290 Accuracy 100.00%\n",
      "Epoch  310/1000 Cost: 0.025179 Accuracy 100.00%\n",
      "Epoch  320/1000 Cost: 0.024143 Accuracy 100.00%\n",
      "Epoch  330/1000 Cost: 0.023174 Accuracy 100.00%\n",
      "Epoch  340/1000 Cost: 0.022267 Accuracy 100.00%\n",
      "Epoch  350/1000 Cost: 0.021415 Accuracy 100.00%\n",
      "Epoch  360/1000 Cost: 0.020615 Accuracy 100.00%\n",
      "Epoch  370/1000 Cost: 0.019862 Accuracy 100.00%\n",
      "Epoch  380/1000 Cost: 0.019152 Accuracy 100.00%\n",
      "Epoch  390/1000 Cost: 0.018482 Accuracy 100.00%\n",
      "Epoch  400/1000 Cost: 0.017849 Accuracy 100.00%\n",
      "Epoch  410/1000 Cost: 0.017250 Accuracy 100.00%\n",
      "Epoch  420/1000 Cost: 0.016682 Accuracy 100.00%\n",
      "Epoch  430/1000 Cost: 0.016144 Accuracy 100.00%\n",
      "Epoch  440/1000 Cost: 0.015633 Accuracy 100.00%\n",
      "Epoch  450/1000 Cost: 0.015147 Accuracy 100.00%\n",
      "Epoch  460/1000 Cost: 0.014685 Accuracy 100.00%\n",
      "Epoch  470/1000 Cost: 0.014245 Accuracy 100.00%\n",
      "Epoch  480/1000 Cost: 0.013826 Accuracy 100.00%\n",
      "Epoch  490/1000 Cost: 0.013426 Accuracy 100.00%\n",
      "Epoch  500/1000 Cost: 0.013044 Accuracy 100.00%\n",
      "Epoch  510/1000 Cost: 0.012679 Accuracy 100.00%\n",
      "Epoch  520/1000 Cost: 0.012330 Accuracy 100.00%\n",
      "Epoch  530/1000 Cost: 0.011995 Accuracy 100.00%\n",
      "Epoch  540/1000 Cost: 0.011675 Accuracy 100.00%\n",
      "Epoch  550/1000 Cost: 0.011369 Accuracy 100.00%\n",
      "Epoch  560/1000 Cost: 0.011074 Accuracy 100.00%\n",
      "Epoch  570/1000 Cost: 0.010792 Accuracy 100.00%\n",
      "Epoch  580/1000 Cost: 0.010521 Accuracy 100.00%\n",
      "Epoch  590/1000 Cost: 0.010260 Accuracy 100.00%\n",
      "Epoch  600/1000 Cost: 0.010010 Accuracy 100.00%\n",
      "Epoch  610/1000 Cost: 0.009769 Accuracy 100.00%\n",
      "Epoch  620/1000 Cost: 0.009537 Accuracy 100.00%\n",
      "Epoch  630/1000 Cost: 0.009313 Accuracy 100.00%\n",
      "Epoch  640/1000 Cost: 0.009097 Accuracy 100.00%\n",
      "Epoch  650/1000 Cost: 0.008890 Accuracy 100.00%\n",
      "Epoch  660/1000 Cost: 0.008689 Accuracy 100.00%\n",
      "Epoch  670/1000 Cost: 0.008496 Accuracy 100.00%\n",
      "Epoch  680/1000 Cost: 0.008309 Accuracy 100.00%\n",
      "Epoch  690/1000 Cost: 0.008129 Accuracy 100.00%\n",
      "Epoch  700/1000 Cost: 0.007954 Accuracy 100.00%\n",
      "Epoch  710/1000 Cost: 0.007785 Accuracy 100.00%\n",
      "Epoch  720/1000 Cost: 0.007622 Accuracy 100.00%\n",
      "Epoch  730/1000 Cost: 0.007464 Accuracy 100.00%\n",
      "Epoch  740/1000 Cost: 0.007311 Accuracy 100.00%\n",
      "Epoch  750/1000 Cost: 0.007163 Accuracy 100.00%\n",
      "Epoch  760/1000 Cost: 0.007020 Accuracy 100.00%\n",
      "Epoch  770/1000 Cost: 0.006881 Accuracy 100.00%\n",
      "Epoch  780/1000 Cost: 0.006746 Accuracy 100.00%\n",
      "Epoch  790/1000 Cost: 0.006615 Accuracy 100.00%\n",
      "Epoch  800/1000 Cost: 0.006488 Accuracy 100.00%\n",
      "Epoch  810/1000 Cost: 0.006365 Accuracy 100.00%\n",
      "Epoch  820/1000 Cost: 0.006245 Accuracy 100.00%\n",
      "Epoch  830/1000 Cost: 0.006129 Accuracy 100.00%\n",
      "Epoch  840/1000 Cost: 0.006016 Accuracy 100.00%\n",
      "Epoch  850/1000 Cost: 0.005907 Accuracy 100.00%\n",
      "Epoch  860/1000 Cost: 0.005800 Accuracy 100.00%\n",
      "Epoch  870/1000 Cost: 0.005696 Accuracy 100.00%\n",
      "Epoch  880/1000 Cost: 0.005595 Accuracy 100.00%\n",
      "Epoch  890/1000 Cost: 0.005497 Accuracy 100.00%\n",
      "Epoch  900/1000 Cost: 0.005401 Accuracy 100.00%\n",
      "Epoch  910/1000 Cost: 0.005308 Accuracy 100.00%\n",
      "Epoch  920/1000 Cost: 0.005218 Accuracy 100.00%\n",
      "Epoch  930/1000 Cost: 0.005129 Accuracy 100.00%\n",
      "Epoch  940/1000 Cost: 0.005043 Accuracy 100.00%\n",
      "Epoch  950/1000 Cost: 0.004959 Accuracy 100.00%\n",
      "Epoch  960/1000 Cost: 0.004878 Accuracy 100.00%\n",
      "Epoch  970/1000 Cost: 0.004798 Accuracy 100.00%\n",
      "Epoch  980/1000 Cost: 0.004720 Accuracy 100.00%\n",
      "Epoch  990/1000 Cost: 0.004644 Accuracy 100.00%\n",
      "Epoch 1000/1000 Cost: 0.004570 Accuracy 100.00%\n"
     ]
    }
   ],
   "source": [
    "optimizer = optim.Adam(model.parameters(),lr = 0.1)\n",
    "\n",
    "nb_epochs = 1000\n",
    "\n",
    "for epoch in range(nb_epochs+1):\n",
    "\n",
    "    hypothesis = model(x_train)\n",
    "\n",
    "    # cost 계산\n",
    "    cost = F.binary_cross_entropy(hypothesis,y_train)\n",
    "\n",
    "    # cost로 H(x) 개선\n",
    "    optimizer.zero_grad()\n",
    "    cost.backward()\n",
    "    optimizer.step()\n",
    "\n",
    "    if epoch % 10 ==0:\n",
    "        prediction = hypothesis >= torch.FloatTensor([0.5]) # 예측값이 0.5를 넘으면 True로 간주\n",
    "        correct_prediction = prediction.float() == y_train\n",
    "        accuracy = correct_prediction.sum().item() / len(correct_prediction)\n",
    "        print('Epoch {:4d}/{} Cost: {:.6f} Accuracy {:2.2f}%'.format(\n",
    "            epoch,nb_epochs, cost.item(), accuracy * 100,\n",
    "        ))"
   ]
  },
  {
   "cell_type": "code",
   "execution_count": null,
   "metadata": {},
   "outputs": [],
   "source": []
  }
 ],
 "metadata": {
  "kernelspec": {
   "display_name": "haha",
   "language": "python",
   "name": "haha"
  },
  "orig_nbformat": 4
 },
 "nbformat": 4,
 "nbformat_minor": 2
}
