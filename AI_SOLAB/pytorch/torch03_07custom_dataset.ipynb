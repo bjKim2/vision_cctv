{
 "cells": [
  {
   "cell_type": "code",
   "execution_count": 81,
   "metadata": {},
   "outputs": [
    {
     "data": {
      "text/plain": [
       "<torch._C.Generator at 0x7f647a933bd0>"
      ]
     },
     "execution_count": 81,
     "metadata": {},
     "output_type": "execute_result"
    }
   ],
   "source": [
    "import torch\n",
    "import torch.nn as nn\n",
    "import torch.nn.functional as F\n",
    "import torch.optim as optim\n",
    "\n",
    "torch.manual_seed(1)"
   ]
  },
  {
   "cell_type": "code",
   "execution_count": 82,
   "metadata": {},
   "outputs": [],
   "source": [
    "class CustomDataset(torch.utils.data.Dataset):\n",
    "    def __init__(self):\n",
    "        self.x_data = [[73, 80, 75],\n",
    "                    [93, 88, 93],\n",
    "                    [89, 91, 90],\n",
    "                    [96, 98, 100],\n",
    "                    [73, 66, 70]]\n",
    "        self.y_data = [[152], [185], [180], [196], [142]]\n",
    "    def __len__(self):\n",
    "        return len(self.x_data)\n",
    "    def __getitem__(self, idx):\n",
    "        x = torch.FloatTensor(self.x_data[idx])\n",
    "        y = torch.FloatTensor(self.y_data[idx])\n",
    "        return x,y\n",
    "\n"
   ]
  },
  {
   "cell_type": "code",
   "execution_count": 83,
   "metadata": {},
   "outputs": [],
   "source": [
    "from torch.utils.data import Dataset\n",
    "from torch.utils.data import DataLoader\n"
   ]
  },
  {
   "cell_type": "code",
   "execution_count": 84,
   "metadata": {},
   "outputs": [],
   "source": [
    "dataset = CustomDataset()\n",
    "dataloader = DataLoader(dataset,batch_size = 2, shuffle = True)"
   ]
  },
  {
   "cell_type": "code",
   "execution_count": 85,
   "metadata": {},
   "outputs": [],
   "source": [
    "model = torch.nn.Linear(3,1)\n",
    "optimizer = optim.SGD(model.parameters(), lr = 1e-5)"
   ]
  },
  {
   "cell_type": "code",
   "execution_count": 88,
   "metadata": {},
   "outputs": [
    {
     "name": "stdout",
     "output_type": "stream",
     "text": [
      "epoch :    0 / 20, batch : 0 / 3, cost : 0.099055\n",
      "epoch :    0 / 20, batch : 1 / 3, cost : 0.551563\n",
      "epoch :    0 / 20, batch : 2 / 3, cost : 0.183963\n",
      "epoch :    1 / 20, batch : 0 / 3, cost : 0.538566\n",
      "epoch :    1 / 20, batch : 1 / 3, cost : 0.011113\n",
      "epoch :    1 / 20, batch : 2 / 3, cost : 0.100354\n",
      "epoch :    2 / 20, batch : 0 / 3, cost : 0.542360\n",
      "epoch :    2 / 20, batch : 1 / 3, cost : 0.108761\n",
      "epoch :    2 / 20, batch : 2 / 3, cost : 0.214904\n",
      "epoch :    3 / 20, batch : 0 / 3, cost : 0.079006\n",
      "epoch :    3 / 20, batch : 1 / 3, cost : 0.074525\n",
      "epoch :    3 / 20, batch : 2 / 3, cost : 1.197458\n",
      "epoch :    4 / 20, batch : 0 / 3, cost : 0.230771\n",
      "epoch :    4 / 20, batch : 1 / 3, cost : 0.423315\n",
      "epoch :    4 / 20, batch : 2 / 3, cost : 0.024486\n",
      "epoch :    5 / 20, batch : 0 / 3, cost : 0.351858\n",
      "epoch :    5 / 20, batch : 1 / 3, cost : 0.296151\n",
      "epoch :    5 / 20, batch : 2 / 3, cost : 0.098105\n",
      "epoch :    6 / 20, batch : 0 / 3, cost : 0.041128\n",
      "epoch :    6 / 20, batch : 1 / 3, cost : 0.524094\n",
      "epoch :    6 / 20, batch : 2 / 3, cost : 0.101139\n",
      "epoch :    7 / 20, batch : 0 / 3, cost : 0.065579\n",
      "epoch :    7 / 20, batch : 1 / 3, cost : 0.089129\n",
      "epoch :    7 / 20, batch : 2 / 3, cost : 0.991868\n",
      "epoch :    8 / 20, batch : 0 / 3, cost : 0.493789\n",
      "epoch :    8 / 20, batch : 1 / 3, cost : 0.146240\n",
      "epoch :    8 / 20, batch : 2 / 3, cost : 0.013086\n",
      "epoch :    9 / 20, batch : 0 / 3, cost : 0.054865\n",
      "epoch :    9 / 20, batch : 1 / 3, cost : 0.414729\n",
      "epoch :    9 / 20, batch : 2 / 3, cost : 0.388244\n",
      "epoch :   10 / 20, batch : 0 / 3, cost : 0.046090\n",
      "epoch :   10 / 20, batch : 1 / 3, cost : 0.103471\n",
      "epoch :   10 / 20, batch : 2 / 3, cost : 1.151194\n",
      "epoch :   11 / 20, batch : 0 / 3, cost : 0.162574\n",
      "epoch :   11 / 20, batch : 1 / 3, cost : 0.370086\n",
      "epoch :   11 / 20, batch : 2 / 3, cost : 0.506061\n",
      "epoch :   12 / 20, batch : 0 / 3, cost : 0.067054\n",
      "epoch :   12 / 20, batch : 1 / 3, cost : 0.551030\n",
      "epoch :   12 / 20, batch : 2 / 3, cost : 0.019965\n",
      "epoch :   13 / 20, batch : 0 / 3, cost : 0.341302\n",
      "epoch :   13 / 20, batch : 1 / 3, cost : 0.302411\n",
      "epoch :   13 / 20, batch : 2 / 3, cost : 0.101139\n",
      "epoch :   14 / 20, batch : 0 / 3, cost : 0.049134\n",
      "epoch :   14 / 20, batch : 1 / 3, cost : 0.068840\n",
      "epoch :   14 / 20, batch : 2 / 3, cost : 1.090459\n",
      "epoch :   15 / 20, batch : 0 / 3, cost : 0.035268\n",
      "epoch :   15 / 20, batch : 1 / 3, cost : 0.383948\n",
      "epoch :   15 / 20, batch : 2 / 3, cost : 0.449573\n",
      "epoch :   16 / 20, batch : 0 / 3, cost : 0.060105\n",
      "epoch :   16 / 20, batch : 1 / 3, cost : 0.064163\n",
      "epoch :   16 / 20, batch : 2 / 3, cost : 0.994027\n",
      "epoch :   17 / 20, batch : 0 / 3, cost : 0.046527\n",
      "epoch :   17 / 20, batch : 1 / 3, cost : 0.341030\n",
      "epoch :   17 / 20, batch : 2 / 3, cost : 0.937708\n",
      "epoch :   18 / 20, batch : 0 / 3, cost : 0.496479\n",
      "epoch :   18 / 20, batch : 1 / 3, cost : 0.152757\n",
      "epoch :   18 / 20, batch : 2 / 3, cost : 0.013381\n",
      "epoch :   19 / 20, batch : 0 / 3, cost : 0.052624\n",
      "epoch :   19 / 20, batch : 1 / 3, cost : 0.525101\n",
      "epoch :   19 / 20, batch : 2 / 3, cost : 0.014594\n",
      "epoch :   20 / 20, batch : 0 / 3, cost : 0.399496\n",
      "epoch :   20 / 20, batch : 1 / 3, cost : 0.211115\n",
      "epoch :   20 / 20, batch : 2 / 3, cost : 0.032540\n"
     ]
    }
   ],
   "source": [
    "nb_epochs = 20\n",
    "for epoch in range(nb_epochs+1):\n",
    "    for batch_idx,samples in enumerate(dataloader):\n",
    "        x_train, y_train = samples\n",
    "        prediction = model(x_train)\n",
    "\n",
    "        cost = F.mse_loss(prediction,y_train)\n",
    "        optimizer.zero_grad()\n",
    "        cost.backward()\n",
    "        optimizer.step()\n",
    "\n",
    "        print(f\"epoch : {epoch:4d} / {nb_epochs}, batch : {batch_idx} / {len(dataloader)}, cost : {cost:.6f}\")"
   ]
  },
  {
   "cell_type": "code",
   "execution_count": null,
   "metadata": {},
   "outputs": [],
   "source": []
  },
  {
   "cell_type": "code",
   "execution_count": null,
   "metadata": {},
   "outputs": [],
   "source": []
  }
 ],
 "metadata": {
  "kernelspec": {
   "display_name": "haha",
   "language": "python",
   "name": "haha"
  },
  "orig_nbformat": 4
 },
 "nbformat": 4,
 "nbformat_minor": 2
}
